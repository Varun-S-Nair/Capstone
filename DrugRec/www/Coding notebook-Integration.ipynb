{
 "cells": [
  {
   "cell_type": "code",
   "execution_count": 1,
   "metadata": {},
   "outputs": [
    {
     "data": {
      "text/html": [
       "        <script type=\"text/javascript\">\n",
       "        window.PlotlyConfig = {MathJaxConfig: 'local'};\n",
       "        if (window.MathJax) {MathJax.Hub.Config({SVG: {font: \"STIX-Web\"}});}\n",
       "        if (typeof require !== 'undefined') {\n",
       "        require.undef(\"plotly\");\n",
       "        requirejs.config({\n",
       "            paths: {\n",
       "                'plotly': ['https://cdn.plot.ly/plotly-latest.min']\n",
       "            }\n",
       "        });\n",
       "        require(['plotly'], function(Plotly) {\n",
       "            window._Plotly = Plotly;\n",
       "        });\n",
       "        }\n",
       "        </script>\n",
       "        "
      ]
     },
     "metadata": {},
     "output_type": "display_data"
    }
   ],
   "source": [
    "import pandas as pd #Analysis \n",
    "import matplotlib.pyplot as plt #Visulization\n",
    "import seaborn as sns #Visulization\n",
    "import numpy as np #Analysis \n",
    "from scipy.stats import norm #Analysis \n",
    "from sklearn.preprocessing import StandardScaler #Analysis \n",
    "from scipy import stats #Analysis \n",
    "import warnings \n",
    "warnings.filterwarnings('ignore')\n",
    "%matplotlib inline\n",
    "import gc\n",
    "\n",
    "import os\n",
    "import string\n",
    "color = sns.color_palette()\n",
    "\n",
    "%matplotlib inline\n",
    "\n",
    "from plotly import tools\n",
    "import plotly.offline as py\n",
    "py.init_notebook_mode(connected=True)\n",
    "import plotly.graph_objs as go\n",
    "\n",
    "from sklearn import model_selection, preprocessing, metrics, ensemble, naive_bayes, linear_model\n",
    "from sklearn.feature_extraction.text import TfidfVectorizer, CountVectorizer\n",
    "from sklearn.decomposition import TruncatedSVD\n",
    "import lightgbm as lgb\n",
    "\n",
    "pd.options.mode.chained_assignment = None"
   ]
  },
  {
   "cell_type": "markdown",
   "metadata": {},
   "source": [
    "## Importing Data"
   ]
  },
  {
   "cell_type": "code",
   "execution_count": 4,
   "metadata": {},
   "outputs": [],
   "source": [
    "df_train = pd.read_csv(r\"C:\\Users\\p_amb\\Desktop\\CapstoneFinal\\DrugRec\\www\\Shuen's Data\\kuc-hackathon-winter-2018\\drugsComTrain_raw.csv\", parse_dates=[\"date\"])\n",
    "df_test = pd.read_csv(r\"C:\\Users\\p_amb\\Desktop\\CapstoneFinal\\DrugRec\\www\\Shuen's Data\\kuc-hackathon-winter-2018\\drugsComTest_raw.csv\", parse_dates=[\"date\"])"
   ]
  },
  {
   "cell_type": "code",
   "execution_count": 5,
   "metadata": {},
   "outputs": [],
   "source": [
    "df_all = pd.concat([df_train,df_test])"
   ]
  },
  {
   "cell_type": "code",
   "execution_count": 6,
   "metadata": {},
   "outputs": [],
   "source": [
    "df_disease = pd.read_csv(r\"C:\\Users\\p_amb\\Desktop\\CapstoneFinal\\DrugRec\\www\\Shuen's Data\\sdsort\\dia_t.csv\")\n",
    "df_symptoms = pd.read_csv(r\"C:\\Users\\p_amb\\Desktop\\CapstoneFinal\\DrugRec\\www\\Shuen's Data\\sdsort\\sym_t.csv\")\n",
    "df_dis_sym = pd.read_csv(r\"C:\\Users\\p_amb\\Desktop\\CapstoneFinal\\DrugRec\\www\\Shuen's Data\\sdsort\\diffsydiw.csv\")"
   ]
  },
  {
   "cell_type": "code",
   "execution_count": 7,
   "metadata": {},
   "outputs": [
    {
     "data": {
      "text/html": [
       "<div>\n",
       "<style scoped>\n",
       "    .dataframe tbody tr th:only-of-type {\n",
       "        vertical-align: middle;\n",
       "    }\n",
       "\n",
       "    .dataframe tbody tr th {\n",
       "        vertical-align: top;\n",
       "    }\n",
       "\n",
       "    .dataframe thead th {\n",
       "        text-align: right;\n",
       "    }\n",
       "</style>\n",
       "<table border=\"1\" class=\"dataframe\">\n",
       "  <thead>\n",
       "    <tr style=\"text-align: right;\">\n",
       "      <th></th>\n",
       "      <th>disease</th>\n",
       "      <th>symptom</th>\n",
       "      <th>weight</th>\n",
       "    </tr>\n",
       "  </thead>\n",
       "  <tbody>\n",
       "    <tr>\n",
       "      <th>0</th>\n",
       "      <td>1.0</td>\n",
       "      <td>7.0</td>\n",
       "      <td>1.0</td>\n",
       "    </tr>\n",
       "    <tr>\n",
       "      <th>1</th>\n",
       "      <td>1.0</td>\n",
       "      <td>275.0</td>\n",
       "      <td>1.0</td>\n",
       "    </tr>\n",
       "    <tr>\n",
       "      <th>2</th>\n",
       "      <td>1.0</td>\n",
       "      <td>173.0</td>\n",
       "      <td>1.0</td>\n",
       "    </tr>\n",
       "    <tr>\n",
       "      <th>3</th>\n",
       "      <td>1.0</td>\n",
       "      <td>54.0</td>\n",
       "      <td>1.0</td>\n",
       "    </tr>\n",
       "    <tr>\n",
       "      <th>4</th>\n",
       "      <td>1.0</td>\n",
       "      <td>32.0</td>\n",
       "      <td>1.0</td>\n",
       "    </tr>\n",
       "  </tbody>\n",
       "</table>\n",
       "</div>"
      ],
      "text/plain": [
       "   disease  symptom  weight\n",
       "0      1.0      7.0     1.0\n",
       "1      1.0    275.0     1.0\n",
       "2      1.0    173.0     1.0\n",
       "3      1.0     54.0     1.0\n",
       "4      1.0     32.0     1.0"
      ]
     },
     "execution_count": 7,
     "metadata": {},
     "output_type": "execute_result"
    }
   ],
   "source": [
    "df_dis_sym = df_dis_sym[['did', 'syd', 'wei']]\n",
    "df_dis_sym = df_dis_sym.sort_values(axis=0, by=['did'])\n",
    "df_dis_sym = df_dis_sym.reset_index(drop=True)\n",
    "df_dis_sym = df_dis_sym.rename(columns={\"did\": \"disease\", \"syd\": \"symptom\", \"wei\": \"weight\"})\n",
    "df_dis_sym = df_dis_sym.drop(axis=0, index=5568)\n",
    "df_dis_sym.head()"
   ]
  },
  {
   "cell_type": "code",
   "execution_count": 8,
   "metadata": {},
   "outputs": [
    {
     "data": {
      "text/html": [
       "<div>\n",
       "<style scoped>\n",
       "    .dataframe tbody tr th:only-of-type {\n",
       "        vertical-align: middle;\n",
       "    }\n",
       "\n",
       "    .dataframe tbody tr th {\n",
       "        vertical-align: top;\n",
       "    }\n",
       "\n",
       "    .dataframe thead th {\n",
       "        text-align: right;\n",
       "    }\n",
       "</style>\n",
       "<table border=\"1\" class=\"dataframe\">\n",
       "  <thead>\n",
       "    <tr style=\"text-align: right;\">\n",
       "      <th></th>\n",
       "      <th>did</th>\n",
       "      <th>diagnose</th>\n",
       "    </tr>\n",
       "  </thead>\n",
       "  <tbody>\n",
       "    <tr>\n",
       "      <th>0</th>\n",
       "      <td>1</td>\n",
       "      <td>Abdominal aortic aneurysm\u000b",
       "(enlarged major bloo...</td>\n",
       "    </tr>\n",
       "    <tr>\n",
       "      <th>1</th>\n",
       "      <td>2</td>\n",
       "      <td>Abdominal swelling</td>\n",
       "    </tr>\n",
       "    <tr>\n",
       "      <th>2</th>\n",
       "      <td>3</td>\n",
       "      <td>Abdominal trauma</td>\n",
       "    </tr>\n",
       "    <tr>\n",
       "      <th>3</th>\n",
       "      <td>4</td>\n",
       "      <td>Abrasions\u000b",
       " (scrapes)</td>\n",
       "    </tr>\n",
       "    <tr>\n",
       "      <th>4</th>\n",
       "      <td>5</td>\n",
       "      <td>ACE inhibitor induced cough\u000b",
       "blood pressure med...</td>\n",
       "    </tr>\n",
       "  </tbody>\n",
       "</table>\n",
       "</div>"
      ],
      "text/plain": [
       "   did                                           diagnose\n",
       "0    1  Abdominal aortic aneurysm\n",
       "(enlarged major bloo...\n",
       "1    2                                 Abdominal swelling\n",
       "2    3                                   Abdominal trauma\n",
       "3    4                               Abrasions\n",
       " (scrapes)\n",
       "4    5  ACE inhibitor induced cough\n",
       "blood pressure med..."
      ]
     },
     "execution_count": 8,
     "metadata": {},
     "output_type": "execute_result"
    }
   ],
   "source": [
    "df_disease.head()"
   ]
  },
  {
   "cell_type": "code",
   "execution_count": 9,
   "metadata": {},
   "outputs": [
    {
     "data": {
      "text/plain": [
       "1166"
      ]
     },
     "execution_count": 9,
     "metadata": {},
     "output_type": "execute_result"
    }
   ],
   "source": [
    "yea = list(df_disease.iloc[:,0])\n",
    "len(yea)"
   ]
  },
  {
   "cell_type": "markdown",
   "metadata": {},
   "source": [
    "## Defining function that returns match percent of disease given symptoms"
   ]
  },
  {
   "cell_type": "code",
   "execution_count": 10,
   "metadata": {},
   "outputs": [
    {
     "data": {
      "text/plain": [
       "1166"
      ]
     },
     "execution_count": 10,
     "metadata": {},
     "output_type": "execute_result"
    }
   ],
   "source": [
    "disease_list = []\n",
    "for item in df_dis_sym.iloc[:, 0]:\n",
    "    if item not in disease_list:\n",
    "        disease_list.append(item)\n",
    "len(disease_list)"
   ]
  },
  {
   "cell_type": "code",
   "execution_count": 11,
   "metadata": {},
   "outputs": [
    {
     "data": {
      "text/html": [
       "<div>\n",
       "<style scoped>\n",
       "    .dataframe tbody tr th:only-of-type {\n",
       "        vertical-align: middle;\n",
       "    }\n",
       "\n",
       "    .dataframe tbody tr th {\n",
       "        vertical-align: top;\n",
       "    }\n",
       "\n",
       "    .dataframe thead th {\n",
       "        text-align: right;\n",
       "    }\n",
       "</style>\n",
       "<table border=\"1\" class=\"dataframe\">\n",
       "  <thead>\n",
       "    <tr style=\"text-align: right;\">\n",
       "      <th></th>\n",
       "      <th>disease</th>\n",
       "      <th>symptoms</th>\n",
       "    </tr>\n",
       "  </thead>\n",
       "  <tbody>\n",
       "    <tr>\n",
       "      <th>0</th>\n",
       "      <td>1.0</td>\n",
       "      <td>[7.0, 32.0, 54.0, 173.0, 205.0, 275.0]</td>\n",
       "    </tr>\n",
       "    <tr>\n",
       "      <th>1</th>\n",
       "      <td>2.0</td>\n",
       "      <td>[99.0, 284.0]</td>\n",
       "    </tr>\n",
       "    <tr>\n",
       "      <th>2</th>\n",
       "      <td>3.0</td>\n",
       "      <td>[2.0, 102.0]</td>\n",
       "    </tr>\n",
       "    <tr>\n",
       "      <th>3</th>\n",
       "      <td>4.0</td>\n",
       "      <td>[6.0, 11.0, 13.0, 23.0, 39.0, 41.0, 57.0, 67.0...</td>\n",
       "    </tr>\n",
       "    <tr>\n",
       "      <th>4</th>\n",
       "      <td>5.0</td>\n",
       "      <td>[17.0, 126.0, 159.0, 194.0, 195.0]</td>\n",
       "    </tr>\n",
       "  </tbody>\n",
       "</table>\n",
       "</div>"
      ],
      "text/plain": [
       "   disease                                           symptoms\n",
       "0      1.0             [7.0, 32.0, 54.0, 173.0, 205.0, 275.0]\n",
       "1      2.0                                      [99.0, 284.0]\n",
       "2      3.0                                       [2.0, 102.0]\n",
       "3      4.0  [6.0, 11.0, 13.0, 23.0, 39.0, 41.0, 57.0, 67.0...\n",
       "4      5.0                 [17.0, 126.0, 159.0, 194.0, 195.0]"
      ]
     },
     "execution_count": 11,
     "metadata": {},
     "output_type": "execute_result"
    }
   ],
   "source": [
    "#creating new dataframe, condensed version of df_dis_sym\n",
    "df_dis_sym_c = pd.DataFrame(columns={'disease', 'symptoms'})\n",
    "sym_lst = []\n",
    "for row in range(len(df_dis_sym)):\n",
    "    if row == 0:\n",
    "        sym_lst.append(df_dis_sym.iloc[row, 1])\n",
    "    elif row == len(df_dis_sym)-1:\n",
    "        sym_lst = sorted(sym_lst)\n",
    "        df_dis_sym_c = df_dis_sym_c.append({'disease': df_dis_sym.iloc[row, 0], 'symptoms': sym_lst}, ignore_index=True)\n",
    "    elif (df_dis_sym.iloc[row, 0] == df_dis_sym.iloc[row-1, 0]):\n",
    "        sym_lst.append(df_dis_sym.iloc[row, 1])\n",
    "    elif (df_dis_sym.iloc[row, 0] != df_dis_sym.iloc[row-1, 0]):\n",
    "        sym_lst = sorted(sym_lst)\n",
    "        df_dis_sym_c = df_dis_sym_c.append({'disease': df_dis_sym.iloc[row-1, 0], 'symptoms': sym_lst}, ignore_index=True)\n",
    "        sym_lst = [df_dis_sym.iloc[row, 1]]\n",
    "columnsTitles=[\"disease\",\"symptoms\"]\n",
    "df_dis_sym_c=df_dis_sym_c.reindex(columns=columnsTitles)\n",
    "df_dis_sym_c.head()\n",
    "    "
   ]
  },
  {
   "cell_type": "code",
   "execution_count": 12,
   "metadata": {},
   "outputs": [
    {
     "data": {
      "text/html": [
       "<div>\n",
       "<style scoped>\n",
       "    .dataframe tbody tr th:only-of-type {\n",
       "        vertical-align: middle;\n",
       "    }\n",
       "\n",
       "    .dataframe tbody tr th {\n",
       "        vertical-align: top;\n",
       "    }\n",
       "\n",
       "    .dataframe thead th {\n",
       "        text-align: right;\n",
       "    }\n",
       "</style>\n",
       "<table border=\"1\" class=\"dataframe\">\n",
       "  <thead>\n",
       "    <tr style=\"text-align: right;\">\n",
       "      <th></th>\n",
       "      <th>did</th>\n",
       "      <th>diagnose</th>\n",
       "    </tr>\n",
       "  </thead>\n",
       "  <tbody>\n",
       "    <tr>\n",
       "      <th>0</th>\n",
       "      <td>1</td>\n",
       "      <td>Abdominal aortic aneurysm\u000b",
       "(enlarged major bloo...</td>\n",
       "    </tr>\n",
       "    <tr>\n",
       "      <th>1</th>\n",
       "      <td>2</td>\n",
       "      <td>Abdominal swelling</td>\n",
       "    </tr>\n",
       "    <tr>\n",
       "      <th>2</th>\n",
       "      <td>3</td>\n",
       "      <td>Abdominal trauma</td>\n",
       "    </tr>\n",
       "    <tr>\n",
       "      <th>3</th>\n",
       "      <td>4</td>\n",
       "      <td>Abrasions\u000b",
       " (scrapes)</td>\n",
       "    </tr>\n",
       "    <tr>\n",
       "      <th>4</th>\n",
       "      <td>5</td>\n",
       "      <td>ACE inhibitor induced cough\u000b",
       "blood pressure med...</td>\n",
       "    </tr>\n",
       "  </tbody>\n",
       "</table>\n",
       "</div>"
      ],
      "text/plain": [
       "   did                                           diagnose\n",
       "0    1  Abdominal aortic aneurysm\n",
       "(enlarged major bloo...\n",
       "1    2                                 Abdominal swelling\n",
       "2    3                                   Abdominal trauma\n",
       "3    4                               Abrasions\n",
       " (scrapes)\n",
       "4    5  ACE inhibitor induced cough\n",
       "blood pressure med..."
      ]
     },
     "execution_count": 12,
     "metadata": {},
     "output_type": "execute_result"
    }
   ],
   "source": [
    "# df_symptoms.head()\n",
    "df_disease.head()"
   ]
  },
  {
   "cell_type": "code",
   "execution_count": 13,
   "metadata": {},
   "outputs": [],
   "source": [
    "#creating a dictionary of values with the keys being the syd indexes and the values being the symptom (index to symptom)\n",
    "symp_dict = {}\n",
    "for i in range(len(df_symptoms)):\n",
    "    symp_dict[df_symptoms.iloc[i, 0]] = df_symptoms.iloc[i, 1]"
   ]
  },
  {
   "cell_type": "code",
   "execution_count": 14,
   "metadata": {},
   "outputs": [],
   "source": [
    "#creating opposite dictionary (symptom to index)\n",
    "symp_dict2 = {}\n",
    "for i in range(len(df_symptoms)):\n",
    "    symp_dict2[df_symptoms.iloc[i, 1]] = df_symptoms.iloc[i, 0]"
   ]
  },
  {
   "cell_type": "code",
   "execution_count": 15,
   "metadata": {},
   "outputs": [],
   "source": [
    "#creating a dictionary of values with the keys being the did indexes and the values being the disease (index to disease)\n",
    "dis_dict = {}\n",
    "for i in range(len(df_disease)):\n",
    "    dis_dict[df_disease.iloc[i, 0]] = df_disease.iloc[i, 1]"
   ]
  },
  {
   "cell_type": "code",
   "execution_count": 16,
   "metadata": {},
   "outputs": [],
   "source": [
    "#creating opposite dictionary (disease to index)\n",
    "dis_dict2 = {}\n",
    "for i in range(len(df_disease)):\n",
    "    dis_dict2[df_disease.iloc[i, 1]] = df_disease.iloc[i, 0]"
   ]
  },
  {
   "cell_type": "code",
   "execution_count": 17,
   "metadata": {},
   "outputs": [],
   "source": [
    "#returns the top five diseases with matching symptoms, if ties then returns all\n",
    "def return_disease(*symptoms):\n",
    "    top_five = []\n",
    "    value_lst = []\n",
    "    per_match_dic = {}\n",
    "    for row in range(len(df_dis_sym_c)):\n",
    "        match = 0\n",
    "        total = 0\n",
    "        for symptom in symptoms:\n",
    "            lst = df_dis_sym_c.iloc[row, 1]\n",
    "            if symp_dict2[symptom] in lst:\n",
    "                match += 1\n",
    "                total += 1\n",
    "            else:\n",
    "                total += 1\n",
    "        per_match = match/total\n",
    "        disease_index = df_dis_sym_c.iloc[row, 0]\n",
    "        disease = dis_dict[disease_index]\n",
    "        per_match_dic[disease] = per_match\n",
    "    for value in per_match_dic.values():\n",
    "        value_lst.append(value)\n",
    "    value_lst = sorted(value_lst)\n",
    "    value_lst_top = value_lst[-1:-6:-1]\n",
    "    for disease, value in per_match_dic.items():\n",
    "        if value in value_lst_top:\n",
    "            top_five.append((disease, value))\n",
    "    return top_five"
   ]
  },
  {
   "cell_type": "code",
   "execution_count": 18,
   "metadata": {},
   "outputs": [
    {
     "data": {
      "text/plain": [
       "[('Alcoholism', 0.6666666666666666),\n",
       " ('Appendicitis', 0.6666666666666666),\n",
       " ('Celiac disease\\x0bceliac sprue', 0.6666666666666666),\n",
       " ('Cholecystitis\\x0binflammation of the gallbladder', 0.6666666666666666),\n",
       " ('Cholelithiasis\\x0bgallstones', 0.6666666666666666),\n",
       " ('Colonic diverticulitis\\x0binflammation of pouches in the large intestine',\n",
       "  0.6666666666666666),\n",
       " ('Constipation', 0.6666666666666666),\n",
       " ('Endometriosis\\x0buterine tissue outside the uterus', 0.6666666666666666),\n",
       " ('Gastric ulcer\\x0bstomach ulcer', 0.6666666666666666),\n",
       " ('Gastroenteritis\\x0bintestinal infection', 0.6666666666666666),\n",
       " ('Gastroesophageal reflux\\x0bGERD, heartburn', 0.6666666666666666),\n",
       " ('Hernia', 0.6666666666666666),\n",
       " ('Inguinal hernia\\x0bgroin hernia', 0.6666666666666666),\n",
       " ('Irritable bowel syndrome\\x0bIBS, chronic intestinal pain and cramping',\n",
       "  0.6666666666666666),\n",
       " ('Ligament sprain\\x0bconnection between two bones', 0.6666666666666666),\n",
       " ('Kidney stone\\x0bnephrolithiasis', 0.6666666666666666),\n",
       " ('Ovarian cyst\\x0bfemale organ fluid collection', 0.6666666666666666),\n",
       " ('Pancreatitis\\x0bpancreas inflammation', 0.6666666666666666),\n",
       " ('Pancreas inflammation\\x0bpancreatitis, chronic', 0.6666666666666666),\n",
       " ('Pyelonephritis\\x0bkidney infection', 0.6666666666666666),\n",
       " ('Bladder infection\\x0bcystitis, UTI, urinary tract infection',\n",
       "  0.6666666666666666),\n",
       " ('Umbilical hernia\\x0bbelly button hernia', 0.6666666666666666),\n",
       " ('Lactose intolerance', 0.6666666666666666),\n",
       " ('Diverticulosis\\x0bweakening of the large intestine wall',\n",
       "  0.6666666666666666),\n",
       " ('Ventral hernia\\x0bbulging of the abdominal wall', 0.6666666666666666)]"
      ]
     },
     "execution_count": 18,
     "metadata": {},
     "output_type": "execute_result"
    }
   ],
   "source": [
    "return_disease('Upper abdominal pain', 'Lower abdominal pain', 'Alcohol abuse')"
   ]
  },
  {
   "cell_type": "code",
   "execution_count": 19,
   "metadata": {},
   "outputs": [],
   "source": [
    "#returns the top five diseases with matching symptoms, if ties then returns all, also return id\n",
    "def return_disease2(*symptoms):\n",
    "    top_five = []\n",
    "    value_lst = []\n",
    "    per_match_dic = {}\n",
    "    for row in range(len(df_dis_sym_c)):\n",
    "        match = 0\n",
    "        total = 0\n",
    "        for symptom in symptoms:\n",
    "            lst = df_dis_sym_c.iloc[row, 1]\n",
    "            if symp_dict2[symptom] in lst:\n",
    "                match += 1\n",
    "                total += 1\n",
    "            else:\n",
    "                total += 1\n",
    "        per_match = match/total\n",
    "        disease_index = df_dis_sym_c.iloc[row, 0]\n",
    "        disease = dis_dict[disease_index]\n",
    "        per_match_dic[(disease, disease_index)] = per_match\n",
    "    for value in per_match_dic.values():\n",
    "        value_lst.append(value)\n",
    "    value_lst = sorted(value_lst)\n",
    "    value_lst_top = value_lst[-1:-6:-1]\n",
    "    for (disease, index), value in per_match_dic.items():\n",
    "        if value in value_lst_top:\n",
    "            top_five.append(((disease, index), value))\n",
    "    return top_five"
   ]
  },
  {
   "cell_type": "code",
   "execution_count": 41,
   "metadata": {},
   "outputs": [],
   "source": [
    "result = return_disease2('Upper abdominal pain', 'Lower abdominal pain', 'Alcohol abuse')"
   ]
  },
  {
   "cell_type": "code",
   "execution_count": 40,
   "metadata": {},
   "outputs": [
    {
     "name": "stdout",
     "output_type": "stream",
     "text": [
      "[(('Alcoholism', 25.0), 0.6666666666666666), (('Appendicitis', 56.0), 0.6666666666666666), (('Celiac disease\\x0bceliac sprue', 139.0), 0.6666666666666666), (('Cholecystitis\\x0binflammation of the gallbladder', 163.0), 0.6666666666666666), (('Cholelithiasis\\x0bgallstones', 165.0), 0.6666666666666666), (('Colonic diverticulitis\\x0binflammation of pouches in the large intestine', 179.0), 0.6666666666666666), (('Constipation', 187.0), 0.6666666666666666), (('Endometriosis\\x0buterine tissue outside the uterus', 241.0), 0.6666666666666666), (('Gastric ulcer\\x0bstomach ulcer', 306.0), 0.6666666666666666), (('Gastroenteritis\\x0bintestinal infection', 308.0), 0.6666666666666666), (('Gastroesophageal reflux\\x0bGERD, heartburn', 309.0), 0.6666666666666666), (('Hernia', 349.0), 0.6666666666666666), (('Inguinal hernia\\x0bgroin hernia', 388.0), 0.6666666666666666), (('Irritable bowel syndrome\\x0bIBS, chronic intestinal pain and cramping', 401.0), 0.6666666666666666), (('Ligament sprain\\x0bconnection between two bones', 426.0), 0.6666666666666666), (('Kidney stone\\x0bnephrolithiasis', 513.0), 0.6666666666666666), (('Ovarian cyst\\x0bfemale organ fluid collection', 539.0), 0.6666666666666666), (('Pancreatitis\\x0bpancreas inflammation', 546.0), 0.6666666666666666), (('Pancreas inflammation\\x0bpancreatitis, chronic', 547.0), 0.6666666666666666), (('Pyelonephritis\\x0bkidney infection', 637.0), 0.6666666666666666), (('Bladder infection\\x0bcystitis, UTI, urinary tract infection', 793.0), 0.6666666666666666), (('Umbilical hernia\\x0bbelly button hernia', 939.0), 0.6666666666666666), (('Lactose intolerance', 988.0), 0.6666666666666666), (('Diverticulosis\\x0bweakening of the large intestine wall', 991.0), 0.6666666666666666), (('Ventral hernia\\x0bbulging of the abdominal wall', 1115.0), 0.6666666666666666)]\n"
     ]
    }
   ],
   "source": [
    "print(x)"
   ]
  },
  {
   "cell_type": "code",
   "execution_count": 22,
   "metadata": {},
   "outputs": [],
   "source": [
    "## Defining function that returns similiar condition in the new dataset"
   ]
  },
  {
   "cell_type": "code",
   "execution_count": 23,
   "metadata": {},
   "outputs": [],
   "source": [
    "def getCondition(str):\n",
    "    out = df\n",
    "    out = df[df['Condition'] == str]\n",
    "    out =out.reset_index(drop = True) \n",
    "    return out"
   ]
  },
  {
   "cell_type": "code",
   "execution_count": 187,
   "metadata": {},
   "outputs": [
    {
     "data": {
      "text/html": [
       "<div>\n",
       "<style scoped>\n",
       "    .dataframe tbody tr th:only-of-type {\n",
       "        vertical-align: middle;\n",
       "    }\n",
       "\n",
       "    .dataframe tbody tr th {\n",
       "        vertical-align: top;\n",
       "    }\n",
       "\n",
       "    .dataframe thead th {\n",
       "        text-align: right;\n",
       "    }\n",
       "</style>\n",
       "<table border=\"1\" class=\"dataframe\">\n",
       "  <thead>\n",
       "    <tr style=\"text-align: right;\">\n",
       "      <th></th>\n",
       "      <th>Unnamed: 0</th>\n",
       "      <th>drugName</th>\n",
       "      <th>condition</th>\n",
       "      <th>review</th>\n",
       "      <th>cleanReview</th>\n",
       "      <th>rating</th>\n",
       "      <th>ratingSentiment</th>\n",
       "      <th>ratingSentimentLabel</th>\n",
       "      <th>vaderReviewScore</th>\n",
       "      <th>vaderSentiment</th>\n",
       "      <th>vaderSentimentLabel</th>\n",
       "      <th>aggregateRating</th>\n",
       "    </tr>\n",
       "  </thead>\n",
       "  <tbody>\n",
       "    <tr>\n",
       "      <th>0</th>\n",
       "      <td>0</td>\n",
       "      <td>Mirtazapine</td>\n",
       "      <td>Depression</td>\n",
       "      <td>\"I&amp;#039;ve tried a few antidepressants over th...</td>\n",
       "      <td>\"I&amp;#039;ve tried antidepressants years (citalo...</td>\n",
       "      <td>10.0</td>\n",
       "      <td>2</td>\n",
       "      <td>positive</td>\n",
       "      <td>0.7623</td>\n",
       "      <td>2</td>\n",
       "      <td>positive</td>\n",
       "      <td>100.0</td>\n",
       "    </tr>\n",
       "    <tr>\n",
       "      <th>1</th>\n",
       "      <td>1</td>\n",
       "      <td>Mesalamine</td>\n",
       "      <td>Crohn's Disease, Maintenance</td>\n",
       "      <td>\"My son has Crohn&amp;#039;s disease and has done ...</td>\n",
       "      <td>\"My son Crohn&amp;#039;s disease done well Asacol....</td>\n",
       "      <td>8.0</td>\n",
       "      <td>2</td>\n",
       "      <td>positive</td>\n",
       "      <td>0.4767</td>\n",
       "      <td>2</td>\n",
       "      <td>positive</td>\n",
       "      <td>90.0</td>\n",
       "    </tr>\n",
       "    <tr>\n",
       "      <th>2</th>\n",
       "      <td>2</td>\n",
       "      <td>Bactrim</td>\n",
       "      <td>Urinary Tract Infection</td>\n",
       "      <td>\"Quick reduction of symptoms\"</td>\n",
       "      <td>\"Quick reduction symptoms\"</td>\n",
       "      <td>9.0</td>\n",
       "      <td>2</td>\n",
       "      <td>positive</td>\n",
       "      <td>0.0000</td>\n",
       "      <td>0</td>\n",
       "      <td>neutral</td>\n",
       "      <td>95.0</td>\n",
       "    </tr>\n",
       "    <tr>\n",
       "      <th>3</th>\n",
       "      <td>3</td>\n",
       "      <td>Contrave</td>\n",
       "      <td>Weight Loss</td>\n",
       "      <td>\"Contrave combines drugs that were used for al...</td>\n",
       "      <td>\"Contrave combines drugs used alcohol, smoking...</td>\n",
       "      <td>9.0</td>\n",
       "      <td>2</td>\n",
       "      <td>positive</td>\n",
       "      <td>0.8115</td>\n",
       "      <td>2</td>\n",
       "      <td>positive</td>\n",
       "      <td>95.0</td>\n",
       "    </tr>\n",
       "    <tr>\n",
       "      <th>4</th>\n",
       "      <td>4</td>\n",
       "      <td>Cyclafem 1 / 35</td>\n",
       "      <td>Birth Control</td>\n",
       "      <td>\"I have been on this birth control for one cyc...</td>\n",
       "      <td>\"I birth control one cycle. After reading revi...</td>\n",
       "      <td>9.0</td>\n",
       "      <td>2</td>\n",
       "      <td>positive</td>\n",
       "      <td>0.9619</td>\n",
       "      <td>2</td>\n",
       "      <td>positive</td>\n",
       "      <td>95.0</td>\n",
       "    </tr>\n",
       "  </tbody>\n",
       "</table>\n",
       "</div>"
      ],
      "text/plain": [
       "   Unnamed: 0         drugName                     condition  \\\n",
       "0           0      Mirtazapine                    Depression   \n",
       "1           1       Mesalamine  Crohn's Disease, Maintenance   \n",
       "2           2          Bactrim       Urinary Tract Infection   \n",
       "3           3         Contrave                   Weight Loss   \n",
       "4           4  Cyclafem 1 / 35                 Birth Control   \n",
       "\n",
       "                                              review  \\\n",
       "0  \"I&#039;ve tried a few antidepressants over th...   \n",
       "1  \"My son has Crohn&#039;s disease and has done ...   \n",
       "2                      \"Quick reduction of symptoms\"   \n",
       "3  \"Contrave combines drugs that were used for al...   \n",
       "4  \"I have been on this birth control for one cyc...   \n",
       "\n",
       "                                         cleanReview  rating  ratingSentiment  \\\n",
       "0  \"I&#039;ve tried antidepressants years (citalo...    10.0                2   \n",
       "1  \"My son Crohn&#039;s disease done well Asacol....     8.0                2   \n",
       "2                         \"Quick reduction symptoms\"     9.0                2   \n",
       "3  \"Contrave combines drugs used alcohol, smoking...     9.0                2   \n",
       "4  \"I birth control one cycle. After reading revi...     9.0                2   \n",
       "\n",
       "  ratingSentimentLabel  vaderReviewScore  vaderSentiment vaderSentimentLabel  \\\n",
       "0             positive            0.7623               2            positive   \n",
       "1             positive            0.4767               2            positive   \n",
       "2             positive            0.0000               0             neutral   \n",
       "3             positive            0.8115               2            positive   \n",
       "4             positive            0.9619               2            positive   \n",
       "\n",
       "   aggregateRating  \n",
       "0            100.0  \n",
       "1             90.0  \n",
       "2             95.0  \n",
       "3             95.0  \n",
       "4             95.0  "
      ]
     },
     "execution_count": 187,
     "metadata": {},
     "output_type": "execute_result"
    }
   ],
   "source": [
    "df = pd.read_csv(r\"C:\\Users\\p_amb\\Desktop\\Data\\processed.csv\")\n",
    "usefulratio = []\n",
    "\n",
    "from collections import Counter \n",
    "\n",
    "Counter = Counter(df['condition'])\n",
    "\n",
    "commonDrugs = Counter.most_common()\n",
    "\n",
    "\n",
    "df = df.dropna()\n",
    "df.head()\n",
    "\n",
    "\n"
   ]
  },
  {
   "cell_type": "code",
   "execution_count": 188,
   "metadata": {},
   "outputs": [
    {
     "name": "stdout",
     "output_type": "stream",
     "text": [
      "['Birth Control', 'Depression', 'Pain', 'Anxiety', 'Acne', 'Bipolar Disorde', 'Insomnia', 'Weight Loss', 'Obesity', 'ADHD', 'Diabetes, Type 2', 'Emergency Contraception', 'High Blood Pressure', 'Vaginal Yeast Infection', 'Abnormal Uterine Bleeding', 'Bowel Preparation', 'Smoking Cessation', 'ibromyalgia', 'Migraine', 'Anxiety and Stress', 'Major Depressive Disorde', 'Constipation', 'Chronic Pain', 'Panic Disorde', 'Migraine Prevention', 'Urinary Tract Infection', 'Muscle Spasm', 'Osteoarthritis', 'Generalized Anxiety Disorde', 'Opiate Dependence', 'Erectile Dysfunction', 'Irritable Bowel Syndrome', 'Allergic Rhinitis', 'Rheumatoid Arthritis', 'Bacterial Infection', 'Cough', nan, 'Sinusitis', 'Nausea/Vomiting', 'GERD', 'Hyperhidrosis', 'Overactive Bladde', 'Multiple Sclerosis', 'Hepatitis C', 'HIV Infection', 'High Cholesterol', 'Back Pain', 'Restless Legs Syndrome', 'Psoriasis', 'Schizophrenia', 'Constipation, Chronic', 'Obsessive Compulsive Disorde', 'Endometriosis', 'Benign Prostatic Hyperplasia', 'Bronchitis', 'Hypogonadism, Male', 'Rosacea', 'Seizures', 'Bacterial Vaginitis', 'Asthma, Maintenance', 'Narcolepsy', 'Headache', 'Not Listed / Othe', 'Underactive Thyroid', 'Onychomycosis, Toenail', 'Bladder Infection', 'Schizoaffective Disorde', 'Social Anxiety Disorde', 'Alcohol Dependence', 'Herpes Simplex', 'Epilepsy', 'Menstrual Disorders', 'Cold Sores', 'Cough and Nasal Congestion', 'Influenza', 'Osteoporosis', 'Postmenopausal Symptoms', 'Psoriatic Arthritis', 'Opiate Withdrawal', 'Post Traumatic Stress Disorde', 'Plaque Psoriasis', 'Inflammatory Conditions', 'Premenstrual Dysphoric Disorde', 'Nasal Congestion', 'Polycystic Ovary Syndrome', 'Breast Cance', 'Chlamydia Infection', 'Pneumonia', 'Neuropathic Pain', 'Atrial Fibrillation', 'Urticaria', 'Anesthesia', 'Helicobacter Pylori Infection', 'COPD, Maintenance', 'Hot Flashes', 'Ulcerative Colitis', 'Constipation, Drug Induced', 'Asthma', 'Alcohol Withdrawal', 'Skin or Soft Tissue Infection', 'Motion Sickness', 'Ankylosing Spondylitis', \"Crohn's Disease, Maintenance\", 'mance Anxiety', 'Seizure Prevention', 'Gout, Acute', \"Hashimoto's disease\", 'Peripheral Neuropathy', 'Upper Respiratory Tract Infection', 'Atrophic Vaginitis', 'Urinary Incontinence', 'Diabetic Peripheral Neuropathy', 'Sedation', 'Allergies', 'Interstitial Cystitis', \"Crohn's Disease\", 'Eczema', 'Atopic Dermatitis', 'Trigeminal Neuralgia', 'Cluster Headaches', 'Herpes Simplex, Suppression', 'Otitis Media', 'Ovarian Cysts', 'COPD', 'Prevention of Thromboembolism in Atrial Fibrillation', 'Borderline Personality Disorde', 'Dry Eye Disease', 'Bacterial Skin Infection', 'Hypothyroidism, After Thyroid Removal', 'Period Pain', 'Diabetes, Type 1', 'Diverticulitis', 'Diarrhea', 'Ulcerative Colitis, Active', 'Prostate Cance', \"Parkinson's Disease\", 'Asthma, acute', 'Sciatica', 'Nausea/Vomiting of Pregnancy', 'Strep Throat', 'Keratosis', 'Cold Symptoms', 'Kidney Infections', 'Urinary Tract Stones', 'Human Papilloma Virus', 'Arrhythmia', 'Non-Small Cell Lung Cance', 'Edema', 'Systemic Lupus Erythematosus', 'Gout', 'Tonsillitis/Pharyngitis', '0</span> users found this comment helpful.', 'Dermatitis', 'Breast Cancer, Metastatic', 'Renal Cell Carcinoma', 'Alopecia', 'Neuralgia', 'Vertig', 'Dietary Supplementation', 'Angina', 'Hirsutism', 'Autism', 'Supraventricular Tachycardia', 'Muscle Pain', 'Hemorrhoids', 'Amenorrhea', 'Benign Essential Trem', \"Alzheimer's Disease\", 'Obstructive Sleep Apnea/Hypopnea Syndrome', 'Chronic Fatigue Syndrome', 'Chronic Myelogenous Leukemia', 'Prostatitis', 'Heart Failure', 'Rhinitis', 'Allergic Reactions', 'Postpartum Depression', 'Postherpetic Neuralgia', '1</span> users found this comment helpful.', 'Dental Abscess', 'moterol)', 'Premature Lab', 'Anorexia', 'Deep Vein Thrombosis', 'Sinus Symptoms', '2</span> users found this comment helpful.', 'Binge Eating Disorde', 'Dysuria', '3</span> users found this comment helpful.', 'Dry Skin', 'Melasma', 'Vitamin/Mineral Supplementation during Pregnancy/Lactation', 'Hypertriglyceridemia', 'Head Lice', 'Sexual Dysfunction, SSRI Induced', 'Psychosis', 'Menorrhagia', 'Hypersomnia', 'Conjunctivitis, Allergic', 'Nausea/Vomiting, Chemotherapy Induced', 'Stomach Ulce', \"Barrett's Esophagus\", 'Pulmonary Hypertension', 'Erosive Esophagitis', 'Pseudotumor Cerebri', \"Tourette's Syndrome\", 'Seasonal Allergic Conjunctivitis', 'Trichomoniasis', 'Pulmonary Embolism', 'emale Infertility', '4</span> users found this comment helpful.', 'Prevention of Bladder infection', 'Shift Work Sleep Disorde', 'Light Sedation', 'Chronic Idiopathic Constipation', 'Keratoconjunctivitis Sicca', 'High Cholesterol, Familial Heterozygous', 'Conjunctivitis, Bacterial', 'Cervical Dystonia', 'Glaucoma, Open Angle', 'Heart Attack', 'atigue', 'Bulimia', 'Eye Redness', 'Basal Cell Carcinoma', 'Mania', 'Skin and Structure Infection', 'Diarrhea, Chronic', 'Indigestion', 'Reflex Sympathetic Dystrophy Syndrome', \"Sjogren's Syndrome\", 'Hyperprolactinemia', 'Uterine Fibroids', 'Androgenetic Alopecia', 'Perimenopausal Symptoms', 'Organ Transplant, Rejection Prophylaxis', 'Acute Coronary Syndrome', '6</span> users found this comment helpful.', 'Tendonitis', \"Raynaud's Syndrome\", 'Opioid-Induced Constipation', 'Pruritus', 'Burns, External', 'min)', 'Periodic Limb Movement Disorde', '5</span> users found this comment helpful.', 'Malaria Prevention', \"Crohn's Disease, Acute\", 'Ulcerative Colitis, Maintenance', 'Constipation, Acute', 'Neutropenia Associated with Chemotherapy', 'Myasthenia Gravis', 'Postoperative Pain', 'Dermatological Disorders', 'Gastroparesis', '7</span> users found this comment helpful.', 'Iron Deficiency Anemia', 'Gastroenteritis', 'Paranoid Disorde', 'Primary Immunodeficiency Syndrome', 'Breakthrough Pain', 'Agitated State', 'Vulvodynia', 'Clostridial Infection', 'Lyme Disease', 'Eye Redness/Itching', 'Glaucoma', 'Gouty Arthritis', 'acial Wrinkles', 'Tinnitus', 'Human Papillomavirus Prophylaxis', 'Light Anesthesia', 'Temporomandibular Joint Disorde', 'Seborrheic Dermatitis', '9</span> users found this comment helpful.', 'ge (amlodipine / valsartan)', 'Colorectal Cance', 'Mitral Valve Prolapse', '10</span> users found this comment helpful.', '8</span> users found this comment helpful.', 'Actinic Keratosis', 'Otitis Externa', 'Chronic Lymphocytic Leukemia', 'Oophorectomy', 'Duodenal Ulce', 'Condylomata Acuminata', 'moterol / mometasone)', 'Postural Orthostatic Tachycardia Syndrome', 'Extrapyramidal Reaction', 'Pneumococcal Disease Prophylaxis', 'Photoaging of the Skin', 'Herpes Zoste', 'COPD, Acute', 'Influenza Prophylaxis', 'Oral Thrush', 'min / sitagliptin)', 'Juvenile Rheumatoid Arthritis', 'Ventricular Tachycardia', 'Nocturnal Leg Cramps', 'Herbal Supplementation', 'Tinea Pedis', 'Cyclic Vomiting Syndrome', 'Tinea Versicol', 'Hiccups', 'Inflammatory Bowel Disease', 'Dysautonomia', 'Postoperative Ocular Inflammation', 'Night Terrors', 'Prevention of Osteoporosis', 'Precocious Puberty', 'Tinea Corporis', 'Vitamin/Mineral Supplementation and Deficiency', 'Ischemic Stroke, Prophylaxis', 'Hypoestrogenism', 'Insomnia, Stimulant-Associated', 'Soft Tissue Sarcoma', 'Insulin Resistance Syndrome', 'Angina Pectoris Prophylaxis', 'Labor Pain', 'Atrial Flutte', \"Meniere's Disease\", 'Swine Flu', 'Allergic Urticaria', 'Anemia', '12</span> users found this comment helpful.', 'Methicillin-Resistant Staphylococcus Aureus Infection', 'Macular Degeneration', 'Xerostomia', 'Atrophic Urethritis', 'Pharyngitis', 'Left Ventricular Dysfunction', 'Gas', '13</span> users found this comment helpful.', 'Uveitis', 'Hyperphosphatemia of Renal Failure', 'Skin Cance', 'Malaria', 'Bone infection', 'Vitamin D Deficiency', \"Non-Hodgkin's Lymphoma\", 'Nightmares', 'Breast Cancer, Adjuvant', 'Lennox-Gastaut Syndrome', 'Pseudobulbar Affect', 'Onychomycosis, Fingernail', 'Diabetic Kidney Disease', 'Benzodiazepine Withdrawal', 'Melanoma, Metastatic', 'Diaper Rash', 'Hereditary Angioedema', 'Juvenile Idiopathic Arthritis', 'Nausea/Vomiting, Postoperative', 'Burning Mouth Syndrome', 'Ovulation Induction', 'Chronic Spasticity', 'Myelodysplastic Syndrome', 'Tinea Cruris', 'Undifferentiated Connective Tissue Disease', 'Giardiasis', '15</span> users found this comment helpful.', 'Diagnosis and Investigation', 'Cutaneous Candidiasis', 'Diabetes Insipidus', 'Intraocular Hypertension', 'Chronic Pancreatitis', 'Progesterone Insufficiency', 'zen Shoulde', 'Lactose Intolerance', 'Deep Vein Thrombosis, Prophylaxis', 'Surgical Prophylaxis', 'Multiple Myeloma', 'Hepatitis B', 'Conjunctivitis', 'Cystic Fibrosis', 'Premenstrual Syndrome', '17</span> users found this comment helpful.', 'Primary Ovarian Failure', 'Lyme Disease, Neurologic', 'Asperger Syndrome', 'Seasonal Affective Disorde', 'Autoimmune Hepatitis', 'Dyspareunia', '14</span> users found this comment helpful.', 'Ovarian Cance', 'Computed Tomography', 'Anal Fissure and Fistula', 'Nasal Polyps', 'Hyperlipoproteinemia Type IIa, Elevated LDL', 'High Cholesterol, Familial Homozygous', 'Vitamin B12 Deficiency', 'Herpes Simplex, Mucocutaneous/Immunocompetent Host', 'Expectoration', 'Hepatic Encephalopathy', '16</span> users found this comment helpful.', '18</span> users found this comment helpful.', 'eve', 'Pancreatic Cance', 'Trichotillomania', \"Behcet's Disease\", 'Hyperlipoproteinemia', 'Streptococcal Infection', 'Opioid Overdose', 'Secondary Hyperparathyroidism', 'Pancreatic Exocrine Dysfunction', 'Intermittent Claudication', 'Bronchospasm Prophylaxis', 'TSH Suppression', 'Persistent Depressive Disorde', '20</span> users found this comment helpful.', 'Skin Rash', 'Diarrhea, Acute', 'Osteolytic Bone Metastases of Solid Tumors', 'Dystonia', 'Lichen Sclerosus', 'Ischemic Stroke', 'mulation) (phenylephrine)', 'New Daily Persistent Headache', 'Hyperthyroidism', 'Bursitis', 'min / saxagliptin)', 'Dermatologic Lesion', 'Hypertensive Emergency', '11</span> users found this comment helpful.', 'Post-Cholecystectomy Diarrhea', 'Thyroid Cance', 'Anemia Associated with Chronic Renal Failure', 'Idiopathic Thrombocytopenic Purpura', 'Agitation', 'Lichen Planus', 'Prevention of Cardiovascular Disease', 'Pain/Feve', 'Labor Induction', 'Ulcerative Proctitis', \"Traveler's Diarrhea\", 'Opiate Adjunct', 'Pinworm Infection (Enterobius vermicularis)', 'Pelvic Inflammatory Disease', 'Lactation Augmentation', 'Impetig', \"Addison's Disease\", 'Tuberculosis, Latent', 'Menopausal Disorders', 'Scabies', 'Bronchiectasis', 'Polycythemia Vera', '23</span> users found this comment helpful.', 'Gastrointestinal Stromal Tum', '21</span> users found this comment helpful.', 'Local Anesthesia', 'Pediatric Growth Hormone Deficiency', 'Chronic Myofascial Pain', 'Perioral Dermatitis', 'Mucositis', 'Bacterial Endocarditis Prevention', 'Lymphoma', 'Gingivitis', 'lic Acid Deficiency', 'Biliary Cirrhosis', 'Adrenocortical Insufficiency', 'Hypoparathyroidism', 'Costochondritis', 'Mountain Sickness / Altitude Sickness', 'Deep Vein Thrombosis, First Event', 'Prevention of Hypokalemia', 'Intraabdominal Infection', 'Deep Vein Thrombosis, Recurrent Event', 'Adult Human Growth Hormone Deficiency', 'Prevention of Dental Caries', '19</span> users found this comment helpful.', 'Lipodystrophy', 'Macular Edema', 'Peptic Ulce', \"von Willebrand's Disease\", 'Spondylolisthesis', 'Body Dysmorphic Disorde', 'Ophthalmic Surgery', 'Sore Throat', 'Diabetic Macular Edema', 'Dandruff', 'Dermatomyositis', 'Endometrial Cance', 'NSAID-Induced Gastric Ulce', 'Infection Prophylaxis', 'Pe', 'B12 Nutritional Deficiency', 'Auditory Processing Disorde', '25</span> users found this comment helpful.', 'Breast Cancer, Prevention', 'Spondyloarthritis', 'Abortion', 'Dietary Fiber Supplementation', 'Sarcoidosis', 'Noninfectious Colitis', 'Iritis', 'Endometrial Hyperplasia', 'Nasal Carriage of Staphylococcus aureus', 'Performance Anxiety', 'Bleeding Disorde', 'Status Epilepticus', 'Pulmonary Embolism, Recurrent Event', \"Still's Disease\", \"Wegener's Granulomatosis\", 'Anemia, Sickle Cell', 'Thrombocythemia', 'Ear Wax Impaction', 'Reversal of Opioid Sedation', 'Dumping Syndrome', 'Mild Cognitive Impairment', 'Immunosuppression', '39</span> users found this comment helpful.', 'Mycobacterium avium-intracellulare, Treatment', 'Bullous Pemphigoid', 'Primary Nocturnal Enuresis', 'Premature Ventricular Depolarizations', 'Hepatocellular Carcinoma', 'Osteolytic Bone Lesions of Multiple Myeloma', 'Hypoactive Sexual Desire Disorde', 'Systemic Mastocytosis', 'Cataplexy', 'Head and Neck Cance', 'Lyme Disease, Arthritis', 'Candidemia', 'Atherosclerosis', 'Brain Tum', 'Herpes Zoster, Prophylaxis', 'Glioblastoma Multi', 'Gastric Ulcer Maintenance Treatment', 'Gonococcal Infection, Uncomplicated', 'Glioblastoma Multiforme', '33</span> users found this comment helpful.', 'Pupillary Dilation', '27</span> users found this comment helpful.', 'AIDS Related Wasting', 'Hypocalcemia', 'Ventricular Fibrillation', 'Varicella-Zoste', 'Nephrotic Syndrome', 'Pulmonary Embolism, First Event', 'Gastritis/Duodenitis', 'Anal Itching', 'Deep Neck Infection', 'Cance', 'Periodontitis', 'Hypercalcemia of Malignancy', 'Dermatophytosis', 'Herpes Simplex, Mucocutaneous/Immunocompromised Host', 'Tinea Capitis', 'Alpha-1 Proteinase Inhibitor Deficiency', 'Leukemia', 'Hypotension', 'Acute Lymphoblastic Leukemia', 'CMV Prophylaxis', 'Lymphocytic Colitis', 'Hidradenitis Suppurativa', 'Melanoma', 'Gastrointestinal Decontamination', 'ICU Agitation', 'Skin Disinfection, Preoperative', 'Transient Ischemic Attack', 'Aphthous Ulce', 'Women (oxybutynin)', '32</span> users found this comment helpful.', 'Peritonitis', 'Rhinorrhea', 'Pre-Exposure Prophylaxis', 'Peripheral Arterial Disease', 'Cyclothymic Disorde', 'Herpes Simplex Dendritic Keratitis', 'Amebiasis', 'Head Injury', 'Primary Hyperaldosteronism', '41</span> users found this comment helpful.', '29</span> users found this comment helpful.', 'NSAID-Induced Ulcer Prophylaxis', 'Carcinoid Tum', 'Candida Urinary Tract Infection', 'amilial Mediterranean Feve', '24</span> users found this comment helpful.', 'Warts', 'Occipital Neuralgia', 'cal Segmental Glomerulosclerosis', 'Deep Vein Thrombosis Prophylaxis after Hip Replacement Surgery', 'Percutaneous Coronary Intervention', 'Thromboembolic Stroke Prophylaxis', 'Hyperekplexia', 'Cerebral Spasticity', 'Oral and Dental Conditions', 'Enterocolitis', 'Hypomagnesemia', 'Antiphospholipid Syndrome', '28</span> users found this comment helpful.', 'Dementia', 'Oligospermia', 'Topical Disinfection', 'Uterine Bleeding', 'Eyelash Hypotrichosis', 'Eosinophilic Esophagitis', 'Nonoccupational Exposure', 'Pudendal Neuralgia', 'Anaplastic Oligodendroglioma', 'Endometrial Hyperplasia, Prophylaxis', 'Hypokalemia', \"Reiter's Syndrome\", 'Cardiovascular Risk Reduction', 'mis', \"Turner's Syndrome\", 'Glaucoma/Intraocular Hypertension', 'min / pioglitazone)', 'Gout, Prophylaxis', 'Prevention of Atherothrombotic Events', 'SIADH', '36</span> users found this comment helpful.', 'Anemia, Chemotherapy Induced', 'Platelet Aggregation Inhibition', \"Dercum's Disease\", 'Gender Dysphoria', 'Schnitzler Syndrome', '31</span> users found this comment helpful.', 'Liver Magnetic Resonance Imaging', 'Esophageal Variceal Hemorrhage Prophylaxis', 'llicle Stimulation', '22</span> users found this comment helpful.', 'Cutaneous T-cell Lymphoma', 'Pemphigus', 'Autoimmune Hemolytic Anemia', \"Paget's Disease\", 'Neck Pain', 'Stress Ulcer Prophylaxis', 'Systemic Sclerosis', 'Histoplasmosis', '55</span> users found this comment helpful.', 'Chronic Inflammatory Demyelinating Polyradiculoneuropathy', \"Dupuytren's contracture\", 'Acute Promyelocytic Leukemia', 'Squamous Cell Carcinoma', 'Hyperkalemia', 'amilial Cold Autoinflammatory Syndrome', 'Wolff-Parkinson-White Syndrome', 'Sunburn', 'Hemophilia A', 'Breast Cancer, Palliative', 'Submental Fullness', 'actor IX Deficiency', 'Anaplastic Astrocytoma', 'Paroxysmal Supraventricular Tachycardia', 'Nephrocalcinosis', 'Prosthetic Heart Valves, Mechanical Valves - Thrombosis Prophylaxis', 'Granuloma Annulare', 'Porphyria', 'Anesthetic Adjunct', 'CNS Magnetic Resonance Imaging', '44</span> users found this comment helpful.', 'Nausea/Vomiting, Radiation Induced', 'ge HCT (amlodipine / hydrochlorothiazide / valsartan)', 'Hypoglycemia', 'Peripheral T-cell Lymphoma', 'Ascariasis', '43</span> users found this comment helpful.', 'STD Prophylaxis', 'Mononucleosis', 'Pertussis', 'Aplastic Anemia', 'Coronary Artery Disease', 'm Pain Disorde', 'Mixed Connective Tissue Disease', 'Mycoplasma Pneumonia', 'Pityriasis rubra pilaris', '34</span> users found this comment helpful.', '51</span> users found this comment helpful.', 'Gallbladder Disease', 'Anthrax', 'Blepharitis', 'Urinary Retention', 'tic (mycophenolic acid)', 'Hyperphosphatemia', '35</span> users found this comment helpful.', 'Ichthyosis', 'Endoscopy or Radiology Premedication', 'Pseudomembranous Colitis', 'Lewy Body Dementia', 'Neurosurgery', 'Aspiration Pneumonia', 'Dientamoeba fragilis', 'Ectopic Pregnancy', 'ailure to Thrive', 'Tuberculosis, Prophylaxis', 'Esophageal Candidiasis', 'Small Fiber Neuropathy', 'Rejection Prophylaxis', 'Varicose Veins', 'Ocular Rosacea', 'Severe Mood Dysregulation', 'Small Bowel Bacterial Overgrowth', 'Anorexia/Feeding Problems', 'Meningitis', 'me', 'Hypodermoclysis', 'Strabismus', 'Organ Transplant, Rejection Reversal', 'Polymyositis/Dermatomyositis', 'Corneal Refractive Surgery', 'Gastrointestinal Hemorrhage', 'Keratitis', 'Bacteremia', 'Hypokalemic Periodic Paralysis', 'Zollinger-Ellison Syndrome', 'Coccidioidomycosis', 'Radionuclide Myocardial Perfusion Study', 'Dissociative Identity Disorde', 'Salmonella Gastroenteritis', 'Ventricular Arrhythmia', 'Cyclitis', 'Aspergillosis, Aspergilloma', 'Subarachnoid Hemorrhage', 'Neutropenia', 'Schilling Test', 'Occupational Exposure', 'Meningococcal Meningitis Prophylaxis', 'Upper Limb Spasticity', 'Postoperative Increased Intraocular Pressure', 'Mantle Cell Lymphoma', 'Myeloproliferative Disorders', 'Acetaminophen Overdose', 'Giant Cell Tumor of Bone', 'Syringomyelia', 'Ehrlichiosis', 'Gonadotropin Inhibition', 'ibrocystic Breast Disease', 'Pemphigoid', 'Renal Tubular Acidosis', 'Oppositional Defiant Disorde', 'Parkinsonism', 'Reversal of Nondepolarizing Muscle Relaxants', 'Cerebral Edema', 'acial Lipoatrophy', 'Cachexia', 'Stomach Cance', 'Joint Infection', 'Acute Otitis Externa', 'Small Bowel or Pancreatic Fistula', 'Myelofibrosis', 'Hemophilia B', 'Thyrotoxicosis', 'mist (', 'Acute Nonlymphocytic Leukemia', 'Epididymitis, Sexually Transmitted', 'Strongyloidiasis', '142</span> users found this comment helpful.', 'Schistosoma japonicum', 'Avian Influenza', 'Muscle Twitching', 'Gaucher Disease', '75</span> users found this comment helpful.', 'Prosthetic Heart Valves, Tissue Valves - Thrombosis Prophylaxis', 'Babesiosis', 't Pac with Cyclobenzaprine (cyclobenzaprine)', 'Intermittent Explosive Disorde', 'Tic Disorde', 'Malignant Glioma', 'Vitamin K Deficiency', 'Neurosis', 'Toothache', 'Deep Vein Thrombosis Prophylaxis after Knee Replacement Surgery', 'Typhoid Feve', 'Tardive Dyskinesia', 'Niacin Deficiency', 'Renal Transplant', 'min / rosiglitazone)', \"Peyronie's Disease\", 'Croup', '85</span> users found this comment helpful.', 'Hyperlipoproteinemia Type IV, Elevated VLDL', 'Abdominal Distension', 'Salivary Gland Cance', '46</span> users found this comment helpful.', 'Hairy Cell Leukemia', 'Tetanus', 'Pathological Hypersecretory Conditions', 'Sleep Paralysis', 'Delayed Puberty, Male', 'Angioedema', 'Myxedema Coma', 'Thrombocytopenia', 'Cholera', '45</span> users found this comment helpful.', 'Nonalcoholic Fatty Liver Disease', 'Body Imaging', 'Aggressive Behavi', 'Hepatic Tum', 'Anaphylaxis', 't Care', 'Campylobacter Gastroenteritis', 'Euvolemic Hyponatremia', 'Chronic Eosinophilic Leukemia', 'Duodenal Ulcer Prophylaxis', 'Solid Tumors', 'Nocardiosis', '42</span> users found this comment helpful.', 'Gonococcal Infection, Disseminated', '99</span> users found this comment helpful.', '74</span> users found this comment helpful.', 'Testicular Cance', 'Hyperparathyroidism Secondary to Renal Impairment', 'Cutaneous Larva Migrans', 'Leukocytoclastic Vasculitis', 'Rat-bite Feve', 'Uveitis, Posteri', 'Premature Ejaculation', 'Jet Lag', 'Myotonia Congenita', 'Hemorrhoids (pramoxine / zinc oxide)', 'Somat', '37</span> users found this comment helpful.', 'Nausea (phosphorated carbohydrate solution)', '83</span> users found this comment helpful.', 'Tympanostomy Tube Placement Surgery', 'Pulmonary Edema', '70</span> users found this comment helpful.', 'Lyme Disease, Erythema Chronicum Migrans', '100</span> users found this comment helpful.', 'Yellow Fever Prophylaxis', 'Steroid Responsive Inflammatory Conditions', '135</span> users found this comment helpful.', '38</span> users found this comment helpful.', 'Pertussis Prophylaxis', '105</span> users found this comment helpful.', 'Dermatitis Herpetiformis', '94</span> users found this comment helpful.', 'Hemangioma', 'Thyroid Suppression Test', '54</span> users found this comment helpful.', 'Amyotrophic Lateral Sclerosis', '79</span> users found this comment helpful.', 'Epicondylitis, Tennis Elbow', 'Dermatitis Herpeti', 'Secondary Cutaneous Bacterial Infections', 'Hyperuricemia Secondary to Chemotherapy', 'Systemic Candidiasis', 'Klinefelter Syndrome', 'Portal Hypertension', 'Pseudogout, Prophylaxis', '64</span> users found this comment helpful.', 'Neuritis', '146</span> users found this comment helpful.', 'Q Feve', '110</span> users found this comment helpful.', 'llicular Lymphoma', 'Primary Hyperaldosteronism Diagnosis', 'Postpartum Breast Pain', 'Women (minoxidil)', 'Asystole', 'Bartonellosis', '48</span> users found this comment helpful.', 'Transverse Myelitis', '30</span> users found this comment helpful.', '63</span> users found this comment helpful.', 'AV Heart Block', \"Wilson's Disease\", 'Sepsis', 'Hypopituitarism', 'Infectious Diarrhea', 'Multiple Endocrine Adenomas', 'Pruritus of Partial Biliary Obstruction', 'Meningitis, Meningococcal', 'Parkinsonian Trem', 'Rabies Prophylaxis', '98</span> users found this comment helpful.', 'Somatoform Pain Disorde', 'Esophageal Spasm', 'Wound Cleansing', '84</span> users found this comment helpful.', 'Legionella Pneumonia', 'Hydrocephalus', 'Hyperlipoproteinemia Type III, Elevated beta-VLDL   IDL', '40</span> users found this comment helpful.', 'Mumps Prophylaxis', 'Hyperbilirubinemia', 'Corneal Ulce', 'Hepatitis B Prevention', 'Tuberculosis, Active', 'Cerebrovascular Insufficiency', 'Anti NMDA Receptor Encephalitis', '72</span> users found this comment helpful.', 'unctional Gastric Disorde', 'Paragonimus westermani, Lung Fluke', \"Cogan's Syndrome\", 'Sporotrichosis', 'Cluster-Tic Syndrome', 'Gestational Diabetes', '26</span> users found this comment helpful.', 'Microscopic polyangiitis', 'Neurotic Depression', \"Hodgkin's Lymphoma\", '123</span> users found this comment helpful.', 'Prevention of Perinatal Group B Streptococcal Disease', 'Short Stature for Age', '47</span> users found this comment helpful.', '76</span> users found this comment helpful.', 'Ramsay Hunt Syndrome', 'Patent Ductus Arteriosus', '77</span> users found this comment helpful.', 'Manscaping Pain', 'Gastric Cance', '121</span> users found this comment helpful.', 'ungal Infection Prophylaxis', 'Short Stature', 'Hypercalcemia', '95</span> users found this comment helpful.', '61</span> users found this comment helpful.', 'Diagnostic Bronchograms', 'Neoplastic Diseases', 'Linear IgA Disease', 'ungal Pneumonia', '145</span> users found this comment helpful.', 'Scleroderma', 'Tinea Barbae', '62</span> users found this comment helpful.', '92</span> users found this comment helpful.']\n"
     ]
    }
   ],
   "source": [
    "druglist=[]\n",
    "for x in commonDrugs:\n",
    "    druglist.append(x[0])\n",
    "    \n",
    "    \n",
    "    \n",
    "    \n",
    "print(druglist)"
   ]
  },
  {
   "cell_type": "code",
   "execution_count": null,
   "metadata": {},
   "outputs": [],
   "source": []
  },
  {
   "cell_type": "code",
   "execution_count": null,
   "metadata": {},
   "outputs": [],
   "source": []
  },
  {
   "cell_type": "code",
   "execution_count": 191,
   "metadata": {
    "scrolled": true
   },
   "outputs": [
    {
     "name": "stdout",
     "output_type": "stream",
     "text": [
      "Alcohol Withdrawal\n",
      "..............................\n",
      "Meningitis\n",
      "..............................\n",
      "Gas\n",
      "mis\n",
      "..............................\n",
      "Cholera\n",
      "..............................\n",
      "Cholera\n",
      "..............................\n",
      "Diverticulitis\n",
      "..............................\n",
      "Constipation\n",
      "Constipation, Chronic\n",
      "Constipation, Drug Induced\n",
      "Chronic Idiopathic Constipation\n",
      "Opioid-Induced Constipation\n",
      "Constipation, Acute\n",
      "..............................\n",
      "Endometriosis\n",
      "me\n",
      "..............................\n",
      "Gas\n",
      "..............................\n",
      "Gastroenteritis\n",
      "Gas\n",
      "..............................\n",
      "GERD\n",
      "Gas\n",
      "..............................\n",
      "Schizophrenia\n",
      "Otitis Externa\n",
      "Acute Otitis Externa\n",
      "Thrombocytopenia\n",
      "..............................\n",
      "Angina\n",
      "..............................\n",
      "me\n",
      "..............................\n",
      "me\n",
      "..............................\n",
      "Ehrlichiosis\n",
      "..............................\n",
      "Ovarian Cysts\n",
      "..............................\n",
      "Cance\n",
      "..............................\n",
      "Cance\n",
      "..............................\n",
      "Bone infection\n",
      "..............................\n",
      "Bladder Infection\n",
      "..............................\n",
      "mis\n",
      "..............................\n",
      "Lactose Intolerance\n",
      "..............................\n",
      "Diverticulitis\n",
      "..............................\n",
      "min)\n",
      "..............................\n"
     ]
    }
   ],
   "source": [
    "\n",
    "\n",
    "#print(druglist[35])\n",
    "\n",
    "cleanedList = [i for i in druglist if type(i) is not float]\n",
    "\n",
    "#print(fuzz.partial_ratio(result[0][0][0],cleanedList[36]))\n",
    "#result\n",
    "\n",
    "val = []\n",
    "finallist = []\n",
    "finallistindex  = []\n",
    "for x in range(0,len(result)):\n",
    "    \n",
    "    olddis = result[x][0][0]\n",
    "    val = []\n",
    "    for y in range(0,len(cleanedList)):\n",
    "        \n",
    "        #print('num:' + y)\n",
    "        #print(isinstance(druglist[y],)) \n",
    "        val.append(fuzz.partial_ratio(olddis,cleanedList[y]))\n",
    "    values = np.array(val)\n",
    "    searchval = max(val)\n",
    "    ii = np.where(values == searchval)[0]\n",
    "    for i in ii:\n",
    "        print(cleanedList[i])\n",
    "        finallist.append([cleanedList[i],val[i],x])\n",
    "    print('..............................')    \n",
    "    \n",
    "        "
   ]
  },
  {
   "cell_type": "code",
   "execution_count": 192,
   "metadata": {},
   "outputs": [
    {
     "data": {
      "text/plain": [
       "[['Alcohol Withdrawal', 80, 0],\n",
       " ['Meningitis', 74, 1],\n",
       " ['Gas', 67, 2],\n",
       " ['mis', 67, 2],\n",
       " ['Cholera', 71, 3],\n",
       " ['Cholera', 71, 4],\n",
       " ['Diverticulitis', 93, 5],\n",
       " ['Constipation', 100, 6],\n",
       " ['Constipation, Chronic', 100, 6],\n",
       " ['Constipation, Drug Induced', 100, 6],\n",
       " ['Chronic Idiopathic Constipation', 100, 6],\n",
       " ['Opioid-Induced Constipation', 100, 6],\n",
       " ['Constipation, Acute', 100, 6],\n",
       " ['Endometriosis', 100, 7],\n",
       " ['me', 100, 7],\n",
       " ['Gas', 100, 8],\n",
       " ['Gastroenteritis', 100, 9],\n",
       " ['Gas', 100, 9],\n",
       " ['GERD', 100, 10],\n",
       " ['Gas', 100, 10],\n",
       " ['Schizophrenia', 73, 11],\n",
       " ['Otitis Externa', 73, 11],\n",
       " ['Acute Otitis Externa', 73, 11],\n",
       " ['Thrombocytopenia', 73, 11],\n",
       " ['Angina', 83, 12],\n",
       " ['me', 100, 13],\n",
       " ['me', 100, 14],\n",
       " ['Ehrlichiosis', 75, 15],\n",
       " ['Ovarian Cysts', 85, 16],\n",
       " ['Cance', 80, 17],\n",
       " ['Cance', 80, 18],\n",
       " ['Bone infection', 86, 19],\n",
       " ['Bladder Infection', 94, 20],\n",
       " ['mis', 67, 21],\n",
       " ['Lactose Intolerance', 95, 22],\n",
       " ['Diverticulitis', 86, 23],\n",
       " ['min)', 75, 24]]"
      ]
     },
     "execution_count": 192,
     "metadata": {},
     "output_type": "execute_result"
    }
   ],
   "source": [
    "maxval = 0;\n",
    "tempmax = []\n",
    "for i in range finallist\n",
    "    x = finalllist[i][1]\n",
    "\n",
    "finallist "
   ]
  },
  {
   "cell_type": "code",
   "execution_count": 185,
   "metadata": {},
   "outputs": [
    {
     "name": "stdout",
     "output_type": "stream",
     "text": [
      "Alcoholism\n",
      "Appendicitis\n",
      "Celiac disease\u000b",
      "celiac sprue\n",
      "Cholecystitis\u000b",
      "inflammation of the gallbladder\n",
      "Cholelithiasis\u000b",
      "gallstones\n",
      "Colonic diverticulitis\u000b",
      "inflammation of pouches in the large intestine\n",
      "Constipation\n",
      "Endometriosis\u000b",
      "uterine tissue outside the uterus\n",
      "Gastric ulcer\u000b",
      "stomach ulcer\n",
      "Gastroenteritis\u000b",
      "intestinal infection\n",
      "Gastroesophageal reflux\u000b",
      "GERD, heartburn\n",
      "Hernia\n",
      "Inguinal hernia\u000b",
      "groin hernia\n",
      "Irritable bowel syndrome\u000b",
      "IBS, chronic intestinal pain and cramping\n",
      "Ligament sprain\u000b",
      "connection between two bones\n",
      "Kidney stone\u000b",
      "nephrolithiasis\n",
      "Ovarian cyst\u000b",
      "female organ fluid collection\n",
      "Pancreatitis\u000b",
      "pancreas inflammation\n",
      "Pancreas inflammation\u000b",
      "pancreatitis, chronic\n",
      "Pyelonephritis\u000b",
      "kidney infection\n",
      "Bladder infection\u000b",
      "cystitis, UTI, urinary tract infection\n",
      "Umbilical hernia\u000b",
      "belly button hernia\n",
      "Lactose intolerance\n",
      "Diverticulosis\u000b",
      "weakening of the large intestine wall\n",
      "Ventral hernia\u000b",
      "bulging of the abdominal wall\n"
     ]
    }
   ],
   "source": [
    "for x in range(0,len(result)):\n",
    "    print( result[x][0][0])"
   ]
  },
  {
   "cell_type": "markdown",
   "metadata": {},
   "source": [
    "  "
   ]
  },
  {
   "cell_type": "code",
   "execution_count": 52,
   "metadata": {},
   "outputs": [],
   "source": [
    "condition = df['condition']"
   ]
  },
  {
   "cell_type": "code",
   "execution_count": null,
   "metadata": {},
   "outputs": [],
   "source": []
  },
  {
   "cell_type": "code",
   "execution_count": null,
   "metadata": {},
   "outputs": [],
   "source": []
  },
  {
   "cell_type": "code",
   "execution_count": 68,
   "metadata": {},
   "outputs": [
    {
     "name": "stdout",
     "output_type": "stream",
     "text": [
      "['Birth Control', 'Depression', 'Pain', 'Anxiety', 'Acne', 'Bipolar Disorde', 'Weight Loss', 'Insomnia', 'Obesity', 'ADHD', 'Emergency Contraception', 'Vaginal Yeast Infection', 'Diabetes, Type 2', 'High Blood Pressure', 'Smoking Cessation', 'Abnormal Uterine Bleeding', 'Bowel Preparation', 'Migraine', 'ibromyalgia', 'Anxiety and Stress', 'Constipation', 'Major Depressive Disorde', 'Chronic Pain', 'Panic Disorde', 'Migraine Prevention', 'Urinary Tract Infection', 'Opiate Dependence', 'Osteoarthritis', 'Muscle Spasm', 'Erectile Dysfunction', 'Generalized Anxiety Disorde', 'Allergic Rhinitis', 'Irritable Bowel Syndrome', 'Rheumatoid Arthritis', 'Bacterial Infection', 'Cough', nan, 'Sinusitis', 'Nausea/Vomiting', 'GERD', 'Hepatitis C', 'Hyperhidrosis', 'Restless Legs Syndrome', 'Overactive Bladde', 'Multiple Sclerosis', 'High Cholesterol', 'HIV Infection', 'Psoriasis', 'Schizophrenia', 'Hypogonadism, Male', 'Endometriosis', 'Back Pain', 'Constipation, Chronic', 'Seizures', 'Rosacea', 'Obsessive Compulsive Disorde', 'Benign Prostatic Hyperplasia', 'Asthma, Maintenance', 'Bronchitis', 'Bacterial Vaginitis', 'Not Listed / Othe', 'Headache', 'Narcolepsy', 'Onychomycosis, Toenail', 'Postmenopausal Symptoms', 'Social Anxiety Disorde', 'Alcohol Dependence', 'Bladder Infection', 'Herpes Simplex', 'Schizoaffective Disorde', 'Menstrual Disorders', 'Epilepsy', 'Underactive Thyroid', 'Post Traumatic Stress Disorde', 'Influenza', 'Cough and Nasal Congestion', 'Psoriatic Arthritis', 'Opiate Withdrawal', 'Cold Sores', 'Inflammatory Conditions', 'Nasal Congestion', 'Breast Cance', 'Chlamydia Infection', 'Premenstrual Dysphoric Disorde', 'Plaque Psoriasis', 'Neuropathic Pain', 'Pneumonia', 'Anesthesia', 'Osteoporosis', 'Urticaria', 'COPD, Maintenance', 'Polycystic Ovary Syndrome', 'Constipation, Drug Induced', 'Asthma', 'Helicobacter Pylori Infection', 'Ulcerative Colitis', 'Atrial Fibrillation', \"Crohn's Disease, Maintenance\", 'Motion Sickness', 'mance Anxiety', 'Seizure Prevention', \"Hashimoto's disease\", 'Diarrhea', 'Alcohol Withdrawal', 'Hot Flashes', 'Urinary Incontinence', 'Upper Respiratory Tract Infection', 'Sedation', 'Ankylosing Spondylitis', 'Peripheral Neuropathy', 'Skin or Soft Tissue Infection', 'Gout, Acute', 'Otitis Media', 'Ovarian Cysts', 'Diabetic Peripheral Neuropathy', 'Dry Eye Disease', 'Atopic Dermatitis', \"Crohn's Disease\", 'Atrophic Vaginitis', 'Eczema', 'Trigeminal Neuralgia', 'Borderline Personality Disorde', \"Parkinson's Disease\", 'Strep Throat', 'Allergies', 'Period Pain', 'Hirsutism', 'Prostate Cance', 'Cluster Headaches', 'Keratosis', 'Diabetes, Type 1', 'Interstitial Cystitis', 'Bacterial Skin Infection', 'COPD', 'Herpes Simplex, Suppression', 'Prevention of Thromboembolism in Atrial Fibrillation', 'Diverticulitis', 'Ulcerative Colitis, Active', 'Postherpetic Neuralgia', 'Urinary Tract Stones', 'Arrhythmia', 'Edema', 'Sciatica', 'Non-Small Cell Lung Cance', 'Human Papilloma Virus', 'Nausea/Vomiting of Pregnancy', 'Systemic Lupus Erythematosus', 'Hypothyroidism, After Thyroid Removal', 'Obstructive Sleep Apnea/Hypopnea Syndrome', 'Alopecia', 'Premature Lab', 'Supraventricular Tachycardia', 'Cold Symptoms', 'Dermatitis', 'Asthma, acute', 'moterol)', 'Kidney Infections', \"Alzheimer's Disease\", 'Head Lice', 'Muscle Pain', 'Autism', 'Rhinitis', '1</span> users found this comment helpful.', 'Neuralgia', 'Anorexia', 'Renal Cell Carcinoma', 'Postpartum Depression', 'Angina', 'Hemorrhoids', 'Allergic Reactions', 'Binge Eating Disorde', 'Sexual Dysfunction, SSRI Induced', 'Benign Essential Trem', 'Dysuria', 'Chronic Fatigue Syndrome', 'Melasma', 'Pseudotumor Cerebri', 'Heart Failure', 'Keratoconjunctivitis Sicca', 'Chronic Myelogenous Leukemia', 'Pulmonary Hypertension', 'Hypertriglyceridemia', 'Breast Cancer, Metastatic', 'Gout', 'Amenorrhea', 'Hypersomnia', 'Vitamin/Mineral Supplementation during Pregnancy/Lactation', 'Psychosis', '0</span> users found this comment helpful.', 'Deep Vein Thrombosis', 'Prostatitis', 'Shift Work Sleep Disorde', 'Diarrhea, Chronic', 'Vertig', 'Dental Abscess', 'Tonsillitis/Pharyngitis', 'Light Sedation', 'emale Infertility', 'Dietary Supplementation', 'Chronic Idiopathic Constipation', 'Dry Skin', 'Conjunctivitis, Allergic', 'atigue', '4</span> users found this comment helpful.', 'Stomach Ulce', \"Tourette's Syndrome\", 'Sinus Symptoms', 'Cervical Dystonia', 'Seasonal Allergic Conjunctivitis', 'Tendonitis', 'Indigestion', '2</span> users found this comment helpful.', 'Pulmonary Embolism', 'Mania', 'Erosive Esophagitis', 'Heart Attack', 'Constipation, Acute', 'Basal Cell Carcinoma', '5</span> users found this comment helpful.', 'Skin and Structure Infection', 'Trichomoniasis', '6</span> users found this comment helpful.', 'Glaucoma, Open Angle', \"Barrett's Esophagus\", 'Prevention of Bladder infection', 'High Cholesterol, Familial Heterozygous', 'Opioid-Induced Constipation', \"Sjogren's Syndrome\", 'Conjunctivitis, Bacterial', 'Androgenetic Alopecia', '3</span> users found this comment helpful.', 'Uterine Fibroids', 'Periodic Limb Movement Disorde', 'Pruritus', 'Menorrhagia', 'Bulimia', 'Perimenopausal Symptoms', 'min)', 'Iron Deficiency Anemia', 'Eye Redness', 'Nausea/Vomiting, Chemotherapy Induced', 'Hyperprolactinemia', 'Gastroparesis', 'Malaria Prevention', 'Breakthrough Pain', \"Raynaud's Syndrome\", 'Myasthenia Gravis', 'Soft Tissue Sarcoma', 'Postoperative Pain', 'Reflex Sympathetic Dystrophy Syndrome', 'Burns, External', 'Dermatological Disorders', '7</span> users found this comment helpful.', 'Light Anesthesia', 'Organ Transplant, Rejection Prophylaxis', 'Tinea Pedis', 'Primary Immunodeficiency Syndrome', 'Ulcerative Colitis, Maintenance', 'Neutropenia Associated with Chemotherapy', \"Crohn's Disease, Acute\", 'Pneumococcal Disease Prophylaxis', 'Prevention of Osteoporosis', 'Otitis Externa', 'Acute Coronary Syndrome', 'acial Wrinkles', 'Chronic Lymphocytic Leukemia', 'Tinea Versicol', 'Gastroenteritis', '10</span> users found this comment helpful.', 'Extrapyramidal Reaction', 'Paranoid Disorde', 'Vulvodynia', 'Eye Redness/Itching', 'Macular Degeneration', 'Temporomandibular Joint Disorde', 'Herpes Zoste', 'Lyme Disease', 'Seborrheic Dermatitis', 'Anemia', 'Cutaneous Candidiasis', 'Postural Orthostatic Tachycardia Syndrome', '12</span> users found this comment helpful.', 'Mitral Valve Prolapse', '9</span> users found this comment helpful.', 'Glaucoma', 'Gouty Arthritis', 'Intraocular Hypertension', 'Angina Pectoris Prophylaxis', 'Hypoestrogenism', 'Tinea Cruris', 'Inflammatory Bowel Disease', \"Meniere's Disease\", 'Actinic Keratosis', 'min / sitagliptin)', 'Human Papillomavirus Prophylaxis', 'Nocturnal Leg Cramps', 'Juvenile Rheumatoid Arthritis', 'Postoperative Ocular Inflammation', 'Tinnitus', 'Methicillin-Resistant Staphylococcus Aureus Infection', 'Agitated State', 'Insulin Resistance Syndrome', 'Uveitis', 'Xerostomia', 'Ischemic Stroke, Prophylaxis', 'Ovulation Induction', 'Hepatic Encephalopathy', 'Clostridial Infection', 'Photoaging of the Skin', 'Atrial Flutte', 'Anemia Associated with Chronic Renal Failure', 'Onychomycosis, Fingernail', 'Giardiasis', 'Duodenal Ulce', 'Swine Flu', 'Benzodiazepine Withdrawal', 'Nightmares', '8</span> users found this comment helpful.', 'Left Ventricular Dysfunction', 'Vitamin/Mineral Supplementation and Deficiency', 'Gas', 'Conjunctivitis', 'Diabetes Insipidus', 'Cystic Fibrosis', 'Hereditary Angioedema', 'Pancreatic Exocrine Dysfunction', 'Premenstrual Syndrome', 'Juvenile Idiopathic Arthritis', 'Bronchospasm Prophylaxis', 'Diagnosis and Investigation', 'Malaria', 'moterol / mometasone)', 'Undifferentiated Connective Tissue Disease', 'Pseudobulbar Affect', 'zen Shoulde', 'Asperger Syndrome', 'Idiopathic Thrombocytopenic Purpura', 'Surgical Prophylaxis', 'Hepatitis B', 'Autoimmune Hepatitis', 'Vitamin D Deficiency', 'Dermatologic Lesion', 'Precocious Puberty', 'Diaper Rash', 'Breast Cancer, Adjuvant', 'Pinworm Infection (Enterobius vermicularis)', 'Myelodysplastic Syndrome', 'Nausea/Vomiting, Postoperative', 'Herpes Simplex, Mucocutaneous/Immunocompetent Host', 'Deep Vein Thrombosis, Prophylaxis', 'TSH Suppression', 'Hiccups', 'ge (amlodipine / valsartan)', 'Night Terrors', 'Agitation', 'Tinea Corporis', 'Allergic Urticaria', 'Diabetic Kidney Disease', 'Labor Induction', 'Anal Fissure and Fistula', 'Opioid Overdose', 'Infection Prophylaxis', \"Non-Hodgkin's Lymphoma\", 'Herbal Supplementation', 'Nasal Polyps', 'Hyperlipoproteinemia Type IIa, Elevated LDL', 'Condylomata Acuminata', 'Cyclic Vomiting Syndrome', 'Breast Cancer, Prevention', 'Mucositis', '13</span> users found this comment helpful.', 'Lennox-Gastaut Syndrome', 'Hyperphosphatemia of Renal Failure', '15</span> users found this comment helpful.', 'Vitamin B12 Deficiency', 'Burning Mouth Syndrome', 'Gingivitis', 'Labor Pain', '17</span> users found this comment helpful.', 'Chronic Pancreatitis', 'Biliary Cirrhosis', 'Peptic Ulce', '39</span> users found this comment helpful.', 'COPD, Acute', '18</span> users found this comment helpful.', 'Dysautonomia', 'Noninfectious Colitis', 'Dyspareunia', 'Influenza Prophylaxis', 'Oral Thrush', 'Computed Tomography', 'Pe', 'Occipital Neuralgia', 'min / saxagliptin)', 'Hypotension', 'Auditory Processing Disorde', 'Anemia, Sickle Cell', 'Spondyloarthritis', 'Reversal of Opioid Sedation', 'Pelvic Inflammatory Disease', 'Atrophic Urethritis', 'Skin Cance', '11</span> users found this comment helpful.', 'Ventricular Tachycardia', 'Primary Ovarian Failure', 'Lactation Augmentation', 'Bone infection', 'Sarcoidosis', 'Lyme Disease, Neurologic', 'Thyroid Cance', 'llicle Stimulation', 'Mycobacterium avium-intracellulare, Treatment', 'Gastrointestinal Decontamination', 'Bullous Pemphigoid', 'eve', 'Skin Disinfection, Preoperative', 'Gastrointestinal Stromal Tum', 'Diarrhea, Acute', 'Osteolytic Bone Lesions of Multiple Myeloma', 'Mountain Sickness / Altitude Sickness', 'Dystonia', 'Menopausal Disorders', 'Anal Itching', 'Pediatric Growth Hormone Deficiency', '14</span> users found this comment helpful.', 'Lipodystrophy', 'Bursitis', 'Ulcerative Proctitis', 'Melanoma, Metastatic', 'Secondary Hyperparathyroidism', 'Deep Vein Thrombosis Prophylaxis after Hip Replacement Surgery', \"Dercum's Disease\", 'Percutaneous Coronary Intervention', 'Ear Wax Impaction', 'Gastric Ulcer Maintenance Treatment', 'Bacterial Endocarditis Prevention', 'Hidradenitis Suppurativa', 'Macular Edema', 'Intermittent Claudication', 'Mild Cognitive Impairment', 'Lymphoma', 'lic Acid Deficiency', 'Dietary Fiber Supplementation', \"von Willebrand's Disease\", 'Oophorectomy', 'Progesterone Insufficiency', 'Hypocalcemia', 'Persistent Depressive Disorde', 'High Cholesterol, Familial Homozygous', 'Aplastic Anemia', 'Lichen Planus', 'Impetig', 'Prevention of Cardiovascular Disease', 'Primary Nocturnal Enuresis', 'Skin Rash', 'Aphthous Ulce', 'Gastritis/Duodenitis', '23</span> users found this comment helpful.', 'Women (oxybutynin)', 'Ophthalmic Surgery', 'Peritonitis', 'Iritis', 'Rhinorrhea', 'Adrenocortical Insufficiency', 'Hypomagnesemia', 'Endometrial Hyperplasia', 'Diabetic Macular Edema', '21</span> users found this comment helpful.', 'Seasonal Affective Disorde', 'Tuberculosis, Latent', 'Osteolytic Bone Metastases of Solid Tumors', 'Multiple Myeloma', 'Local Anesthesia', 'Deep Neck Infection', 'Endometrial Cance', 'mulation) (phenylephrine)', 'Perioral Dermatitis', 'Insomnia, Stimulant-Associated', 'Amebiasis', 'Eyelash Hypotrichosis', 'NSAID-Induced Gastric Ulce', 'Hyperthyroidism', 'Alpha-1 Proteinase Inhibitor Deficiency', 'Warts', \"Still's Disease\", 'Pharyngitis', \"Traveler's Diarrhea\", 'Opiate Adjunct', 'Platelet Aggregation Inhibition', '25</span> users found this comment helpful.', 'Polymyositis/Dermatomyositis', 'Thromboembolic Stroke Prophylaxis', 'Thrombocythemia', 'Acute Lymphoblastic Leukemia', 'Corneal Refractive Surgery', 'Gastrointestinal Hemorrhage', 'Lymphocytic Colitis', 'Gonococcal Infection, Uncomplicated', 'Hyperekplexia', 'Dumping Syndrome', 'Glioblastoma Multiforme', 'Expectoration', '33</span> users found this comment helpful.', 'Lactose Intolerance', 'Schnitzler Syndrome', 'Abortion', 'Cerebral Spasticity', '16</span> users found this comment helpful.', 'Liver Magnetic Resonance Imaging', 'Bacteremia', 'Pupillary Dilation', 'Post-Cholecystectomy Diarrhea', '27</span> users found this comment helpful.', 'AIDS Related Wasting', '20</span> users found this comment helpful.', 'ICU Agitation', 'm Pain Disorde', 'Colorectal Cance', '22</span> users found this comment helpful.', 'Ventricular Fibrillation', 'Varicella-Zoste', 'Chronic Spasticity', 'Premature Ventricular Depolarizations', 'Pulmonary Embolism, First Event', 'Salmonella Gastroenteritis', 'Mycoplasma Pneumonia', '32</span> users found this comment helpful.', 'Hepatocellular Carcinoma', 'Hypoparathyroidism', 'Costochondritis', '34</span> users found this comment helpful.', 'Deep Vein Thrombosis, First Event', \"Paget's Disease\", 'Dandruff', \"Addison's Disease\", 'Neck Pain', 'Antiphospholipid Syndrome', 'Systemic Sclerosis', 'Lichen Sclerosus', 'Trichotillomania', 'Performance Anxiety', '55</span> users found this comment helpful.', '28</span> users found this comment helpful.', \"Behcet's Disease\", 'Intraabdominal Infection', 'Occupational Exposure', 'Hyperlipoproteinemia', '51</span> users found this comment helpful.', 'Gallbladder Disease', 'Ischemic Stroke', 'Mantle Cell Lymphoma', 'Streptococcal Infection', 'Systemic Mastocytosis', 'Chronic Myofascial Pain', 'Oligospermia', 'Scabies', 'Deep Vein Thrombosis, Recurrent Event', 'Uterine Bleeding', 'Bleeding Disorde', 'New Daily Persistent Headache', 'Renal Tubular Acidosis', 'Cance', 'Periodontitis', 'Hypercalcemia of Malignancy', 'Prevention of Dental Caries', 'Breast Cancer, Palliative', 'Submental Fullness', 'Cataplexy', 'Acute Otitis Externa', '24</span> users found this comment helpful.', 'Rat-bite Feve', 'Leukemia', 'me', 'Herpes Zoster, Prophylaxis', 'Anemia, Chemotherapy Induced', 'Hypodermoclysis', 'Uveitis, Posteri', 'Strabismus', 'B12 Nutritional Deficiency', \"Wegener's Granulomatosis\", 'cal Segmental Glomerulosclerosis', 'Glioblastoma Multi', 'Organ Transplant, Rejection Reversal', 'Premature Ejaculation', 'Mononucleosis', 'CMV Prophylaxis', 'Pertussis', 'Gender Dysphoria', 'Keratitis', 'Immunosuppression', 'Hypertensive Emergency', '31</span> users found this comment helpful.', 'Melanoma', 'Esophageal Variceal Hemorrhage Prophylaxis', 'Jet Lag', 'Hypokalemic Periodic Paralysis', 'Spondylolisthesis', 'Zollinger-Ellison Syndrome', 'Coccidioidomycosis', 'Myotonia Congenita', 'Polycythemia Vera', 'Radionuclide Myocardial Perfusion Study', 'Oral and Dental Conditions', 'Coronary Artery Disease', 'Dissociative Identity Disorde', 'Body Dysmorphic Disorde', 'Hemorrhoids (pramoxine / zinc oxide)', 'Enterocolitis', 'Pancreatic Cance', 'Transient Ischemic Attack', 'Mixed Connective Tissue Disease', 'Cutaneous T-cell Lymphoma', 'Nephrotic Syndrome', 'Pemphigus', 'Somat', 'Ventricular Arrhythmia', 'Pityriasis rubra pilaris', 'Sore Throat', 'Autoimmune Hemolytic Anemia', 'Hypoactive Sexual Desire Disorde', 'Cyclitis', 'Pre-Exposure Prophylaxis', 'Aspergillosis, Aspergilloma', 'Nasal Carriage of Staphylococcus aureus', 'Stress Ulcer Prophylaxis', 'Subarachnoid Hemorrhage', '37</span> users found this comment helpful.', 'Neutropenia', 'Histoplasmosis', 'Nausea (phosphorated carbohydrate solution)', 'Schilling Test', 'Prevention of Hypokalemia', 'Chronic Inflammatory Demyelinating Polyradiculoneuropathy', 'Peripheral Arterial Disease', \"Dupuytren's contracture\", '83</span> users found this comment helpful.', 'Meningococcal Meningitis Prophylaxis', 'Tympanostomy Tube Placement Surgery', 'Upper Limb Spasticity', 'Postoperative Increased Intraocular Pressure', 'Cyclothymic Disorde', 'Dermatomyositis', 'Anthrax', 'Pulmonary Edema', 'Myeloproliferative Disorders', '70</span> users found this comment helpful.', 'Acetaminophen Overdose', 'Dementia', 'Giant Cell Tumor of Bone', 'Syringomyelia', 'Ehrlichiosis', 'Lyme Disease, Erythema Chronicum Migrans', 'Herpes Simplex Dendritic Keratitis', 'Acute Promyelocytic Leukemia', 'Blepharitis', 'Topical Disinfection', 'Gonadotropin Inhibition', 'Squamous Cell Carcinoma', 'ibrocystic Breast Disease', 'Ovarian Cance', '100</span> users found this comment helpful.', 'Hyperkalemia', 'amilial Cold Autoinflammatory Syndrome', 'Pemphigoid', 'Adult Human Growth Hormone Deficiency', 'Wolff-Parkinson-White Syndrome', 'Urinary Retention', 'Head Injury', 'Sunburn', 'Dermatophytosis', 'Hemophilia A', 'Eosinophilic Esophagitis', 'Primary Hyperaldosteronism', 'Oppositional Defiant Disorde', 'tic (mycophenolic acid)', 'Parkinsonism', 'Reversal of Nondepolarizing Muscle Relaxants', 'Nonoccupational Exposure', 'Cerebral Edema', 'Yellow Fever Prophylaxis', 'acial Lipoatrophy', 'Cachexia', 'Stomach Cance', 'Joint Infection', 'Status Epilepticus', '41</span> users found this comment helpful.', 'Pudendal Neuralgia', 'Small Bowel or Pancreatic Fistula', 'Steroid Responsive Inflammatory Conditions', '135</span> users found this comment helpful.', 'Hyperphosphatemia', 'Myelofibrosis', 'Hemophilia B', '38</span> users found this comment helpful.', 'Pain/Feve', 'Thyrotoxicosis', 'Pertussis Prophylaxis', 'mist (', 'Head and Neck Cance', '35</span> users found this comment helpful.', '105</span> users found this comment helpful.', 'Herpes Simplex, Mucocutaneous/Immunocompromised Host', 'actor IX Deficiency', 'Ichthyosis', '29</span> users found this comment helpful.', 'Anaplastic Astrocytoma', 'Acute Nonlymphocytic Leukemia', 'Epididymitis, Sexually Transmitted', 'Strongyloidiasis']\n"
     ]
    }
   ],
   "source": [
    "commonDrugs\n",
    "\n"
   ]
  },
  {
   "cell_type": "code",
   "execution_count": null,
   "metadata": {},
   "outputs": [],
   "source": []
  },
  {
   "cell_type": "code",
   "execution_count": 127,
   "metadata": {},
   "outputs": [
    {
     "name": "stdout",
     "output_type": "stream",
     "text": [
      "['Abdominal aortic aneurysm (enlarged major blood vessel)', 'Abdominal swelling', 'Abdominal trauma', 'Abrasions  (scrapes)', 'ACE inhibitor induced cough blood pressure medication side effect Drug-induced cough Drug reaction: ACE inhibitor', 'acetaminophen overdose Adverse reaction to acetaminophen', 'Tylenol  acetaminophen poisoning', 'Achilles tendonitis  (heel tendon inflammation)', 'Achilles tendon rupture (heel tendon tear)', 'Acid  LSD abuse', 'Acidosis  (excessive acid in the body)', 'Acoustic neuroma (ear nerve tumor)', 'AC joint separation acromioclavicular joint separation closed separation of acromioclavicular joint', 'Acute angle closure glaucoma increased inner eye pressure', 'Acute fatty liver of pregnancy', 'Adenoiditis (a type of lymph node inflammation)', 'Adenovirus infection  (virus infection)', 'Frozen shoulder  (adhesive capsulitis of shoulder)', 'Adjustment disorder  (poor adjustment to life stressor)', 'Alcohol  ethanol intoxication', 'Alcohol  ethanol abuse', 'Alcohol  ethanol poisoning  (overdose)', 'Alcohol withdrawal syndrome  (mild)', 'Alcoholism', 'Allergic reaction', 'Allergic rhinitis  (allergic reaction in the nose)', 'Allergy', 'Confusion  (altered mental status)', 'Altered mental status confusion', 'Altitude illness Illnesses due to high altitude effects', 'Amebiasis ameba infection', 'Amphetamine abuse', 'Amphetamine overdose', 'Anal fissure  (tear)', 'Anaphylactoid reactions  (pseudo allergic reaction)', 'Anaphylaxis (severe/life threatening allergic reaction)', 'Anemia  (low red blood cell count)', 'Ankle laceration  (cut in skin)', 'Ankle swelling', 'Ankylosing spondylitis  (severe spine arthritis)', 'Anopheles mosquito bite', 'Anorectal abscess (perirectal) abscess', 'Anorexia (eating disorder)', 'Anorexia nervosa  (eating disorder)', 'Ant bite', 'Anticholinergic drug overdose', 'Antidepressant overdose', 'Anxiety', 'Anxiety disorder generalized anxiety disorder GAD', 'Aortic valve stenosis tight heart valve', 'Aphthous ulcers mouth stomatitis', 'Aplastic anemia bone marrow failure', 'Appendicitis', 'Arm laceration skin cut', 'Arm swelling', 'Arrhythmia abnormal heart rhythm', 'Arteriovenous malformation blood vessel abnormality, AVM', 'Arthritis joint inflammation', 'Aseptic joint effusion fluid in a joint Effusion of joint', 'Aseptic necrosis of bone bone death and destruction', 'Aspirin salicylates overdose', 'Asthma', 'Atopic dermatitis eczema', 'Atrial fibrillation irregular heart rate', 'Atrioventricular node conduction block heart block', 'Atypical pneumonia lung infection', 'Autoimmune conditions', 'Autoimmune disease', 'Avulsions forcible tissue detachment', 'Back trauma injury', 'Bacterial dysentery bacterial infection of the intestines', 'Bacterial infection', 'Bacterial overgrowth of small intestine Bacterial Overgrowth Syndrome', 'Bacterial vaginosis vaginal infection', \"Baker's cyst fluid sac behind knee\", 'Balanitis penis swelling', \"Barrett's esophagus esophagus inflammation\", 'Bartholin abscess or cyst sac of pus near the vaginal opening', 'Basilar artery migraine headache', 'Basilar skull fracture broken skull', 'Beta blocker overdose blood pressure medication overdose', 'Behcet\\x92s disease small blood vessel inflammation disorder', 'Bee sting wasp sting', \"Bell's palsy facial muscle weakness\", 'Benign positional vertigo sensation of spinning', 'Benign prostatic hyperplasia prostate enlargement', 'Benzodiazepine Valium abuse', 'Benzodiazepine Valium overdose', 'Bipolar disorder manic depressive disorder', 'Black widow spider bite', 'Bladder cancer', 'Bladder stone, urinary', 'Bleeding tendency bleeding disorder', 'Blepharitis eyelid swelling', 'Blood loss', 'Body dysmorphic disorder body appearance obsession', 'Bone metastases cancer spread to bone', 'Botulism bacterial toxin causing muscle weakness', 'Bradycardia slow heart rate', 'Brain abscess collection of pus in the brain', 'Brain tumor cancer of the brain', 'Breast abscess collection of pus in the breast', 'Breast cancer tumor', 'Breast fat necrosis dead breast fat', 'Breast fibroadenoma benign breast lumps', 'Bronchial asthma', 'Bronchiectasis bronchial tube inflammatory damage', 'Bronchiolitis bronchial tube inflammation', 'Bronchitis bronchial tube infection', 'Brown recluse spider bite', 'Bulimia nervosa binge eating, vomiting', 'Burkitt lymphoma lymph node tumor', 'Burning mouth syndrome', 'Burns', 'Bursitis inflammation of joint cushion', 'Caffeine use', 'Calcium channel blocker overdose blood pressure medication overdose', 'Calluses and corns', 'Campylobacter infection intestinal bacterial infection', 'Cancer tumor', 'Candida albicans yeast infection', 'Carbon monoxide poisoning odorless, poisonous gas', 'Cardiac arrhythmia abnormal heart rate', 'Cardiomyopathy weakened heart', 'Carotid artery dissection neck artery tear', 'Carotid cavernous fistula abnormal blood vessel communication', 'Carpal tunnel syndrome wrist nerve compression', 'Spinal cord compression cauda equina syndrome', 'Cavernous sinus aneurysm head vein dilation', 'Cavernous sinus thrombosis head vein blood clot', 'Cavernous sinus tumor head vein cancer', 'Cavity tooth caries', 'Celiac disease celiac sprue', 'Cellulitis skin infection', 'Cerebellar hemorrhage bleeding in back of brain', 'Cerebellar syndrome loss of coordination', 'Cerebral contusion bruise of brain', 'Cerebral palsy movement disorder', 'Cerebral vascular accident stroke', 'Cerebrospinal fluid rhinorrhea leakage of brain fluid from the nose', 'Cerumen impaction ear wax buildup', 'Cervical cancer tumor', 'Cervical lymphadenopathy enlarged neck lymph nodes', 'Cervical radiculopathy pinched nerve in neck', 'Cervical spine fracture broken neck bone', 'Cervical spondylosis neck arthritis', 'Cervicitis inflammation of the lower uterus', 'Chagas disease trypanosomiasis', 'Chest trauma injury', 'Child abuse', 'Chlamydia trachomatis infection STD', 'Chlorine bleach ingestion', 'Cholangitis inflammation of the bile ducts', 'Cholecystitis inflammation of the gallbladder', 'Choledocholithiasis stone in bile duct', 'Cholelithiasis gallstones', 'Cholera intestinal bacterial infection', 'Cholesteatoma middle ear mass', 'Chronic fatigue syndrome CFS', 'Chronic liver disease', 'Chronic obstructive pulmonary disease COPD, emphysema', 'Chronic pain', 'Cirrhosis liver failure and scarring', 'Cluster headache one-sided headache behind the eye', 'Coarctation of aorta narrowing of the aorta', 'Cocaine abuse', 'Cocaine overdose', 'Colic prolonged infant crying episodes', 'Colitis large intestine inflammation', 'Colonic diverticulitis inflammation of pouches in the large intestine', 'Colon cancer large intestine tumor', 'Common cold upper respiratory infection', 'Common spider bite spider bite', 'Compartment syndrome increased pressure inside muscles', 'Concussion', 'Congestive heart failure CHF', 'Conjunctivitis pink eye', 'Constipation', 'Contact dermatitis contact skin irritation', 'Poison ivy poison oak, poison sumac', 'Contact urticaria hives', 'Contusion bruise, ecchymosis', 'Corneal abrasion scrape on eye', 'Corneal foreign body object in the eye', 'Coronary artery dissection heart artery tear', 'Costochondritis chest wall inflammation', 'Cough medicine abuse', \"Crohn's disease regional enteritis, Crohn's colitis, intestinal inflammation\", 'Cryptosporidium infection diarrheal parasite infection Infection by Cryptosporidium Cryptosporidiosis infection Infection by Cryptosporidium parvum', 'Cushing disease excessive pituitary gland hormones', 'Cutaneous larva migrans parasitic skin disease', 'Cystocele bladder hernia', 'Cytomegalovirus infection CMV viral infection', \"De Quervain's tenosynovitis hand tendon inflammation\", 'Deep venous thrombosis DVT, venous blood clot', 'Dehydration', 'Delirium tremens \\x93DTs\\x94, severe alcohol withdrawal', 'Dementia decline in mental ability', 'Dengue fever tropical mosquito borne illness', 'Dental abscess tooth infection', 'Dental eruption appearance of new tooth', 'Dentures', 'Depression excessive sadness', 'Diabetes high blood sugar', 'Diabetes mellitus type 2 elevated blood sugar', 'Diabetic ketoacidosis DKA, a complication of poorly controlled diabetes', 'Diffuse esophageal spasm painful contractions of the esophagus', 'Benadryl diphenhydramine overdose', 'Diphtheria infection bacterial respiratory infection', 'Discitis spinal disk inflammation', 'Dislocation joint out of place', 'Dissecting aortic aneurysm tearing and dilation of the aorta', 'Disseminated intravascular coagulation DIC, abnormality of blood clotting', 'Unisom overdose doxylamine overdose', 'Dressler syndrome heart sac inflammation following heart attack or heart surgery', 'Drug overuse Prescription Drug Overuse', 'Drug overdose', 'Drug reaction', 'Dry air nasal irritation', 'Dry socket pain after tooth removal', 'Dysfunctional uterine bleeding abnormal vaginal bleeding', 'E. coli infection Escherichia coli, bacterial infection', 'Ear laceration cut on the ear', 'Ear swelling', 'Eclampsia hypertensive disorder of pregnancy', 'Ecstasy MDMA abuse', 'Ectopic pregnancy tubal pregnancy', 'Elapid Elapid venom cobra, coral, mamba venom toxicity', 'Empyema collection of pus in chest', 'Encephalitis brain infection', 'Endometrial cancer cancer of the lining of the uterus', 'Endometriosis uterine tissue outside the uterus', 'Endometritis inflammation of the uterus', 'Enlarged lymph nodes lymphadenopathy', 'Entamoeba histolytica infection ameba infection Infection due to Entamoeba histolytica', 'Hypothermia extreme cold exposure', 'Hyperthermia extreme heat exposure', 'Epidermal cyst', 'Inflammation of testicular tubes epididymitis', 'Epidural abscess brain or spine pus collection', 'Epidural hematoma bleeding around brain or spine', 'Epiglottitis severe throat inflammation', 'Nose bleed epistaxis', 'Erythrasma chronic bacterial skin infection', 'Esophageal achalasia swallowing disease', 'Esophageal cancer tumor', 'Esophageal cyst', 'Esophageal foreign body', 'Esophageal rupture tear in esophagus', 'Esophageal spasm painful muscle contraction', 'Esophageal stricture narrowing of the esophagus', 'Esophageal varices dilation of esophageal veins', \"Esophageal web Schatzki's ring, constriction of esophagus\", 'Esophagitis esophageal inflammation', 'Essential hypertension high blood pressure', 'Estrogen withdrawal female hormone', 'Extremity trauma leg or arm injury', 'Eye trauma injury', 'Eyelid laceration skin cut', 'Eyelid swelling', 'Facial laceration skin cut', 'Facial trauma facial injury', 'Facial swelling', 'Fallen arches flat feet, pes planus', 'False pregnancy', 'Familial cold urticaria cold-related hives', 'Fat embolism blood clot from fat', 'Febrile fever illness', 'Febrile seizure convulsion in child with a fever', 'Fecal impaction rectal blockage from stool', 'Femoral artery aneurysm dilation of leg artery', 'Femoral hernia groin hernia', 'Fetal alcohol syndrome', 'Fever elevated temperature', 'Fibrocystic breasts breast lumpiness', 'Fibroid uterine muscle tumor', 'Fibromyalgia chronic pain disorder', 'Filariasis elephantiasis', 'Finger laceration skin cut', 'Finger pulp infection felon', 'Finger swelling', 'Foot laceration skin cut', 'Foot swelling', 'Foreign body object originating outside the body', 'Foreign body in the eye', 'Fracture broken bone', 'Functional disorders psychogenic illness', 'Fungal infections', 'Bacterial vaginosis BV, garnerella vaginalis', 'Gastric ulcer stomach ulcer', 'Gastritis stomach inflammation', 'Gastroenteritis intestinal infection', 'Gastroesophageal reflux GERD, heartburn', 'Gastrointestinal bleeding stomach, intestine bleeding', 'Genital herpes HSV type 2 infection', 'Genital warts HPV, Human papillomavirus infection', 'Gestational diabetes diabetes during pregnancy', 'Gestational hypertension high blood pressure in pregnancy', 'Giardiasis giardia infection', 'Gingivitis inflammation of the gums', 'Glaucoma elevated eye pressure', 'Goiter enlarged thyroid', 'Gout uric acid crystals in the joint causing inflammation', 'Guillain Barre syndrome ascending muscle weakness', 'Bunion of big toe hallux valgus', 'Hammer toes toe deformity', 'Hand laceration skin cut', 'Hand swelling', 'Hand foot and mouth disease Coxsackie virus', 'Hantavirus infection rare, serious viral infection', 'Head injury', 'Head trauma', 'Headache', 'Hearing loss', 'Heat cramps', 'Heat exhaustion', 'Heat rash', 'Heat stroke', 'Hematocele collection of blood around testicle', 'Hematoma collection of blood', 'Hemophilia inherited bleeding disorder', 'Hemoptysis coughing blood', 'Hemorrhage of pregnancy vaginal bleeding during pregnancy', 'Hemorrhoid enlarged rectal veins', 'Hemotympanum blood behind ear drum', 'Henoch Schönlein purpura blood vessel inflammation', 'Hepatic abscess collection of pus in the liver', 'Hepatitis liver inflammation', 'Hereditary hemorrhagic telangiectasia Osler Weber Rendu syndrome', 'Hernia', 'Herniated disc slipped disc, ruptured disc', 'Herpes simplex infection viral infection', 'Herpes stomatitis viral mouth infection', 'Herpes vulvovaginitis viral infection of the vagina Herpesviral vulvovaginitis', 'Hiatal hernia stomach pushes through diaphragm', 'Hip fracture broken hip', 'Hordeolum stye of eye', 'Humerus fracture broken upper arm', 'Hydrocele fluid collection near the testicle', 'Hyperemesis gravidarum severe vomiting in pregnancy', 'Hyperkalemia elevated potassium level', 'Hypertension high blood pressure', 'Hypertensive emergency severely high blood pressure', 'Hyperthyroidism elevated thyroid hormone', 'Hypertrophic cardiomyopathy thickened heart muscle', 'Hyperventilation rapid breathing', 'Hyphema traumatic blood in eye', 'Hypocalcemia low blood calcium', 'Hypoglycemia low blood sugar', 'Hypokalemia low blood potassium', 'Hypokalemic periodic paralysis inherited muscle weakness and low potassium', 'Hyponatremia low blood sodium', 'Hypotension low blood pressure', 'Hypothyroidism low thyroid hormone', 'Hypoxia lack of oxygen', 'Nonsteroidal anti-inflammatory drug overdose Motrin, Advil', \"Impacted tooth tooth that doesn't erupt\", 'Impingement syndrome of shoulder bone rubs again tendon, bursa', 'Infection', 'Infectious mononucleosis Epstein Barr virus, \"Mono\"', 'Inflammatory conditions', 'Influenza seasonal flu', 'Inguinal hernia groin hernia', 'Inhalants abuse huffing', 'Insulin overdose', 'Interstitial cystitis bladder inflammation', 'Intestinal ischemia decreased intestinal blood flow', 'Intestinal volvulus twisting of intestine', 'Intracranial hemorrhage bleeding in brain', 'Intrahepatic cholestasis of pregnancy liver disorder in pregnancy', 'Intravenous drug abuse IVDA', 'Intussusception telescoping intestine', 'Iron overdose', 'Irritable bowel syndrome IBS, chronic intestinal pain and cramping', 'Jet lag', 'Kaposi Sarcoma type of cancer', 'Kawasaki disease pediatric blood vessel disease', 'Keratitis inflammation of cornea', 'Kidney cancer tumor', 'Knee laceration skin cut', 'Knee swelling', 'Labyrinthitis dizziness and vertigo', 'Laceration skin cut', 'Bowel obstruction intestinal blockage', 'Laryngeal carcinoma throat cancer', 'Laryngitis voice box inflammation', 'Tennis elbow lateral epicondylitis', 'Laxative abuse', 'Lead overdose lead poisoning', 'Lead poisoning toxicity', 'Leg laceration skin cut', 'Leg swelling leg edema', 'Legg Calve Perthes disease childhood hip condition', \"Legionellosis Legionnaires' disease\", 'Leishmaniasis parasitic infection, kala azar', 'Leptospirosis bacterial infection', 'Leukemia blood cell cancer', 'Lichen planus chronic skin inflammation', 'Ligament sprain connection between two bones', 'Ligament tear connection between two bones', 'Limb ischemia decreased blood flow', 'Lip laceration skin cut', 'Lip swelling', 'Lipoma benign fatty tumor', 'Liver abscess collection of pus', 'Liver cancer tumor', 'Low blood pressure hypotension', 'Low platelets thrombocytopenia', 'Ludwig\\x92s angina severe infection in the floor of the mouth and neck', 'Lung abscess collection of pus', 'Lung cancer tumor', 'Lupus systemic lupus erythematosus, SLE', 'Lyme disease bacterial infection from ticks', 'Lymphangitis lymph tissue inflammation', 'Magic mushroom ingestion psilocybin', 'Major depressive disorder severe depression', 'Malabsorption syndrome abnormal intestinal digestion', 'Malaria mosquito transmitted illness', 'Malignant hyperthermia rare temperature abnormality', 'Mallet finger finger tendon rupture', 'Mallory Weiss syndrome esophageal tear', 'Malnutrition', 'Marijuana use', 'Mastitis breast infection inflammation', 'Maxillary sinus carcinoma sinus cancer', 'Measles viral disease with typical rash', \"Meckel's diverticulum bulge in small intestine\", 'Mediastinitis inner chest inflammation', \"Meniere's disease dizziness and vertigo\", 'Meningitis spinal fluid infection', 'Meniscus injury knee cartilage injury', 'Menopause end of menstruation and fertility', 'Metastatic neoplasm cancer spread', 'Methamphetamine abuse', 'Methyl alcohol intoxication methanol', 'Migraine type of headache', 'Miscarriage', 'Mitral valve prolapse abnormal heart valve', 'Mittelschmerz ovulation pain', 'Molar pregnancy gestational trophoblastic disease, pregnancy-related tumor', 'Mononucleosis common viral illness', 'Mosquito bite', 'Motion sickness', 'Motor neuron disease progressive nerve disorder', 'Mouth laceration mouth cut', 'Mouth swelling', 'Mouth trauma injury', 'Multiple pregnancy twins, triplets, etc', 'Multiple sclerosis MS', 'Mumps viral infection involving salivary glands', 'Munchausen syndrome fabricated illness', 'Munchausen syndrome by proxy fabricated illness in a dependent', 'Myasthenia gravis autoimmune disease of the nerves, muscles', 'Mycoplasma genitalium sexually transmitted disease', 'Myelodysplastic syndrome bone marrow failure', 'Myocardial infarction heart attack', 'Myocarditis heart muscle inflammation', 'Myopathy muscle disease', 'Myositis muscle inflammation or infection', 'Nail avulsion traumatic removal of nail', 'Nail bruise subungual hematoma', 'Nail contusion swelling of finger and nail', 'Nail laceration nail bed cut', 'Narcolepsy uncontrollable sleeping', 'Narcotic morphine, heroin abuse', 'Narcotic morphine, heroin overdose', 'Nasal cancer tumor', 'Nasal fracture broken nose', 'Nasal polyps growths', 'Nasal trauma nose injury', 'Nasopharyngeal carcinoma tumor', 'Neck trauma injury', 'Necrotizing fasciitis life-threatening infection', 'Neisseria gonorrhea infection sexually transmitted disease', 'Neisseria meningitidis infection Neisseria meningitidis meningococcus, serious bacterial illness', 'Kidney stone nephrolithiasis', 'Neurogenic bladder bladder paralysis', 'Non venomous snake bite', 'Normal menstruation', 'Norovirus infection viral diarrhea, Norwalk virus', \"Nursemaid's elbow radial head subluxation\", 'Obsessive compulsive disorder OCD, anxiety disorder', 'Onchocerciasis river blindness', 'Ophthalmoplegia eye muscle weakness', 'Optic neuritis optic nerve inflammation', 'Oral candidiasis thrush, oral yeast', 'Oral ulcers mouth ulcers', 'Orbital cellulitis soft tissue eye infection', 'Orbital fracture broken bone near the eye', 'Orbital mass growth near the eye', 'Orchitis inflammation of the testicles', 'Mouth cancer oropharyngeal cancer', 'Osteoarthritis bone inflammation', 'Osteochondritis dissecans joint disorder', 'Osteomyelitis bone infection', 'Ear infection, outer otitis externa', 'Ear infection, middle ear otitis media', 'Ototoxicity ear toxicity', 'Ovarian cancer female organ cancer', 'Ovarian cyst female organ fluid collection', 'Ovarian torsion twisting of the ovary', 'Overdose', 'Overuse syndrome injury from repetitive activity', 'Paget disease of the nipple rare breast cancer', 'Pancoast syndrome apical lung tumor', 'Pancreatic cancer tumor', 'Pancreatitis pancreas inflammation', 'Pancreas inflammation pancreatitis, chronic', 'Panic disorder', 'Paralytic Ileus intestinal paralysis', 'Parasite infection', \"Parkinson's disease movement disorder\", 'Paronychia infection around the nail', 'Parotitis salivary gland inflammation', 'Patellar dislocation knee cap dislocation', 'Patellar knee cap tendon rupture', 'Pelvic inflammatory disease PID, female reproductive organ infection', 'Penis carcinoma tumor', 'Perforated septum hole in skin between nostrils', 'Pericarditis heart sac inflammation', 'Periodontitis gum inflammation', 'Periorbital cellulitis infection around eye', 'Peripheral nerve transection nerve injury', 'Peripheral neuropathy nerve damage', 'Peripheral vascular disease blocked blood vessels', 'Peritonitis abdominal cavity inflammation', 'Peritonsillar abscess collection of pus around tonsils', 'Personality disorder unhealthy patterns of thinking and behavior', 'Pesticide poisoning organophosphate poisoning', \"Pharyngeal pouch Zenker's diverticulum, weakening of the esophageal wall\", 'Pharyngitis throat infection', 'Pheochromocytoma adrenal gland tumor', 'Phobias irrational fear', 'Pickwickian syndrome severe obesity', 'Pituitary tumor', 'Pityriasis rosea inflammatory skin rash', 'Placenta previa placenta covers cervix', 'Placental abruption placenta separation', 'Plague bubonic plague, bacteria yersinia infection', 'Plantar fasciitis inflammation of tissue at the bottom of the foot', 'Plantar wart human papilloma virus infection, foot warts', 'Pleural effusion abnormal chest fluid', \"Pleuritis inflammation of the lung's lining, pleurisy\", 'Pneumonia lung infection', 'Pneumothorax collapse of lung', 'Poisoning', 'Poliomyelitis polio', 'Polycystic kidney disease inherited kidney disorder', 'Polycystic ovarian syndrome PCOS, female hormonal disorder', 'Polycythemia vera increased number of red blood cells', 'Polyphagia overeating', 'Post concussive syndrome symptoms after a concussion', 'Post nasal drip', 'Post-traumatic stress disorder PTSD', 'Posterior inferior cerebellar artery syndrome stroke syndrome', 'Postural hypotension low blood pressure after standing', 'Pregnancy', 'Premenstrual syndrome PMS', 'Prescription drug abuse', 'Preseptal hematoma blood clot in the nose', 'Priapism persistent erection', 'Primary affective disorder depression', 'Insomnia difficulty sleeping', 'Primary sclerosing cholangitis bile duct disease', 'Primary dysmenorrhea painful menstruation', 'Prinzmetal angina heart artery spasm', 'Prostate cancer male anatomy cancer', 'Prostatitis prostate inflammation', 'Pruritus ani anal itching', 'Pseudogout calcium deposit arthritis', 'Puerperal depression depression after giving birth', 'Puerperal psychosis loss of contact with reality after birth', 'Pulmonary edema fluid build-up in the lungs', 'Pulmonary embolism blood clot in the lungs', 'Pulmonary fibrosis lung scarring', 'Pulmonary hypertension high blood pressure in the lungs', 'Pulpitis dental root inflammation', 'Puncture wound', 'Puncture wound of ankle', 'Puncture wound of arm', 'Puncture wound of ear', 'Puncture wound of eyelid', 'Puncture wound of face', 'Puncture wound of finger', 'Puncture wound of foot', 'Puncture wound of hand', 'Puncture wound of knee', 'Puncture wound, leg Puncture wound of leg', 'Puncture wound of lip', 'Puncture wound of mouth', 'Puncture wound of scalp', 'Puncture wound of skin', 'Puncture wound of toe', 'Pyelonephritis kidney infection', 'Quaternary syphilis late stage syphilis', 'Radial head fracture broken elbow bone', 'Radiator fluid ethylene glycol poisoning', 'Increased pressure in the skull raised intracranial pressure', 'Ramsay Hunt syndrome viral infection causing facial weakness', 'Rectal abscess collection of pus in the rectum', 'Rectal cancer tumor', 'Rectal impaction collection of pus in the rectum Fecal impaction of rectum', 'Rectal prolapse rectal protrusion', 'Rectal ulcer', 'Reiter syndrome type of joint inflammation', 'Renal arteriovenous malformation AVM, blood vessel abnormality of the kidney', 'Renal artery stenosis kidney artery narrowing', 'Renal failure, acute sudden kidney failure', 'Renal failure, chronic ongoing kidney failure', 'Renal infarct kidney damage from an area of blocked blood flow', 'Renal trauma kidney trauma', 'Renal vein thrombosis kidney vein clot', 'Respiratory failure breathing failure, ARDS', 'Restless legs syndrome nervous system disorder', 'Retroperitoneal hemorrhage flank bleeding', 'Retropharyngeal abscess throat abscess', 'Rhabdomyolysis severe muscle breakdown', 'Rheumatoid arthritis type of chronic joint inflammation', 'Rhinosporidiosis fungal nasal infection', 'Rhinovirus infection common cold', 'Rib fracture broken bone', 'Rickettsial infections type of bacterial infection', 'Rotator cuff syndrome shoulder injury', 'Rotavirus infection intestinal viral infection', 'Rubbing isopropyl alcohol overdose', 'Salmonella infection common bacterial intestinal infection', 'Severe Acute Respiratory Syndrome SARS, serious viral pneumonia', 'Scalp laceration scalp cut', 'Scalp swelling', 'Scarlet fever post strep inflammation', 'Schistosomiasis parasite infection', 'Schizoaffective disorder features of schizophrenia and mood disorder', 'Schizophrenia chronic impaired reality perception', 'Sciatica lower back nerve irritation', 'Sclerosing cholangitis progressive bile duct disease ', 'Scoliosis crooked spine', 'Scorpion sting', 'Scrotal hematoma collection of blood in skin around testicles', 'Seasonal affective disorder intermittent seasonal depression', 'Sebaceous cyst sac under the skin', 'Secondary dysmenorrhea painful menstruation', 'Self-inflicted injury', 'Sepsis serious blood infection', 'Septal perforation hole in the skin between nostrils', 'Septic arthritis joint infection', 'Septic hip infected hip joint', 'Septic knee joint infected knee joint', 'Septic shock low blood pressure from serious blood infection', 'Serotonin syndrome severe medication reaction', 'Serum sickness abnormal immune system response', 'Sexually transmitted disease STD', 'Shigellosis bacterial intestinal infection', 'Shingles herpes zoster', 'Shock severe low blood pressure', 'Shoulder joint dislocation dislocated shoulder', 'Sialolithiasis salivary gland stone', 'Sickle cell crisis complication of sickle cell disease', 'Sickle cell disease disease of red blood cells', 'Sinusitis sinus infection', \"Sjogren's syndrome dry eyes and mouth\", 'Skin abscess collection of pus', 'Skin laceration cut skin', 'Skin swelling', 'Skull fracture broken bone', 'Slipped capital femoral epiphysis adolescent hip disorder', 'Small bowel lymphoma intestinal lymph node cancer', 'Smallpox Variola virus infection', 'Smoke inhalation', 'Smoking tobacco use disorder', 'Social anxiety disorder social phobia', 'Spermatocele sperm-filled epididymal cyst', 'Insect bite', 'Spinal abscess collection of spinal pus', 'Spinal cord injury, acute', 'Splenic infarction death of spleen', 'Spondylolisthesis slipped back bone', 'Sprain stretched, torn ligament', 'Squamous cell cancer common skin cancer', 'Steroid abuse', 'Steroid use', 'Steven Johnson syndrome rare, serious skin disorder', 'Muscle strain pulled muscle', 'Strangulation of genitalia constriction of genital blood supply', 'Streptococcus infection strep throat bacteria', 'Stress', 'Stress headache tension headache', 'Stress incontinence unintentional urination with cough or sneeze', 'Subarachnoid hemorrhage brain bleeding', 'Subdural hematoma bleeding on brain', 'Substance abuse', 'Subungual hematoma blood under nail', 'Suicide', 'Supracondylar fracture elbow fracture', \"Swimmer's itch cercarial dermatitis\", 'Symptomatic dermatographism exaggerated skin response to pressure', 'Syphilis treponema pallidum', 'Systemic sclerosis scleroderma, progressive soft tissue hardening', 'Tarantula bite Tarantula Venoms', 'Tarsal tunnel syndrome foot nerve damage', 'Temporal arteritis inflamed scalp artery', 'Temporal lobe epilepsy non-convulsive seizure', 'Temporomandibular joint syndrome TMJ, jaw joint pain', 'Tendonitis tendon inflammation', 'Tenosynovitis tendon sheath inflammation', 'Tension pneumothorax dangerous lung collapse', 'Testicular cancer tumor', 'Testicular torsion twisting of testicle', 'Third cranial nerve disorder disorder of eye movement', 'Thoracic outlet syndrome nerve, blood vessel compression', 'Thrombocytopenia low platelet count', 'Thyroglossal duct cyst neck cyst', 'Thyroiditis thyroid inflammation', 'Tick paralysis toxin from ticks', 'Tick borne encephalitis brain infection', 'Tinea fungal skin infection', 'laceration of toe cut skin', 'Toe swelling', 'Tongue cancer tumor', 'Tonsillar cancer tumor tongue', 'Tonsillitis tonsil infection', 'Toothache', 'Torticollis, spasmodic neck muscle spasm', 'Preeclampsia toxemia of pregnancy', 'Toxic shock syndrome life-threatening bacterial infection complication', 'Toxoplasma infection Toxoplasmosis parasite infection', 'Transient ischemic attack TIA, reversible stroke', 'Transverse myelitis spinal cord inflammation', 'Trauma', 'Traumatic nerve injury', 'Trichinella spiralis infection trichinosis, parasitic infection from undercooked pork', 'Trichomonas vaginalis infection vaginal infection', 'Trigeminal neuralgia facial nerve pain', 'Tuberculosis infection TB', 'Tubo ovarian abscess pelvic abscess', 'Ear drum rupture tympanic membrane rupture', 'Typhoid fever salmonella typhi infection from contaminated food or water', 'Ulcerative colitis large intestine inflammation', 'Unstable angina pre heart attack chest pain', 'Upper respiratory tract infection URI, common cold', 'Ureaplasma urealyticum infection genital infection', 'Urethritis infection of urethra', 'Bladder infection cystitis, UTI, urinary tract infection', 'Urinary tract malformation', 'Urine retention inability to urinate', 'Urticaria hives', 'Uterine prolapse uterine vaginal protrusion', 'Uterine rupture uterine tear during childbirth', 'Uveitis iritis, eye inflammation', 'Vaccination', 'Vaginal atrophy atrophic vaginitis', 'Vaginal cancer tumor', 'Vaginal foreign body', 'Vaginitis vaginal infection inflammation', 'Varicocele testicular vein enlargement', 'Blood vessel headache familial basilar artery migraine headache', 'Vascular insufficiency due to peripheral artery disease PAD, claudication, inadequate blood flow', 'Vasculitis inflammation of the arteries', 'Vasovagal syncope fainting', 'Vertebral artery dissection neck artery tear', 'Vertebral fracture broken back or neck bone', 'Vertebral- basilar artery insufficiency inadequate blood flow to the back of the brain vertebro-basilar insufficiency', 'Vertebral-basilar stroke stroke in the back of the brain Vertebro basilar insufficiency', 'Vertigo spinning sensation', 'Vesicovaginal fistula connection between the bladder and vagina', 'Vestibular neuronitis labyrinthitis, vertigo', 'Vibrio parahaemolyticus infection bacterial infection from shellfish', 'Rattlesnake pit viper bite', 'Viral hemorrhagic fevers Ebola, Lassa', 'Viral infections', 'Vitiligo loss of skin pigment', 'Vocal cord nodule growth on the vocal cords', 'Vocal cord paralysis voice box weakness', 'Volvulus twisted intestine', 'Vulvar squamous cell carcinoma skin cancer on female genitalia', 'Waldenström macroglobulinemia blood cell disease', 'Warfarin Coumadin, Jantoven overdose', 'Warfarin Coumadin use', \"Wegener's granulomatosis granulomatosis with polyangiitis,  blood vessel disease\", 'West Nile virus infection mosquito-transmitted illness', 'Whiplash injury neck injury', \"White coat hypertension elevated blood pressure at doctor's office\", 'Whooping cough pertussis', 'Windshield wiper fluid Methanol poisoning', 'Wolff Parkinson White syndrome WPW, additional electrical pathway in the heart', 'Yellow fever viral hemorrhagic fever', \"Zenker's diverticulum pharyngeal pouch, weakening of the esophageal wall\", 'Seizure abnormal brain electrical activity', 'Pilonidal cyst fluid filled sac on tailbone', 'Essential tremor abnormal rhythmic shaking', 'Lymphoma lymph node cancer', 'Osgood Schlatter disease painful shinbone inflammation', 'Nasal foreign body unnatural object in the nose', 'Respiratory syncytial virus RSV, pediatric respiratory infection', \"Hodgkin's disease cancer of the lymph system\", 'Autism spectrum disorder ASD', 'Polymyalgia rheumatica PMR, muscle and joint disorder', 'Swine Flu H1N1 Influenza', 'Fifth disease erythema infectiosum, viral illness', 'Sagittal sinus thrombosis venous blood clot in the brain', 'Cervical spine stenosis narrowing of spinal canal', 'Cervical myelopathy spinal cord compression', 'Spinal cord tumor', 'Brachial plexus injury shoulder nerve injury', 'Brain arteriovenous malformation blood vessel abnormality in the brain, AVM Arteriovenous malformation of brain', 'Carotid artery stenosis neck artery narrowing', 'Meningioma brain tumor', 'Astrocytoma brain tumor', 'Hydrocephalus brain fluid build-up', 'Central cord syndrome traumatic spine injury', 'Cerebral aneurysm brain artery dilation', 'Pseudotumor cerebri increased pressure in the skull', 'HIV AIDS Human Immunodeficiency Virus, Acquired Immune Deficiency Syndrome Human immunodeficiency virus [HIV] disease', 'Endocarditis heart valve infection', 'Acne pimples', 'Attention deficit hyperactivity disorder ADHD', 'Allergic conjunctivitis allergic reaction in the eye', 'Teeth grinding bruxism', 'Chemical burn', 'Chicken pox varicella virus', 'Cradle cap infant scalp rash', 'Croup upper airway inflammation', 'Dyslexia reading disorder', 'Psoriasis scaly skin disease', \"Asperger's syndrome autism spectrum disorder\", 'Methicillin-resistant Staphylococcus aureus MRSA, type of bacteria', 'Staphylococcus aureus type of bacteria', 'Failure to thrive - child Failure to thrive-child Failure to thrive (child)', 'Hemochromatosis excess iron disorder', 'Impetigo bacterial skin infection', 'Inhaled foreign body in respiratory tract', 'Jaundice yellow skin color', 'Keratosis pilaris common skin condition', 'Head lice', 'Body lice', 'Pubic lice', 'Wilsons disease copper accumulation in tissues', 'Rocky mountain spotted fever bacterial infection spread by ticks', 'Erysipelas bacterial skin infection', 'Cat scratch fever bacterial infection after cat scratch', 'Coccidiomycosis valley fever, fungal infection', 'Meconium aspiration newborn respiratory problem', 'Neurofibromatosis inherited nerve tumors', 'Night terrors nightmares', 'Pinworms common intestinal worm', 'Reyes syndrome rare liver and brain swelling', 'Mongolian spots blue birthmark', 'Rheumatic fever complication of strep infection', 'Rhinitis nasal inflammation', 'Ringworm of the scalp tinea capitis', 'Ringworm of the body tinea corporis', 'Rubella German measles', 'Scabies skin disease caused by mites', 'Atrial flutter irregular heart rate', 'Pepto Bismol or Kaopectate ingestion bismuth', 'Long QT Syndrome inherited heart condition', 'Coronary artery anomaly heart artery malformation', 'Stroke CVA, cerebrovascular accident', 'Subconjunctival hemorrhage blood covering white part of the eye', 'Sleep apnea chronic sleep disruption', 'Myotonia impaired muscle relaxation', 'Carbuncle', 'Melanoma skin cancer', 'Cat bite', 'Dog bite', 'Muscle spasm charley horse', 'Hyperosmolar hyperglycemic state severely elevated glucose level', 'Tetanus lockjaw', 'Tourette syndrome repetitive involuntary movements, vocalizations', 'Umbilical hernia belly button hernia', 'Common warts', 'Transient global amnesia sudden period of short-term memory loss', 'Osteoporosis extremely thin bone', 'Bird flu avian influenza', 'Cubital tunnel syndrome nerve compression in the elbow', 'Foot fracture broken foot', 'Ankle fracture broken ankle', 'Histoplasmosis fungal infection', 'Tick bite', 'Q fever flu-like bacterial illness', 'Broken heart syndrome Takotsubo cardiomyopathy', \"Whipple's disease rare bacterial infection of the small intestine\", 'Near drowning', 'Clostridium difficile C. Diff', 'Sea lice bite', 'Ascites fluid in the abdomen', 'Sunburn', 'Sun poisoning', 'Cystic fibrosis inherited disease of lungs, digestive system', \"Sever's disease calcaneal apophysitis, common cause of heel pain\", 'Panhypopituitarism pituitary gland malfunction', 'Down syndrome common genetic disorder', 'Hair loss alopecia', 'Vaginal yeast fungal infection', 'Rickets childhood bone disease', \"Alzheimer's disease dementia\", 'Human papillomavirus infection HPV', 'Erectile dysfunction ED', 'Congenital heart disease heart defect at birth', 'Lumbar spinal stenosis spinal cord compression', 'Stomach cancer gastric cancer', 'Moles nevi', 'Idiopathic thrombocytopenia purpura ITP, low platelets', 'Thrombotic thrombocytopenia purpura TTP, rare blood disorder Thrombotic thrombocytopenic purpura', 'Ventricular tachycardia VT, dangerous irregular heart beat', 'Cardiac arrest heart stops', 'Frostbite tissue damage from cold', 'Trench foot immersion foot', 'Skin blood vessel damage Chilblains, pernio', 'Gangrene death of body tissue', 'Food poisoning', 'Lactose intolerance', \"Raynaud's disease blood vessel constriction\", 'Muscular dystrophy inherited muscle disease', 'Diverticulosis weakening of the large intestine wall', \"Graves' disease overproduction of thyroid hormone\", 'Emphysema COPD, lung disease', \"Amyotrophic lateral sclerosis ALS, Lou Gehrig's disease\", 'Sarcoidosis inflammatory disease', 'Folliculitis hair follicle infection', 'Boil pus-filled lump', 'Angioedema swelling of skin, lips, eyes', 'Hot tub follicullitis hair follicle infection Pustular folliculitis', 'Detached retina retinal detachment', 'Posterior vitreous detachment common eye abnormality', 'Thyroid cancer neck gland cancer', 'Coronary artery disease CAD, heart disease', 'Double diabetes hybrid diabetes', 'Birth control pill use', 'Toe fracture', 'Finger fracture broken finger', 'Hand fracture broken hand', 'Scaphoid fracture broken hand bone', 'Clavicle fracture broken collar bone', 'Valvular heart disease abnormal heart valves', 'Aortic regurgitation leaking heart valve', 'Mitral stenosis tight heart valve', 'Mitral regurgitation leaking heart valve', 'Cataracts clouding of the eye lens', 'Thalassemia Mediterranean anemia, inherited blood disorder', 'Iron deficiency anemia low red blood cell count', 'Hemolytic anemia red blood cell destruction disorder', 'Pterygium growth on the eye', 'Pernicious anemia vitamin deficiency blood disorder', \"Addison's disease adrenal insufficiency\", 'Heart attack acute myocardial infarction, AMI', 'Scleroderma progressive hardening of soft tissue', 'Medication reaction', 'Myxedema coma severely low thyroid hormone', 'Bed bugs', \"Athlete's foot tinea pedis\", 'Early menopause premature ovarian failure', 'Carcinoid syndrome flushing, diarrhea', 'Mayer Rokitansky Küster Hauser syndrome MRKH, inherited vaginal abnormality', 'Obesity', 'Hyperparathyroidism elevated parathyroid hormone levels', 'Cauliflower ear wrestlers ear', 'Muscle tear', 'Gastroparesis stomach muscle malfunction', 'Scalded skin syndrome blistering skin infection', 'Colon polyps large intestine tumors', \"Loffler's syndrome pulmonary eosinophilia, lung inflammation\", 'Methemoglobinemia blood disorder', 'Amaurosis fugax momentary vision loss in one eye', 'Tendon laceration tendon cut', 'Foreign body in a wound', 'Wound infection cut infection', 'Blood vessel injury', 'Hidradenitis suppurativa chronic collections of pus', 'Spleen injury splenic rupture', 'Liver injury liver trauma', 'Radiation exposure radiation sickness', 'Marfan syndrome rare inherited disease', 'Tape worm infection', 'Teething', 'Rabies deadly viral illness transmitted by animals', 'Toxic megacolon rapid dilation of the colon', 'Basal cell carcinoma skin cancer', 'Skin tags acrochordons', 'Pneumocystis pneumonia PCP, fungal lung infection', 'Compression fracture broken spinal bone', 'Hypersensitivity pneumonitis allergic lung disease', 'Mucormycosis fungal infection', 'Interstitial lung disease chronic scarring of the lung', 'Flea bite', 'Ingrown nail onychocryptosis', 'Porphyria rare disorder of skin, nervous system', \"Gilbert's disease liver abnormality\", 'Goodpasture syndrome disease of kidneys and lungs', 'Newborn jaundice newborn skin discoloration', 'Ankle sprain', 'Chikungunya viral illness from mosquitoes', 'Japanese encephalitis viral brain infection', 'Brucellosis bacterial infection spread from animals', 'Post herpetic neuralgia nerve pain after shingles', 'Psoriatic arthritis joint pain and stiffness', 'Flat feet pes planus', 'Heel spur', 'Lewy body dementia common type of dementia', 'Facial nerve paralysis', 'Macular degeneration chronic eye disease', 'Pyomyositis muscle infection', 'Synovitis inflammation of joint lining', 'Diabetic retinopathy diabetic eye disease', 'Aspiration pneumonia lung inflammation or infection', 'Hepatic encephalopathy confusion from liver failure', 'Pemphigus rare skin disorder', 'Diabetes insipidus excessive water loss from the kidneys', 'Ventral hernia bulging of the abdominal wall', 'Listeria serious bacterial illness', 'Shin splints tibial stress syndrome', 'Sarcoma soft tissue cancer', 'Bone cancer bone tumor', 'Mastocytosis urticaria pigmentosa, skin disease', 'Jellyfish stings', 'Hemolytic uremic syndrome HUS, red blood cell destruction, kidney disease', 'Triangular fibrocartilage complex injury wrist injury', 'Multiple myeloma blood cancer', 'Miller Fisher Syndrome rare nerve disease', 'Aponeurotic ptosis age-related drooping eyelid', 'Complex migraine migraine with neurologic changes', 'Reflex sympathetic dystrophy complex pain syndrome', \"Golfer's elbow medial epicondylitis of elbow\", 'Small cell lung cancer', 'Bullous myringitis middle ear infection', 'Chronic venous insufficiency weakened leg veins', 'Diabetic neuropathy nerve damage', 'Diabetic nephropathy diabetes and kidney disease', 'Dysthymia depression, dysthymic disorder', 'Lymphedema lymphatic obstruction', 'Tension headache stress headache', 'Pneumoconiosis lung disease', 'Varicose veins', 'Diabetes mellitus type 1 elevated blood sugar', 'Viral exanthem rash from viral infection', 'Foreign body in ear', 'Actinic keratosis AK, skin growth', 'Molluscum contagiosum', 'Eustachian tube dysfunction inner ear tube', 'Phimosis', 'Lumbar spondylosis spine arthritis', 'Muscle and ligament inflammation enthesopathy', 'Male pattern hair loss hereditary-patterned baldness Androgenic alopecia', 'Male infertility', 'Scleritis inflammation of the eye', 'Abdominal adhesions scar tissue', 'Chondromalacia cartilage damage', 'Focal seizure partial seizure', 'Generalized seizure disorder generalized epilepsy', \"Peyronie's disease abnormal curvature of the penis\", 'Mycoplasma infection bacteria', 'Duodenal cancer small intestine', 'Small bowel cancer small intestine', 'Gallbladder cancer', 'Essential thrombocythemia excessive blood platelets', 'Thyroid cyst', 'Herpangina mouth blisters', \"Ewing's sarcoma cancer\", 'Extragonadal germ cell tumors', 'Fallopian tube cancer', 'Familial dysautonomia genetic disorder', 'Farsightedness hyperopia/hypermetropia', 'Food allergy', 'Foot sprain', 'Foot ulcer', 'Fragile X syndrome genetic disorder', \"Friedreich's Ataxia genetic disorder\", 'Gallbladder and bile duct cancer Gallbladder cancer bile duct cancer', 'Glomerulonephritis kidney disease', 'Graves eye disease Graves ophthalmopathy', 'Head injury in children Non-accidental traumatic head injury to child', 'Hemorrhagic stroke CVA, cerebrovascular accident', 'Hepatitis A', 'Excessive hair growth Hirsutism', 'Huntington disease chorea', 'Hyperkeratosis skin thickening', 'Lacunar stroke', 'Langerhans cell histiocytosis Histiocytosis X', 'Large cell lung cancer', 'Malignant Mesothelioma', 'Melasma choloasma', \"Morton's neuroma\", 'Neuroblastoma', \"Paget disease of the bone paget's disease of the bone\", 'Parathyroid cancer', 'Phenylketonuria PKU', 'Paraphimosis', 'Polyarteritis Nodosa PAN', 'Post-polio syndrome', 'Posterior cruciate ligament injuries PCL injury Rupture of posterior cruciate ligament Sprain of posterior cruciate ligament of knee', 'Presbyopia aging vision', 'Rectocele', 'Retinitis pigmentosa', 'Retinoblastoma pediatric eye cancer', 'Retrobulbar Neuritis', 'Shoulder sprain', 'Squamous cell lung cancer', \"Takayasu's arteritis Giant cell arteritis of the young\", 'Tay-Sachs disease', 'Tear duct infection Dacryocystitis', 'Thrombophlebitis superficial', 'Traumatic hip dislocation traumatic dislocation of hip', \"Traveler's diarrhea Montezuma's revenge\", 'Tropical sprue', \"Wilms' Tumor\", 'Wrist sprain', 'Yaws', 'Amyloidosis', 'Arnold Chiari malformation', 'Broken jaw mandible fracture', 'Conversion disorder', 'Strabismus crossed eyes', \"Decompression sickness bends, caisson's disease\", 'Delusional disorder', 'Dermatofibroma', 'Fibromuscular dysplasia FMD', 'Hypoparathyroidism', 'Ichthyosis', 'Keloid overgrown scar', 'Broken leg leg fracture', 'Prediabetes high blood sugar', 'Subluxation', 'Vitamin D deficiency', 'Supraventricular tachycardia SVT', 'Traumatic brain injury', 'Testicular hypofunction', \"Von Willebrand's disease\", 'Lymphadenitis', 'Drug withdrawal syndrome', 'Stuttering', 'Tic Disorder', 'Conduct disorder', 'Charcot-Marie-Tooth disease', 'Neutropenia', 'Greater trochanteric bursitis hip bursitis', 'Turner syndrome gonadal dysgenesis', 'Pancytopenia', 'Cerebellar Ataxia', 'Complex partial seizures psychomotor epilepsy', 'Meralgia Paresthetica', 'Retinopathy', 'Corneal ulcer', 'Blocked tear duct dacryostenosis', 'Aphakia', 'Bacterial tracheitis', 'Trigger finger', 'Glossitis', 'Anal fistula', 'Urethral stricture', 'Pemphigoid', 'Scar', 'Finger amputation', 'Hydronephrosis', 'Night blindness nyctalopia', 'Scurvy vitamin C deficiency', 'Beriberi thiamine vitamin B1 deficiency', 'Cutaneous T cell lymphoma', 'Cardiomegaly enlarged heart', 'Developmental delay', 'Breast cyst', 'Ductal carcinoma in situ DCIS, breast cancer', 'Missed abortion', 'Triple negative breast cancer', 'Invasive ductal carcinoma', 'Invasive lobular carcinoma', 'Dystonia', 'Failure to thrive - adult failure to thrive']\n"
     ]
    }
   ],
   "source": [
    "df_disease['diagnose']\n",
    "from collections import Counter \n",
    "\n",
    "Counter = Counter(df_disease['diagnose'])\n",
    "\n",
    "commonDis = Counter.most_common()\n",
    "commonDis1 =[]\n",
    "\n",
    "commonDis[0][0]\n",
    "\n",
    "for x in range(0,len(commonDis)):\n",
    "    #print(commonDis[x][0])\n",
    "    commonDis1.append(commonDis[x][0])\n",
    "\n",
    "commonDis2=[]   \n",
    "    \n",
    "for x in commonDis1:\n",
    "    y =  x.replace(\"\\x0b\",\" \")\n",
    "    z= y.replace(\"\\x92 \",\" \")\n",
    "    commonDis2.append(z)\n",
    "    \n",
    "print(commonDis2)"
   ]
  },
  {
   "cell_type": "code",
   "execution_count": 118,
   "metadata": {},
   "outputs": [
    {
     "data": {
      "text/plain": [
       "'Abdominal aortic aneurysm (enlarged major blood vessel)'"
      ]
     },
     "execution_count": 118,
     "metadata": {},
     "output_type": "execute_result"
    }
   ],
   "source": [
    "commonDis1[0].replace(\"\\x0b\",\" \")"
   ]
  },
  {
   "cell_type": "code",
   "execution_count": null,
   "metadata": {},
   "outputs": [],
   "source": []
  }
 ],
 "metadata": {
  "kernelspec": {
   "display_name": "Python 3",
   "language": "python",
   "name": "python3"
  },
  "language_info": {
   "codemirror_mode": {
    "name": "ipython",
    "version": 3
   },
   "file_extension": ".py",
   "mimetype": "text/x-python",
   "name": "python",
   "nbconvert_exporter": "python",
   "pygments_lexer": "ipython3",
   "version": "3.7.1"
  }
 },
 "nbformat": 4,
 "nbformat_minor": 2
}
