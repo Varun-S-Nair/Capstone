{
 "cells": [
  {
   "cell_type": "code",
   "execution_count": 1,
   "metadata": {},
   "outputs": [
    {
     "data": {
      "text/html": [
       "        <script type=\"text/javascript\">\n",
       "        window.PlotlyConfig = {MathJaxConfig: 'local'};\n",
       "        if (window.MathJax) {MathJax.Hub.Config({SVG: {font: \"STIX-Web\"}});}\n",
       "        if (typeof require !== 'undefined') {\n",
       "        require.undef(\"plotly\");\n",
       "        requirejs.config({\n",
       "            paths: {\n",
       "                'plotly': ['https://cdn.plot.ly/plotly-latest.min']\n",
       "            }\n",
       "        });\n",
       "        require(['plotly'], function(Plotly) {\n",
       "            window._Plotly = Plotly;\n",
       "        });\n",
       "        }\n",
       "        </script>\n",
       "        "
      ]
     },
     "metadata": {},
     "output_type": "display_data"
    }
   ],
   "source": [
    "import pandas as pd #Analysis \n",
    "import matplotlib.pyplot as plt #Visulization\n",
    "import seaborn as sns #Visulization\n",
    "import numpy as np #Analysis \n",
    "from scipy.stats import norm #Analysis \n",
    "from sklearn.preprocessing import StandardScaler #Analysis \n",
    "from scipy import stats #Analysis \n",
    "import warnings \n",
    "warnings.filterwarnings('ignore')\n",
    "%matplotlib inline\n",
    "import gc\n",
    "\n",
    "import os\n",
    "import string\n",
    "color = sns.color_palette()\n",
    "\n",
    "%matplotlib inline\n",
    "\n",
    "from plotly import tools\n",
    "import plotly.offline as py\n",
    "py.init_notebook_mode(connected=True)\n",
    "import plotly.graph_objs as go\n",
    "\n",
    "from sklearn import model_selection, preprocessing, metrics, ensemble, naive_bayes, linear_model\n",
    "from sklearn.feature_extraction.text import TfidfVectorizer, CountVectorizer\n",
    "from sklearn.decomposition import TruncatedSVD\n",
    "import lightgbm as lgb\n",
    "\n",
    "pd.options.mode.chained_assignment = None"
   ]
  },
  {
   "cell_type": "markdown",
   "metadata": {},
   "source": [
    "## Importing Data"
   ]
  },
  {
   "cell_type": "code",
   "execution_count": 2,
   "metadata": {},
   "outputs": [],
   "source": [
    "df_train = pd.read_csv(r\"C:\\Users\\p_amb\\Desktop\\CapstoneFinal\\DrugRec\\www\\Shuen's Data\\kuc-hackathon-winter-2018\\drugsComTrain_raw.csv\", parse_dates=[\"date\"])\n",
    "df_test = pd.read_csv(r\"C:\\Users\\p_amb\\Desktop\\CapstoneFinal\\DrugRec\\www\\Shuen's Data\\kuc-hackathon-winter-2018\\drugsComTest_raw.csv\", parse_dates=[\"date\"])"
   ]
  },
  {
   "cell_type": "code",
   "execution_count": 3,
   "metadata": {},
   "outputs": [],
   "source": [
    "df_all = pd.concat([df_train,df_test])"
   ]
  },
  {
   "cell_type": "code",
   "execution_count": 43,
   "metadata": {},
   "outputs": [],
   "source": [
    "df_disease = pd.read_csv(r\"C:\\Users\\p_amb\\Desktop\\CapstoneFinal\\DrugRec\\www\\Shuen's Data\\dia_t_clean.csv\", encoding='latin-1')\n",
    "df_symptoms = pd.read_csv(r\"C:\\Users\\p_amb\\Desktop\\CapstoneFinal\\DrugRec\\www\\Shuen's Data\\sdsort\\sym_t.csv\")\n",
    "df_dis_sym = pd.read_csv(r\"C:\\Users\\p_amb\\Desktop\\CapstoneFinal\\DrugRec\\www\\Shuen's Data\\sdsort\\diffsydiw.csv\")"
   ]
  },
  {
   "cell_type": "code",
   "execution_count": 44,
   "metadata": {},
   "outputs": [
    {
     "data": {
      "text/html": [
       "<div>\n",
       "<style scoped>\n",
       "    .dataframe tbody tr th:only-of-type {\n",
       "        vertical-align: middle;\n",
       "    }\n",
       "\n",
       "    .dataframe tbody tr th {\n",
       "        vertical-align: top;\n",
       "    }\n",
       "\n",
       "    .dataframe thead th {\n",
       "        text-align: right;\n",
       "    }\n",
       "</style>\n",
       "<table border=\"1\" class=\"dataframe\">\n",
       "  <thead>\n",
       "    <tr style=\"text-align: right;\">\n",
       "      <th></th>\n",
       "      <th>disease</th>\n",
       "      <th>symptom</th>\n",
       "      <th>weight</th>\n",
       "    </tr>\n",
       "  </thead>\n",
       "  <tbody>\n",
       "    <tr>\n",
       "      <th>0</th>\n",
       "      <td>1.0</td>\n",
       "      <td>7.0</td>\n",
       "      <td>1.0</td>\n",
       "    </tr>\n",
       "    <tr>\n",
       "      <th>1</th>\n",
       "      <td>1.0</td>\n",
       "      <td>275.0</td>\n",
       "      <td>1.0</td>\n",
       "    </tr>\n",
       "    <tr>\n",
       "      <th>2</th>\n",
       "      <td>1.0</td>\n",
       "      <td>173.0</td>\n",
       "      <td>1.0</td>\n",
       "    </tr>\n",
       "    <tr>\n",
       "      <th>3</th>\n",
       "      <td>1.0</td>\n",
       "      <td>54.0</td>\n",
       "      <td>1.0</td>\n",
       "    </tr>\n",
       "    <tr>\n",
       "      <th>4</th>\n",
       "      <td>1.0</td>\n",
       "      <td>32.0</td>\n",
       "      <td>1.0</td>\n",
       "    </tr>\n",
       "  </tbody>\n",
       "</table>\n",
       "</div>"
      ],
      "text/plain": [
       "   disease  symptom  weight\n",
       "0      1.0      7.0     1.0\n",
       "1      1.0    275.0     1.0\n",
       "2      1.0    173.0     1.0\n",
       "3      1.0     54.0     1.0\n",
       "4      1.0     32.0     1.0"
      ]
     },
     "execution_count": 44,
     "metadata": {},
     "output_type": "execute_result"
    }
   ],
   "source": [
    "df_dis_sym = df_dis_sym[['did', 'syd', 'wei']]\n",
    "df_dis_sym = df_dis_sym.sort_values(axis=0, by=['did'])\n",
    "df_dis_sym = df_dis_sym.reset_index(drop=True)\n",
    "df_dis_sym = df_dis_sym.rename(columns={\"did\": \"disease\", \"syd\": \"symptom\", \"wei\": \"weight\"})\n",
    "df_dis_sym = df_dis_sym.drop(axis=0, index=5568)\n",
    "df_dis_sym.head()"
   ]
  },
  {
   "cell_type": "code",
   "execution_count": 45,
   "metadata": {},
   "outputs": [
    {
     "data": {
      "text/html": [
       "<div>\n",
       "<style scoped>\n",
       "    .dataframe tbody tr th:only-of-type {\n",
       "        vertical-align: middle;\n",
       "    }\n",
       "\n",
       "    .dataframe tbody tr th {\n",
       "        vertical-align: top;\n",
       "    }\n",
       "\n",
       "    .dataframe thead th {\n",
       "        text-align: right;\n",
       "    }\n",
       "</style>\n",
       "<table border=\"1\" class=\"dataframe\">\n",
       "  <thead>\n",
       "    <tr style=\"text-align: right;\">\n",
       "      <th></th>\n",
       "      <th>did</th>\n",
       "      <th>diagnose</th>\n",
       "      <th>description</th>\n",
       "    </tr>\n",
       "  </thead>\n",
       "  <tbody>\n",
       "    <tr>\n",
       "      <th>0</th>\n",
       "      <td>1</td>\n",
       "      <td>Abdominal Aortic Aneurysm</td>\n",
       "      <td>enlarged major blood vessel</td>\n",
       "    </tr>\n",
       "    <tr>\n",
       "      <th>1</th>\n",
       "      <td>2</td>\n",
       "      <td>Abdominal Swelling</td>\n",
       "      <td>NaN</td>\n",
       "    </tr>\n",
       "    <tr>\n",
       "      <th>2</th>\n",
       "      <td>3</td>\n",
       "      <td>Abdominal Trauma</td>\n",
       "      <td>NaN</td>\n",
       "    </tr>\n",
       "    <tr>\n",
       "      <th>3</th>\n",
       "      <td>4</td>\n",
       "      <td>Abrasions</td>\n",
       "      <td>scrapes</td>\n",
       "    </tr>\n",
       "    <tr>\n",
       "      <th>4</th>\n",
       "      <td>5</td>\n",
       "      <td>ACE Inhibitor Induced Cough</td>\n",
       "      <td>blood pressure medication side effect/Drug-ind...</td>\n",
       "    </tr>\n",
       "  </tbody>\n",
       "</table>\n",
       "</div>"
      ],
      "text/plain": [
       "   did                     diagnose  \\\n",
       "0    1    Abdominal Aortic Aneurysm   \n",
       "1    2           Abdominal Swelling   \n",
       "2    3             Abdominal Trauma   \n",
       "3    4                    Abrasions   \n",
       "4    5  ACE Inhibitor Induced Cough   \n",
       "\n",
       "                                         description  \n",
       "0                        enlarged major blood vessel  \n",
       "1                                                NaN  \n",
       "2                                                NaN  \n",
       "3                                            scrapes  \n",
       "4  blood pressure medication side effect/Drug-ind...  "
      ]
     },
     "execution_count": 45,
     "metadata": {},
     "output_type": "execute_result"
    }
   ],
   "source": [
    "df_disease.head()"
   ]
  },
  {
   "cell_type": "code",
   "execution_count": 46,
   "metadata": {},
   "outputs": [
    {
     "data": {
      "text/plain": [
       "1166"
      ]
     },
     "execution_count": 46,
     "metadata": {},
     "output_type": "execute_result"
    }
   ],
   "source": [
    "yea = list(df_disease.iloc[:,0])\n",
    "len(yea)"
   ]
  },
  {
   "cell_type": "markdown",
   "metadata": {},
   "source": [
    "## Defining function that returns match percent of disease given symptoms"
   ]
  },
  {
   "cell_type": "code",
   "execution_count": 47,
   "metadata": {},
   "outputs": [
    {
     "data": {
      "text/plain": [
       "1166"
      ]
     },
     "execution_count": 47,
     "metadata": {},
     "output_type": "execute_result"
    }
   ],
   "source": [
    "disease_list = []\n",
    "for item in df_dis_sym.iloc[:, 0]:\n",
    "    if item not in disease_list:\n",
    "        disease_list.append(item)\n",
    "len(disease_list)"
   ]
  },
  {
   "cell_type": "code",
   "execution_count": 48,
   "metadata": {},
   "outputs": [
    {
     "data": {
      "text/html": [
       "<div>\n",
       "<style scoped>\n",
       "    .dataframe tbody tr th:only-of-type {\n",
       "        vertical-align: middle;\n",
       "    }\n",
       "\n",
       "    .dataframe tbody tr th {\n",
       "        vertical-align: top;\n",
       "    }\n",
       "\n",
       "    .dataframe thead th {\n",
       "        text-align: right;\n",
       "    }\n",
       "</style>\n",
       "<table border=\"1\" class=\"dataframe\">\n",
       "  <thead>\n",
       "    <tr style=\"text-align: right;\">\n",
       "      <th></th>\n",
       "      <th>disease</th>\n",
       "      <th>symptoms</th>\n",
       "    </tr>\n",
       "  </thead>\n",
       "  <tbody>\n",
       "    <tr>\n",
       "      <th>0</th>\n",
       "      <td>1.0</td>\n",
       "      <td>[7.0, 32.0, 54.0, 173.0, 205.0, 275.0]</td>\n",
       "    </tr>\n",
       "    <tr>\n",
       "      <th>1</th>\n",
       "      <td>2.0</td>\n",
       "      <td>[99.0, 284.0]</td>\n",
       "    </tr>\n",
       "    <tr>\n",
       "      <th>2</th>\n",
       "      <td>3.0</td>\n",
       "      <td>[2.0, 102.0]</td>\n",
       "    </tr>\n",
       "    <tr>\n",
       "      <th>3</th>\n",
       "      <td>4.0</td>\n",
       "      <td>[6.0, 11.0, 13.0, 23.0, 39.0, 41.0, 57.0, 67.0...</td>\n",
       "    </tr>\n",
       "    <tr>\n",
       "      <th>4</th>\n",
       "      <td>5.0</td>\n",
       "      <td>[17.0, 126.0, 159.0, 194.0, 195.0]</td>\n",
       "    </tr>\n",
       "  </tbody>\n",
       "</table>\n",
       "</div>"
      ],
      "text/plain": [
       "   disease                                           symptoms\n",
       "0      1.0             [7.0, 32.0, 54.0, 173.0, 205.0, 275.0]\n",
       "1      2.0                                      [99.0, 284.0]\n",
       "2      3.0                                       [2.0, 102.0]\n",
       "3      4.0  [6.0, 11.0, 13.0, 23.0, 39.0, 41.0, 57.0, 67.0...\n",
       "4      5.0                 [17.0, 126.0, 159.0, 194.0, 195.0]"
      ]
     },
     "execution_count": 48,
     "metadata": {},
     "output_type": "execute_result"
    }
   ],
   "source": [
    "#creating new dataframe, condensed version of df_dis_sym\n",
    "df_dis_sym_c = pd.DataFrame(columns={'disease', 'symptoms'})\n",
    "sym_lst = []\n",
    "for row in range(len(df_dis_sym)):\n",
    "    if row == 0:\n",
    "        sym_lst.append(df_dis_sym.iloc[row, 1])\n",
    "    elif row == len(df_dis_sym)-1:\n",
    "        sym_lst = sorted(sym_lst)\n",
    "        df_dis_sym_c = df_dis_sym_c.append({'disease': df_dis_sym.iloc[row, 0], 'symptoms': sym_lst}, ignore_index=True)\n",
    "    elif (df_dis_sym.iloc[row, 0] == df_dis_sym.iloc[row-1, 0]):\n",
    "        sym_lst.append(df_dis_sym.iloc[row, 1])\n",
    "    elif (df_dis_sym.iloc[row, 0] != df_dis_sym.iloc[row-1, 0]):\n",
    "        sym_lst = sorted(sym_lst)\n",
    "        df_dis_sym_c = df_dis_sym_c.append({'disease': df_dis_sym.iloc[row-1, 0], 'symptoms': sym_lst}, ignore_index=True)\n",
    "        sym_lst = [df_dis_sym.iloc[row, 1]]\n",
    "columnsTitles=[\"disease\",\"symptoms\"]\n",
    "df_dis_sym_c=df_dis_sym_c.reindex(columns=columnsTitles)\n",
    "df_dis_sym_c.head()\n",
    "    "
   ]
  },
  {
   "cell_type": "code",
   "execution_count": 49,
   "metadata": {},
   "outputs": [
    {
     "data": {
      "text/html": [
       "<div>\n",
       "<style scoped>\n",
       "    .dataframe tbody tr th:only-of-type {\n",
       "        vertical-align: middle;\n",
       "    }\n",
       "\n",
       "    .dataframe tbody tr th {\n",
       "        vertical-align: top;\n",
       "    }\n",
       "\n",
       "    .dataframe thead th {\n",
       "        text-align: right;\n",
       "    }\n",
       "</style>\n",
       "<table border=\"1\" class=\"dataframe\">\n",
       "  <thead>\n",
       "    <tr style=\"text-align: right;\">\n",
       "      <th></th>\n",
       "      <th>did</th>\n",
       "      <th>diagnose</th>\n",
       "      <th>description</th>\n",
       "    </tr>\n",
       "  </thead>\n",
       "  <tbody>\n",
       "    <tr>\n",
       "      <th>0</th>\n",
       "      <td>1</td>\n",
       "      <td>Abdominal Aortic Aneurysm</td>\n",
       "      <td>enlarged major blood vessel</td>\n",
       "    </tr>\n",
       "    <tr>\n",
       "      <th>1</th>\n",
       "      <td>2</td>\n",
       "      <td>Abdominal Swelling</td>\n",
       "      <td>NaN</td>\n",
       "    </tr>\n",
       "    <tr>\n",
       "      <th>2</th>\n",
       "      <td>3</td>\n",
       "      <td>Abdominal Trauma</td>\n",
       "      <td>NaN</td>\n",
       "    </tr>\n",
       "    <tr>\n",
       "      <th>3</th>\n",
       "      <td>4</td>\n",
       "      <td>Abrasions</td>\n",
       "      <td>scrapes</td>\n",
       "    </tr>\n",
       "    <tr>\n",
       "      <th>4</th>\n",
       "      <td>5</td>\n",
       "      <td>ACE Inhibitor Induced Cough</td>\n",
       "      <td>blood pressure medication side effect/Drug-ind...</td>\n",
       "    </tr>\n",
       "  </tbody>\n",
       "</table>\n",
       "</div>"
      ],
      "text/plain": [
       "   did                     diagnose  \\\n",
       "0    1    Abdominal Aortic Aneurysm   \n",
       "1    2           Abdominal Swelling   \n",
       "2    3             Abdominal Trauma   \n",
       "3    4                    Abrasions   \n",
       "4    5  ACE Inhibitor Induced Cough   \n",
       "\n",
       "                                         description  \n",
       "0                        enlarged major blood vessel  \n",
       "1                                                NaN  \n",
       "2                                                NaN  \n",
       "3                                            scrapes  \n",
       "4  blood pressure medication side effect/Drug-ind...  "
      ]
     },
     "execution_count": 49,
     "metadata": {},
     "output_type": "execute_result"
    }
   ],
   "source": [
    "# df_symptoms.head()\n",
    "df_disease.head()"
   ]
  },
  {
   "cell_type": "code",
   "execution_count": 50,
   "metadata": {},
   "outputs": [],
   "source": [
    "#creating a dictionary of values with the keys being the syd indexes and the values being the symptom (index to symptom)\n",
    "symp_dict = {}\n",
    "for i in range(len(df_symptoms)):\n",
    "    symp_dict[df_symptoms.iloc[i, 0]] = df_symptoms.iloc[i, 1]"
   ]
  },
  {
   "cell_type": "code",
   "execution_count": 51,
   "metadata": {},
   "outputs": [],
   "source": [
    "#creating opposite dictionary (symptom to index)\n",
    "symp_dict2 = {}\n",
    "for i in range(len(df_symptoms)):\n",
    "    symp_dict2[df_symptoms.iloc[i, 1]] = df_symptoms.iloc[i, 0]"
   ]
  },
  {
   "cell_type": "code",
   "execution_count": 52,
   "metadata": {},
   "outputs": [],
   "source": [
    "#creating a dictionary of values with the keys being the did indexes and the values being the disease (index to disease)\n",
    "dis_dict = {}\n",
    "for i in range(len(df_disease)):\n",
    "    dis_dict[df_disease.iloc[i, 0]] = df_disease.iloc[i, 1]"
   ]
  },
  {
   "cell_type": "code",
   "execution_count": 53,
   "metadata": {},
   "outputs": [],
   "source": [
    "#creating opposite dictionary (disease to index)\n",
    "dis_dict2 = {}\n",
    "for i in range(len(df_disease)):\n",
    "    dis_dict2[df_disease.iloc[i, 1]] = df_disease.iloc[i, 0]"
   ]
  },
  {
   "cell_type": "code",
   "execution_count": 54,
   "metadata": {},
   "outputs": [],
   "source": [
    "#returns the top five diseases with matching symptoms, if ties then returns all\n",
    "def return_disease(*symptoms):\n",
    "    top_five = []\n",
    "    value_lst = []\n",
    "    per_match_dic = {}\n",
    "    for row in range(len(df_dis_sym_c)):\n",
    "        match = 0\n",
    "        total = 0\n",
    "        for symptom in symptoms:\n",
    "            lst = df_dis_sym_c.iloc[row, 1]\n",
    "            if symp_dict2[symptom] in lst:\n",
    "                match += 1\n",
    "                total += 1\n",
    "            else:\n",
    "                total += 1\n",
    "        per_match = match/total\n",
    "        disease_index = df_dis_sym_c.iloc[row, 0]\n",
    "        disease = dis_dict[disease_index]\n",
    "        per_match_dic[disease] = per_match\n",
    "    for value in per_match_dic.values():\n",
    "        value_lst.append(value)\n",
    "    value_lst = sorted(value_lst)\n",
    "    value_lst_top = value_lst[-1:-6:-1]\n",
    "    for disease, value in per_match_dic.items():\n",
    "        if value in value_lst_top:\n",
    "            top_five.append((disease, value))\n",
    "    return top_five"
   ]
  },
  {
   "cell_type": "code",
   "execution_count": 55,
   "metadata": {},
   "outputs": [
    {
     "data": {
      "text/plain": [
       "[('Alcoholism', 0.6666666666666666),\n",
       " ('Appendicitis', 0.6666666666666666),\n",
       " ('Celiac Disease', 0.6666666666666666),\n",
       " ('Cholecystitis', 0.6666666666666666),\n",
       " ('Cholelithiasis', 0.6666666666666666),\n",
       " ('Colonic Diverticulitis', 0.6666666666666666),\n",
       " ('Constipation', 0.6666666666666666),\n",
       " ('Endometriosis', 0.6666666666666666),\n",
       " ('Gastric Ulcer', 0.6666666666666666),\n",
       " ('Gastroenteritis', 0.6666666666666666),\n",
       " ('Gastroesophageal Reflux', 0.6666666666666666),\n",
       " ('Hernia', 0.6666666666666666),\n",
       " ('Inguinal Hernia', 0.6666666666666666),\n",
       " ('Irritable Bowel Syndrome', 0.6666666666666666),\n",
       " ('Ligament Sprain', 0.6666666666666666),\n",
       " ('Kidney Stone', 0.6666666666666666),\n",
       " ('Ovarian Cyst', 0.6666666666666666),\n",
       " ('Pancreatitis', 0.6666666666666666),\n",
       " ('Pancreas Inflammation', 0.6666666666666666),\n",
       " ('Pyelonephritis', 0.6666666666666666),\n",
       " ('Bladder Infection', 0.6666666666666666),\n",
       " ('Umbilical Hernia', 0.6666666666666666),\n",
       " ('Lactose Intolerance', 0.6666666666666666),\n",
       " ('Diverticulosis', 0.6666666666666666),\n",
       " ('Ventral Hernia', 0.6666666666666666)]"
      ]
     },
     "execution_count": 55,
     "metadata": {},
     "output_type": "execute_result"
    }
   ],
   "source": [
    "return_disease('Upper abdominal pain', 'Lower abdominal pain', 'Alcohol abuse')"
   ]
  },
  {
   "cell_type": "code",
   "execution_count": 56,
   "metadata": {},
   "outputs": [],
   "source": [
    "#returns the top five diseases with matching symptoms, if ties then returns all, also return id\n",
    "def return_disease2(*symptoms):\n",
    "    top_five = []\n",
    "    value_lst = []\n",
    "    per_match_dic = {}\n",
    "    for row in range(len(df_dis_sym_c)):\n",
    "        match = 0\n",
    "        total = 0\n",
    "        for symptom in symptoms:\n",
    "            lst = df_dis_sym_c.iloc[row, 1]\n",
    "            if symp_dict2[symptom] in lst:\n",
    "                match += 1\n",
    "                total += 1\n",
    "            else:\n",
    "                total += 1\n",
    "        per_match = match/total\n",
    "        disease_index = df_dis_sym_c.iloc[row, 0]\n",
    "        disease = dis_dict[disease_index]\n",
    "        per_match_dic[(disease, disease_index)] = per_match\n",
    "    for value in per_match_dic.values():\n",
    "        value_lst.append(value)\n",
    "    value_lst = sorted(value_lst)\n",
    "    value_lst_top = value_lst[-1:-6:-1]\n",
    "    for (disease, index), value in per_match_dic.items():\n",
    "        if value in value_lst_top:\n",
    "            top_five.append(((disease, index), value))\n",
    "    return top_five"
   ]
  },
  {
   "cell_type": "code",
   "execution_count": 57,
   "metadata": {},
   "outputs": [],
   "source": [
    "result = return_disease2('Upper abdominal pain', 'Lower abdominal pain', 'Alcohol abuse')"
   ]
  },
  {
   "cell_type": "code",
   "execution_count": 58,
   "metadata": {},
   "outputs": [
    {
     "name": "stdout",
     "output_type": "stream",
     "text": [
      "[(('Alcoholism', 25.0), 0.6666666666666666), (('Appendicitis', 56.0), 0.6666666666666666), (('Celiac Disease', 139.0), 0.6666666666666666), (('Cholecystitis', 163.0), 0.6666666666666666), (('Cholelithiasis', 165.0), 0.6666666666666666), (('Colonic Diverticulitis', 179.0), 0.6666666666666666), (('Constipation', 187.0), 0.6666666666666666), (('Endometriosis', 241.0), 0.6666666666666666), (('Gastric Ulcer', 306.0), 0.6666666666666666), (('Gastroenteritis', 308.0), 0.6666666666666666), (('Gastroesophageal Reflux', 309.0), 0.6666666666666666), (('Hernia', 349.0), 0.6666666666666666), (('Inguinal Hernia', 388.0), 0.6666666666666666), (('Irritable Bowel Syndrome', 401.0), 0.6666666666666666), (('Ligament Sprain', 426.0), 0.6666666666666666), (('Kidney Stone', 513.0), 0.6666666666666666), (('Ovarian Cyst', 539.0), 0.6666666666666666), (('Pancreatitis', 546.0), 0.6666666666666666), (('Pancreas Inflammation', 547.0), 0.6666666666666666), (('Pyelonephritis', 637.0), 0.6666666666666666), (('Bladder Infection', 793.0), 0.6666666666666666), (('Umbilical Hernia', 939.0), 0.6666666666666666), (('Lactose Intolerance', 988.0), 0.6666666666666666), (('Diverticulosis', 991.0), 0.6666666666666666), (('Ventral Hernia', 1115.0), 0.6666666666666666)]\n"
     ]
    }
   ],
   "source": [
    "print(result)"
   ]
  },
  {
   "cell_type": "code",
   "execution_count": 22,
   "metadata": {},
   "outputs": [],
   "source": [
    "## Defining function that returns similiar condition in the new dataset"
   ]
  },
  {
   "cell_type": "code",
   "execution_count": 71,
   "metadata": {},
   "outputs": [
    {
     "data": {
      "text/html": [
       "<div>\n",
       "<style scoped>\n",
       "    .dataframe tbody tr th:only-of-type {\n",
       "        vertical-align: middle;\n",
       "    }\n",
       "\n",
       "    .dataframe tbody tr th {\n",
       "        vertical-align: top;\n",
       "    }\n",
       "\n",
       "    .dataframe thead th {\n",
       "        text-align: right;\n",
       "    }\n",
       "</style>\n",
       "<table border=\"1\" class=\"dataframe\">\n",
       "  <thead>\n",
       "    <tr style=\"text-align: right;\">\n",
       "      <th></th>\n",
       "      <th>uniqueID</th>\n",
       "      <th>drugName</th>\n",
       "      <th>condition</th>\n",
       "      <th>review</th>\n",
       "      <th>rating</th>\n",
       "      <th>date</th>\n",
       "      <th>usefulCount</th>\n",
       "    </tr>\n",
       "  </thead>\n",
       "  <tbody>\n",
       "    <tr>\n",
       "      <th>0</th>\n",
       "      <td>206461</td>\n",
       "      <td>Valsartan</td>\n",
       "      <td>Left Ventricular Dysfunction</td>\n",
       "      <td>\"It has no side effect, I take it in combinati...</td>\n",
       "      <td>9</td>\n",
       "      <td>20-May-12</td>\n",
       "      <td>27</td>\n",
       "    </tr>\n",
       "    <tr>\n",
       "      <th>1</th>\n",
       "      <td>95260</td>\n",
       "      <td>Guanfacine</td>\n",
       "      <td>ADHD</td>\n",
       "      <td>\"My son is halfway through his fourth week of ...</td>\n",
       "      <td>8</td>\n",
       "      <td>27-Apr-10</td>\n",
       "      <td>192</td>\n",
       "    </tr>\n",
       "    <tr>\n",
       "      <th>2</th>\n",
       "      <td>92703</td>\n",
       "      <td>Lybrel</td>\n",
       "      <td>Birth Control</td>\n",
       "      <td>\"I used to take another oral contraceptive, wh...</td>\n",
       "      <td>5</td>\n",
       "      <td>14-Dec-09</td>\n",
       "      <td>17</td>\n",
       "    </tr>\n",
       "    <tr>\n",
       "      <th>3</th>\n",
       "      <td>138000</td>\n",
       "      <td>Ortho Evra</td>\n",
       "      <td>Birth Control</td>\n",
       "      <td>\"This is my first time using any form of birth...</td>\n",
       "      <td>8</td>\n",
       "      <td>3-Nov-15</td>\n",
       "      <td>10</td>\n",
       "    </tr>\n",
       "    <tr>\n",
       "      <th>4</th>\n",
       "      <td>35696</td>\n",
       "      <td>Buprenorphine / naloxone</td>\n",
       "      <td>Opiate Dependence</td>\n",
       "      <td>\"Suboxone has completely turned my life around...</td>\n",
       "      <td>9</td>\n",
       "      <td>27-Nov-16</td>\n",
       "      <td>37</td>\n",
       "    </tr>\n",
       "  </tbody>\n",
       "</table>\n",
       "</div>"
      ],
      "text/plain": [
       "   uniqueID                  drugName                     condition  \\\n",
       "0    206461                 Valsartan  Left Ventricular Dysfunction   \n",
       "1     95260                Guanfacine                          ADHD   \n",
       "2     92703                    Lybrel                 Birth Control   \n",
       "3    138000                Ortho Evra                 Birth Control   \n",
       "4     35696  Buprenorphine / naloxone             Opiate Dependence   \n",
       "\n",
       "                                              review  rating       date  \\\n",
       "0  \"It has no side effect, I take it in combinati...       9  20-May-12   \n",
       "1  \"My son is halfway through his fourth week of ...       8  27-Apr-10   \n",
       "2  \"I used to take another oral contraceptive, wh...       5  14-Dec-09   \n",
       "3  \"This is my first time using any form of birth...       8   3-Nov-15   \n",
       "4  \"Suboxone has completely turned my life around...       9  27-Nov-16   \n",
       "\n",
       "   usefulCount  \n",
       "0           27  \n",
       "1          192  \n",
       "2           17  \n",
       "3           10  \n",
       "4           37  "
      ]
     },
     "execution_count": 71,
     "metadata": {},
     "output_type": "execute_result"
    }
   ],
   "source": [
    "df = pd.read_csv(r\"C:\\Users\\p_amb\\Desktop\\CapstoneFinal\\DrugRec\\www\\Shuen's Data\\kuc-hackathon-winter-2018\\drugsComTrain_raw.csv\")\n",
    "df.head()"
   ]
  },
  {
   "cell_type": "code",
   "execution_count": 72,
   "metadata": {},
   "outputs": [
    {
     "name": "stdout",
     "output_type": "stream",
     "text": [
      "[('Birth Control', 28788), ('Depression', 9069), ('Pain', 6145), ('Anxiety', 5904), ('Acne', 5588), ('Bipolar Disorde', 4224), ('Insomnia', 3673), ('Weight Loss', 3609), ('Obesity', 3568), ('ADHD', 3383), ('Diabetes, Type 2', 2554), ('Emergency Contraception', 2463), ('High Blood Pressure', 2321), ('Vaginal Yeast Infection', 2274), ('Abnormal Uterine Bleeding', 2096), ('Bowel Preparation', 1859), ('ibromyalgia', 1791), ('Smoking Cessation', 1780), ('Migraine', 1694), ('Anxiety and Stress', 1663), ('Major Depressive Disorde', 1607), ('Constipation', 1595), ('Panic Disorde', 1463), ('Chronic Pain', 1455), ('Migraine Prevention', 1413), ('Urinary Tract Infection', 1316), ('Muscle Spasm', 1244), ('Osteoarthritis', 1239), ('Generalized Anxiety Disorde', 1164), ('Erectile Dysfunction', 1086), ('Opiate Dependence', 1079), ('Irritable Bowel Syndrome', 1014), ('Rheumatoid Arthritis', 995), ('Allergic Rhinitis', 973), ('Bacterial Infection', 945), ('Cough', 927), (nan, 899), ('Sinusitis', 835), ('Nausea/Vomiting', 747), ('GERD', 722), ('Multiple Sclerosis', 698), ('Overactive Bladde', 683), ('Hyperhidrosis', 677), ('Hepatitis C', 656), ('Back Pain', 616), ('HIV Infection', 615), ('High Cholesterol', 611), ('Psoriasis', 598), ('Schizophrenia', 594), ('Constipation, Chronic', 591), ('Obsessive Compulsive Disorde', 579), ('Restless Legs Syndrome', 565), ('Benign Prostatic Hyperplasia', 561), ('Endometriosis', 558), ('Bronchitis', 550), ('Bacterial Vaginitis', 524), ('Rosacea', 519), ('Seizures', 508), ('Narcolepsy', 506), ('Hypogonadism, Male', 502), ('Asthma, Maintenance', 501), ('Headache', 473), ('Underactive Thyroid', 449), ('Not Listed / Othe', 439), ('Onychomycosis, Toenail', 396), ('Schizoaffective Disorde', 396), ('Bladder Infection', 395), ('Social Anxiety Disorde', 389), ('Alcohol Dependence', 388), ('Herpes Simplex', 386), ('Osteoporosis', 372), ('Cold Sores', 367), ('Epilepsy', 358), ('Cough and Nasal Congestion', 356), ('Menstrual Disorders', 350), ('Influenza', 350), ('Plaque Psoriasis', 332), ('Opiate Withdrawal', 327), ('Psoriatic Arthritis', 324), ('Post Traumatic Stress Disorde', 314), ('Postmenopausal Symptoms', 313), ('Polycystic Ovary Syndrome', 309), ('Inflammatory Conditions', 303), ('Premenstrual Dysphoric Disorde', 298), ('Nasal Congestion', 290), ('Pneumonia', 276), ('Chlamydia Infection', 273), ('Atrial Fibrillation', 272), ('Breast Cance', 272), ('Urticaria', 264), ('Helicobacter Pylori Infection', 260), ('Hot Flashes', 255), ('Neuropathic Pain', 253), ('Anesthesia', 252), ('COPD, Maintenance', 250), ('Ulcerative Colitis', 238), ('Constipation, Drug Induced', 228), ('Skin or Soft Tissue Infection', 225), ('Asthma', 225), ('Alcohol Withdrawal', 217), ('Ankylosing Spondylitis', 209), ('Motion Sickness', 203), ('Gout, Acute', 196), (\"Crohn's Disease, Maintenance\", 192), ('mance Anxiety', 187), ('Seizure Prevention', 183), ('Atrophic Vaginitis', 182), ('Allergies', 179), ('Interstitial Cystitis', 178), ('Peripheral Neuropathy', 176), ('Diabetic Peripheral Neuropathy', 175), (\"Hashimoto's disease\", 173), ('Upper Respiratory Tract Infection', 171), (\"Crohn's Disease\", 168), ('Urinary Incontinence', 168), ('Herpes Simplex, Suppression', 166), ('Eczema', 166), ('Cluster Headaches', 166), ('Sedation', 165), ('Trigeminal Neuralgia', 162), ('Atopic Dermatitis', 162), ('Prevention of Thromboembolism in Atrial Fibrillation', 160), ('COPD', 159), ('Otitis Media', 152), ('Ovarian Cysts', 152), ('Hypothyroidism, After Thyroid Removal', 151), ('Borderline Personality Disorde', 151), ('Dry Eye Disease', 147), ('Bacterial Skin Infection', 146), ('Diverticulitis', 142), ('Diabetes, Type 1', 140), ('Period Pain', 139), ('Asthma, acute', 135), ('Ulcerative Colitis, Active', 132), ('Sciatica', 124), ('Prostate Cance', 123), ('Nausea/Vomiting of Pregnancy', 123), (\"Parkinson's Disease\", 120), ('Kidney Infections', 117), ('Cold Symptoms', 116), ('Diarrhea', 110), ('Strep Throat', 109), ('Tonsillitis/Pharyngitis', 106), ('Keratosis', 106), ('Gout', 105), ('0</span> users found this comment helpful.', 104), ('Breast Cancer, Metastatic', 102), ('Dietary Supplementation', 102), ('Human Papilloma Virus', 102), ('Urinary Tract Stones', 101), ('Vertig', 101), ('Arrhythmia', 97), ('Systemic Lupus Erythematosus', 95), ('Renal Cell Carcinoma', 95), ('Non-Small Cell Lung Cance', 94), ('Neuralgia', 94), ('Angina', 93), ('Dermatitis', 93), ('Edema', 93), ('Amenorrhea', 92), ('Prostatitis', 91), ('Dental Abscess', 90), ('Autism', 90), ('Chronic Myelogenous Leukemia', 89), ('Benign Essential Trem', 89), ('Alopecia', 89), ('Hemorrhoids', 88), ('Chronic Fatigue Syndrome', 88), ('Heart Failure', 88), ('Muscle Pain', 88), ('Sinus Symptoms', 86), ('Deep Vein Thrombosis', 86), ('Supraventricular Tachycardia', 86), ('2</span> users found this comment helpful.', 85), ('Allergic Reactions', 85), (\"Alzheimer's Disease\", 85), ('3</span> users found this comment helpful.', 84), ('Rhinitis', 84), ('Postpartum Depression', 84), ('1</span> users found this comment helpful.', 83), ('Anorexia', 80), ('Obstructive Sleep Apnea/Hypopnea Syndrome', 80), ('Menorrhagia', 80), ('moterol)', 79), ('Nausea/Vomiting, Chemotherapy Induced', 79), ('Dry Skin', 78), ('Premature Lab', 76), ('Hirsutism', 74), (\"Barrett's Esophagus\", 74), ('Vitamin/Mineral Supplementation during Pregnancy/Lactation', 74), ('Psychosis', 73), ('Dysuria', 73), ('Hypertriglyceridemia', 73), ('Conjunctivitis, Allergic', 73), ('Stomach Ulce', 72), ('Binge Eating Disorde', 72), ('Melasma', 72), ('Postherpetic Neuralgia', 71), ('Hypersomnia', 70), ('Erosive Esophagitis', 70), ('Trichomoniasis', 70), ('Sexual Dysfunction, SSRI Induced', 69), ('Seasonal Allergic Conjunctivitis', 68), (\"Tourette's Syndrome\", 68), ('Pulmonary Embolism', 68), ('Prevention of Bladder infection', 68), ('Head Lice', 67), ('4</span> users found this comment helpful.', 66), ('emale Infertility', 65), ('Pulmonary Hypertension', 64), ('High Cholesterol, Familial Heterozygous', 62), ('Conjunctivitis, Bacterial', 62), ('Pseudotumor Cerebri', 62), ('Shift Work Sleep Disorde', 60), ('Chronic Idiopathic Constipation', 60), ('Light Sedation', 60), ('Eye Redness', 59), ('Bulimia', 58), ('Glaucoma, Open Angle', 57), ('Cervical Dystonia', 56), ('Reflex Sympathetic Dystrophy Syndrome', 55), ('Heart Attack', 55), ('Keratoconjunctivitis Sicca', 54), ('Basal Cell Carcinoma', 54), ('Hyperprolactinemia', 54), ('Acute Coronary Syndrome', 54), ('Skin and Structure Infection', 53), ('atigue', 53), ('Mania', 53), ('Organ Transplant, Rejection Prophylaxis', 53), (\"Sjogren's Syndrome\", 50), (\"Raynaud's Syndrome\", 50), ('Perimenopausal Symptoms', 50), ('Uterine Fibroids', 49), ('Indigestion', 48), ('Androgenetic Alopecia', 48), ('Diarrhea, Chronic', 47), ('Burns, External', 47), (\"Crohn's Disease, Acute\", 47), ('6</span> users found this comment helpful.', 46), ('Malaria Prevention', 45), ('min)', 45), ('Ulcerative Colitis, Maintenance', 45), ('Opioid-Induced Constipation', 44), ('Pruritus', 44), ('Neutropenia Associated with Chemotherapy', 43), ('Tendonitis', 43), ('Periodic Limb Movement Disorde', 43), ('Myasthenia Gravis', 40), ('5</span> users found this comment helpful.', 40), ('Paranoid Disorde', 38), ('Agitated State', 38), ('Postoperative Pain', 38), ('Dermatological Disorders', 38), ('Gastroenteritis', 38), ('Gastroparesis', 37), ('Clostridial Infection', 37), ('Colorectal Cance', 37), ('7</span> users found this comment helpful.', 37), ('Constipation, Acute', 35), ('Vulvodynia', 35), ('Lyme Disease', 35), ('Primary Immunodeficiency Syndrome', 35), ('Tinnitus', 34), ('Glaucoma', 34), ('Eye Redness/Itching', 34), ('Gouty Arthritis', 34), ('Iron Deficiency Anemia', 34), ('Oophorectomy', 34), ('Breakthrough Pain', 33), ('Human Papillomavirus Prophylaxis', 33), ('ge (amlodipine / valsartan)', 33), ('acial Wrinkles', 32), ('8</span> users found this comment helpful.', 31), ('Condylomata Acuminata', 31), ('Oral Thrush', 30), ('Seborrheic Dermatitis', 30), ('Influenza Prophylaxis', 30), ('Temporomandibular Joint Disorde', 30), ('COPD, Acute', 30), ('9</span> users found this comment helpful.', 30), ('Ventricular Tachycardia', 30), ('moterol / mometasone)', 29), ('Actinic Keratosis', 29), ('Mitral Valve Prolapse', 29), ('Duodenal Ulce', 29), ('Light Anesthesia', 28), ('Herbal Supplementation', 28), ('Dysautonomia', 28), ('Cyclic Vomiting Syndrome', 28), ('10</span> users found this comment helpful.', 28), ('Hiccups', 27), ('Insomnia, Stimulant-Associated', 27), ('Photoaging of the Skin', 27), ('Night Terrors', 26), ('min / sitagliptin)', 26), ('Chronic Lymphocytic Leukemia', 26), ('Otitis Externa', 26), ('Juvenile Rheumatoid Arthritis', 26), ('Postural Orthostatic Tachycardia Syndrome', 26), ('Extrapyramidal Reaction', 25), ('Tinea Corporis', 25), ('Nocturnal Leg Cramps', 25), ('Herpes Zoste', 25), ('Precocious Puberty', 25), ('Labor Pain', 24), ('Pharyngitis', 24), ('Pneumococcal Disease Prophylaxis', 24), ('Postoperative Ocular Inflammation', 24), ('Inflammatory Bowel Disease', 24), ('Vitamin/Mineral Supplementation and Deficiency', 23), ('Atrophic Urethritis', 23), ('Tinea Versicol', 22), ('Chronic Spasticity', 22), ('Bone infection', 22), ('Allergic Urticaria', 22), ('Skin Cance', 22), ('Ischemic Stroke, Prophylaxis', 22), ('13</span> users found this comment helpful.', 21), ('Melanoma, Metastatic', 21), ('Atrial Flutte', 21), ('Hypoestrogenism', 21), ('Swine Flu', 21), ('Tinea Pedis', 21), ('Insulin Resistance Syndrome', 21), ('Hyperphosphatemia of Renal Failure', 21), ('Angina Pectoris Prophylaxis', 20), (\"Non-Hodgkin's Lymphoma\", 20), ('Lennox-Gastaut Syndrome', 20), ('Prevention of Osteoporosis', 20), (\"Meniere's Disease\", 20), ('Left Ventricular Dysfunction', 19), ('Xerostomia', 19), ('Breast Cancer, Adjuvant', 19), ('Methicillin-Resistant Staphylococcus Aureus Infection', 19), ('Burning Mouth Syndrome', 19), ('Malaria', 19), ('Vitamin D Deficiency', 19), ('Gas', 19), ('Diabetic Kidney Disease', 19), ('Diaper Rash', 18), ('Progesterone Insufficiency', 18), ('Nausea/Vomiting, Postoperative', 18), ('Pseudobulbar Affect', 18), ('Uveitis', 18), ('12</span> users found this comment helpful.', 18), ('Nightmares', 18), ('Anemia', 18), ('Lactose Intolerance', 18), ('Hereditary Angioedema', 17), ('Multiple Myeloma', 17), ('Juvenile Idiopathic Arthritis', 17), ('15</span> users found this comment helpful.', 17), ('Onychomycosis, Fingernail', 17), ('Myelodysplastic Syndrome', 17), ('Macular Degeneration', 17), ('Benzodiazepine Withdrawal', 17), ('Ovarian Cance', 17), ('Undifferentiated Connective Tissue Disease', 16), ('Chronic Pancreatitis', 16), ('Seasonal Affective Disorde', 16), ('Ovulation Induction', 16), ('Soft Tissue Sarcoma', 16), ('Primary Ovarian Failure', 15), ('Giardiasis', 15), ('Pancreatic Cance', 15), ('Lyme Disease, Neurologic', 15), ('Diagnosis and Investigation', 15), ('Trichotillomania', 14), ('Hyperlipoproteinemia', 14), ('Diabetes Insipidus', 14), (\"Behcet's Disease\", 14), ('Streptococcal Infection', 14), ('High Cholesterol, Familial Homozygous', 14), ('16</span> users found this comment helpful.', 14), ('Deep Vein Thrombosis, Prophylaxis', 14), ('17</span> users found this comment helpful.', 14), ('14</span> users found this comment helpful.', 14), ('zen Shoulde', 14), ('Tinea Cruris', 14), ('Expectoration', 14), ('Pain/Feve', 13), ('Surgical Prophylaxis', 13), ('Bronchiectasis', 13), ('Hypertensive Emergency', 13), ('Hepatitis B', 13), ('New Daily Persistent Headache', 13), ('Computed Tomography', 13), ('Dyspareunia', 13), ('Ischemic Stroke', 13), ('20</span> users found this comment helpful.', 13), ('Lichen Sclerosus', 13), ('Osteolytic Bone Metastases of Solid Tumors', 12), ('Hyperthyroidism', 12), ('Skin Rash', 12), ('Nasal Polyps', 12), ('Asperger Syndrome', 12), ('Cystic Fibrosis', 12), ('mulation) (phenylephrine)', 12), ('Post-Cholecystectomy Diarrhea', 12), ('Conjunctivitis', 12), ('Intraocular Hypertension', 12), ('Secondary Hyperparathyroidism', 12), ('Anal Fissure and Fistula', 12), ('Intermittent Claudication', 12), ('Hyperlipoproteinemia Type IIa, Elevated LDL', 12), ('Persistent Depressive Disorde', 12), ('eve', 12), ('Premenstrual Syndrome', 12), ('Cutaneous Candidiasis', 12), ('Autoimmune Hepatitis', 12), ('Bursitis', 11), (\"Addison's Disease\", 11), ('Dystonia', 11), ('Opiate Adjunct', 11), ('Polycythemia Vera', 11), ('Vitamin B12 Deficiency', 11), ('Scabies', 11), (\"Traveler's Diarrhea\", 11), ('19</span> users found this comment helpful.', 11), ('Diarrhea, Acute', 11), ('Lichen Planus', 11), ('18</span> users found this comment helpful.', 11), ('Prevention of Cardiovascular Disease', 11), ('11</span> users found this comment helpful.', 10), ('Impetig', 10), ('Adult Human Growth Hormone Deficiency', 10), ('Opioid Overdose', 10), ('Prevention of Hypokalemia', 10), ('min / saxagliptin)', 10), ('Herpes Simplex, Mucocutaneous/Immunocompetent Host', 10), ('Chronic Myofascial Pain', 10), ('Thyroid Cance', 10), ('Tuberculosis, Latent', 10), ('Ulcerative Proctitis', 10), ('Sore Throat', 9), ('Dermatomyositis', 9), ('TSH Suppression', 9), ('Prevention of Dental Caries', 9), ('Spondylolisthesis', 9), ('Pulmonary Embolism, Recurrent Event', 9), ('Deep Vein Thrombosis, First Event', 9), ('Local Anesthesia', 9), ('Body Dysmorphic Disorde', 9), ('Hypoparathyroidism', 9), ('Perioral Dermatitis', 9), ('Menopausal Disorders', 9), ('23</span> users found this comment helpful.', 9), ('Costochondritis', 9), ('Deep Vein Thrombosis, Recurrent Event', 9), ('21</span> users found this comment helpful.', 9), ('Lactation Augmentation', 9), ('Pelvic Inflammatory Disease', 9), ('Intraabdominal Infection', 9), ('Bacterial Endocarditis Prevention', 8), ('lic Acid Deficiency', 8), ('Status Epilepticus', 8), ('Bronchospasm Prophylaxis', 8), ('Lyme Disease, Arthritis', 8), ('Labor Induction', 8), ('Dandruff', 8), ('Candidemia', 8), ('Agitation', 8), ('Nasal Carriage of Staphylococcus aureus', 8), ('Atherosclerosis', 8), ('B12 Nutritional Deficiency', 8), ('Pancreatic Exocrine Dysfunction', 8), ('Dermatologic Lesion', 8), ('Pediatric Growth Hormone Deficiency', 8), ('Brain Tum', 8), ('Gastrointestinal Stromal Tum', 8), ('Adrenocortical Insufficiency', 8), ('Lymphoma', 8), ('Hepatic Encephalopathy', 8), ('Immunosuppression', 7), ('Ophthalmic Surgery', 7), ('Lipodystrophy', 7), ('Macular Edema', 7), ('Idiopathic Thrombocytopenic Purpura', 7), ('Performance Anxiety', 7), ('Abortion', 7), ('Endometrial Cance', 7), ('Hypoactive Sexual Desire Disorde', 7), ('Head and Neck Cance', 7), ('Diabetic Macular Edema', 7), ('NSAID-Induced Gastric Ulce', 7), ('Pinworm Infection (Enterobius vermicularis)', 7), ('Tinea Capitis', 7), (\"von Willebrand's Disease\", 7), (\"Wegener's Granulomatosis\", 7), ('25</span> users found this comment helpful.', 7), ('Mountain Sickness / Altitude Sickness', 7), ('Bleeding Disorde', 7), ('Systemic Mastocytosis', 6), ('Premature Ventricular Depolarizations', 6), ('Mucositis', 6), ('Cataplexy', 6), ('NSAID-Induced Ulcer Prophylaxis', 6), ('Carcinoid Tum', 6), ('Biliary Cirrhosis', 6), ('Candida Urinary Tract Infection', 6), ('amilial Mediterranean Feve', 6), ('Iritis', 6), ('Anemia Associated with Chronic Renal Failure', 6), ('Herpes Simplex, Mucocutaneous/Immunocompromised Host', 6), ('Dumping Syndrome', 6), ('Endometrial Hyperplasia', 6), ('Dermatophytosis', 6), ('Hepatocellular Carcinoma', 6), ('Thrombocythemia', 6), ('Gingivitis', 6), ('Dietary Fiber Supplementation', 6), ('Nephrotic Syndrome', 6), ('Herpes Zoster, Prophylaxis', 6), (\"Still's Disease\", 6), ('Glioblastoma Multi', 6), ('Anaplastic Oligodendroglioma', 5), ('Spondyloarthritis', 5), ('Glioblastoma Multiforme', 5), ('Cance', 5), ('Endometrial Hyperplasia, Prophylaxis', 5), ('Sarcoidosis', 5), ('Hypokalemia', 5), ('Pupillary Dilation', 5), ('27</span> users found this comment helpful.', 5), ('Herpes Simplex Dendritic Keratitis', 5), (\"Reiter's Syndrome\", 5), ('Cardiovascular Risk Reduction', 5), ('Transient Ischemic Attack', 5), ('Leukemia', 5), ('mis', 5), ('Peptic Ulce', 5), ('Ear Wax Impaction', 5), ('41</span> users found this comment helpful.', 5), ('AIDS Related Wasting', 5), ('Primary Hyperaldosteronism', 5), (\"Turner's Syndrome\", 5), ('Glaucoma/Intraocular Hypertension', 5), ('Peripheral Arterial Disease', 5), ('CMV Prophylaxis', 5), ('Primary Nocturnal Enuresis', 5), ('Mild Cognitive Impairment', 5), ('Gonococcal Infection, Uncomplicated', 5), ('min / pioglitazone)', 5), ('Gout, Prophylaxis', 5), ('Prevention of Atherothrombotic Events', 5), ('Auditory Processing Disorde', 5), ('Varicella-Zoste', 5), ('Pulmonary Embolism, First Event', 5), ('Cyclothymic Disorde', 5), ('SIADH', 5), ('33</span> users found this comment helpful.', 5), ('29</span> users found this comment helpful.', 5), ('Melanoma', 5), ('Pe', 5), ('Ventricular Fibrillation', 5), ('Pre-Exposure Prophylaxis', 5), ('Periodontitis', 5), ('Hypercalcemia of Malignancy', 5), ('36</span> users found this comment helpful.', 5), ('Head Injury', 5), ('Acute Lymphoblastic Leukemia', 4), ('Anemia, Sickle Cell', 4), ('Reversal of Opioid Sedation', 4), ('Paroxysmal Supraventricular Tachycardia', 4), ('Lymphocytic Colitis', 4), ('Noninfectious Colitis', 4), ('Nephrocalcinosis', 4), ('Pudendal Neuralgia', 4), ('Prosthetic Heart Valves, Mechanical Valves - Thrombosis Prophylaxis', 4), ('Granuloma Annulare', 4), ('Topical Disinfection', 4), ('Eosinophilic Esophagitis', 4), ('Enterocolitis', 4), ('Porphyria', 4), ('Anesthetic Adjunct', 4), ('Osteolytic Bone Lesions of Multiple Myeloma', 4), ('CNS Magnetic Resonance Imaging', 4), ('Gastritis/Duodenitis', 4), ('44</span> users found this comment helpful.', 4), ('Nausea/Vomiting, Radiation Induced', 4), ('ge HCT (amlodipine / hydrochlorothiazide / valsartan)', 4), ('Hypoglycemia', 4), ('Breast Cancer, Prevention', 4), ('ICU Agitation', 4), ('Peripheral T-cell Lymphoma', 4), ('Oral and Dental Conditions', 4), ('Ascariasis', 4), ('32</span> users found this comment helpful.', 4), ('Dementia', 4), ('Bullous Pemphigoid', 4), ('Deep Neck Infection', 4), ('cal Segmental Glomerulosclerosis', 4), ('Gastric Ulcer Maintenance Treatment', 4), ('Infection Prophylaxis', 4), ('24</span> users found this comment helpful.', 4), ('Mycobacterium avium-intracellulare, Treatment', 4), ('43</span> users found this comment helpful.', 4), ('Nonoccupational Exposure', 4), ('Alpha-1 Proteinase Inhibitor Deficiency', 4), ('Hypocalcemia', 4), ('STD Prophylaxis', 4), ('Warts', 3), ('Women (oxybutynin)', 3), ('28</span> users found this comment helpful.', 3), ('Cerebral Spasticity', 3), ('Endoscopy or Radiology Premedication', 3), ('Pseudomembranous Colitis', 3), ('Aphthous Ulce', 3), ('Lewy Body Dementia', 3), ('Neurosurgery', 3), ('Aspiration Pneumonia', 3), ('Dientamoeba fragilis', 3), ('Wolff-Parkinson-White Syndrome', 3), ('Ectopic Pregnancy', 3), ('Rhinorrhea', 3), ('Hemophilia A', 3), ('Autoimmune Hemolytic Anemia', 3), ('ailure to Thrive', 3), ('Anal Itching', 3), ('amilial Cold Autoinflammatory Syndrome', 3), ('Tuberculosis, Prophylaxis', 3), ('Esophageal Candidiasis', 3), ('Hyperekplexia', 3), ('Small Fiber Neuropathy', 3), ('Histoplasmosis', 3), ('31</span> users found this comment helpful.', 3), ('Chronic Inflammatory Demyelinating Polyradiculoneuropathy', 3), ('Antiphospholipid Syndrome', 3), ('Thromboembolic Stroke Prophylaxis', 3), ('Rejection Prophylaxis', 3), ('Acute Promyelocytic Leukemia', 3), ('Varicose Veins', 3), ('Hyperkalemia', 3), ('Ocular Rosacea', 3), ('Hidradenitis Suppurativa', 3), ('Severe Mood Dysregulation', 3), ('Cutaneous T-cell Lymphoma', 3), ('Small Bowel Bacterial Overgrowth', 3), ('Sunburn', 3), ('Squamous Cell Carcinoma', 3), ('actor IX Deficiency', 3), ('Esophageal Variceal Hemorrhage Prophylaxis', 3), ('Anorexia/Feeding Problems', 3), ('Peritonitis', 3), ('Gender Dysphoria', 3), ('Pemphigus', 3), ('Amebiasis', 3), ('39</span> users found this comment helpful.', 3), ('Oligospermia', 3), ('Anaplastic Astrocytoma', 3), (\"Dupuytren's contracture\", 3), ('Meningitis', 3), ('Uterine Bleeding', 3), ('Stress Ulcer Prophylaxis', 3), ('Anemia, Chemotherapy Induced', 3), ('142</span> users found this comment helpful.', 2), ('Schistosoma japonicum', 2), ('Urinary Retention', 2), ('Avian Influenza', 2), ('Muscle Twitching', 2), ('Gaucher Disease', 2), ('75</span> users found this comment helpful.', 2), ('35</span> users found this comment helpful.', 2), ('Prosthetic Heart Valves, Tissue Valves - Thrombosis Prophylaxis', 2), ('Babesiosis', 2), ('Liver Magnetic Resonance Imaging', 2), ('t Pac with Cyclobenzaprine (cyclobenzaprine)', 2), ('Intermittent Explosive Disorde', 2), ('Tic Disorde', 2), ('tic (mycophenolic acid)', 2), ('Malignant Glioma', 2), ('Systemic Sclerosis', 2), ('Vitamin K Deficiency', 2), ('Neurosis', 2), ('Deep Vein Thrombosis Prophylaxis after Hip Replacement Surgery', 2), ('Toothache', 2), ('Deep Vein Thrombosis Prophylaxis after Knee Replacement Surgery', 2), ('Typhoid Feve', 2), ('Tardive Dyskinesia', 2), ('Ichthyosis', 2), ('Niacin Deficiency', 2), ('Eyelash Hypotrichosis', 2), ('Renal Transplant', 2), ('min / rosiglitazone)', 2), (\"Peyronie's Disease\", 2), ('Submental Fullness', 2), ('Croup', 2), ('85</span> users found this comment helpful.', 2), ('Hyperlipoproteinemia Type IV, Elevated VLDL', 2), ('Abdominal Distension', 2), ('Salivary Gland Cance', 2), ('46</span> users found this comment helpful.', 2), ('Hypomagnesemia', 2), ('Hairy Cell Leukemia', 2), ('Tetanus', 2), ('Pathological Hypersecretory Conditions', 2), ('Platelet Aggregation Inhibition', 2), ('Sleep Paralysis', 2), ('Delayed Puberty, Male', 2), ('Mononucleosis', 2), ('Angioedema', 2), ('Myxedema Coma', 2), ('22</span> users found this comment helpful.', 2), ('Neck Pain', 2), ('Thrombocytopenia', 2), ('Cholera', 2), ('45</span> users found this comment helpful.', 2), ('Nonalcoholic Fatty Liver Disease', 2), ('Anthrax', 2), ('Body Imaging', 2), ('Aggressive Behavi', 2), ('Hepatic Tum', 2), ('Anaphylaxis', 2), ('Pertussis', 2), ('Pityriasis rubra pilaris', 2), ('t Care', 2), ('55</span> users found this comment helpful.', 2), ('Hypotension', 2), (\"Paget's Disease\", 2), ('Gastrointestinal Decontamination', 2), ('Mixed Connective Tissue Disease', 2), ('Campylobacter Gastroenteritis', 2), ('Hyperphosphatemia', 2), ('Euvolemic Hyponatremia', 2), ('Breast Cancer, Palliative', 2), ('Skin Disinfection, Preoperative', 2), ('Percutaneous Coronary Intervention', 2), ('Chronic Eosinophilic Leukemia', 2), ('Duodenal Ulcer Prophylaxis', 2), ('Solid Tumors', 2), ('Schnitzler Syndrome', 2), ('Nocardiosis', 2), ('42</span> users found this comment helpful.', 2), ('Gonococcal Infection, Disseminated', 2), ('99</span> users found this comment helpful.', 2), ('74</span> users found this comment helpful.', 2), ('Testicular Cance', 2), ('Hyperparathyroidism Secondary to Renal Impairment', 2), ('Cutaneous Larva Migrans', 2), ('Blepharitis', 2), ('Leukocytoclastic Vasculitis', 2), ('Coronary Artery Disease', 2), ('Dermatitis Herpetiformis', 1), ('94</span> users found this comment helpful.', 1), ('Hemangioma', 1), ('Thyroid Suppression Test', 1), ('54</span> users found this comment helpful.', 1), ('Amyotrophic Lateral Sclerosis', 1), ('Giant Cell Tumor of Bone', 1), ('79</span> users found this comment helpful.', 1), ('Dissociative Identity Disorde', 1), ('Epicondylitis, Tennis Elbow', 1), ('Hypodermoclysis', 1), ('Dermatitis Herpeti', 1), ('Secondary Cutaneous Bacterial Infections', 1), ('Syringomyelia', 1), ('Hyperuricemia Secondary to Chemotherapy', 1), ('Systemic Candidiasis', 1), ('Klinefelter Syndrome', 1), ('Strongyloidiasis', 1), ('Portal Hypertension', 1), ('m Pain Disorde', 1), ('Pseudogout, Prophylaxis', 1), ('64</span> users found this comment helpful.', 1), ('Neuritis', 1), ('146</span> users found this comment helpful.', 1), (\"Dercum's Disease\", 1), ('Q Feve', 1), ('Schilling Test', 1), ('110</span> users found this comment helpful.', 1), ('llicular Lymphoma', 1), ('Radionuclide Myocardial Perfusion Study', 1), ('Primary Hyperaldosteronism Diagnosis', 1), ('Postpartum Breast Pain', 1), ('Women (minoxidil)', 1), ('Ventricular Arrhythmia', 1), ('Asystole', 1), ('Bartonellosis', 1), ('Hypokalemic Periodic Paralysis', 1), ('Cachexia', 1), ('48</span> users found this comment helpful.', 1), ('Transverse Myelitis', 1), ('Parkinsonism', 1), ('Thyrotoxicosis', 1), ('30</span> users found this comment helpful.', 1), ('Epididymitis, Sexually Transmitted', 1), ('63</span> users found this comment helpful.', 1), ('AV Heart Block', 1), (\"Wilson's Disease\", 1), ('34</span> users found this comment helpful.', 1), ('Sepsis', 1), ('Ehrlichiosis', 1), ('Hypopituitarism', 1), ('Infectious Diarrhea', 1), ('Multiple Endocrine Adenomas', 1), ('Postoperative Increased Intraocular Pressure', 1), ('Pruritus of Partial Biliary Obstruction', 1), ('Meningitis, Meningococcal', 1), ('Parkinsonian Trem', 1), ('Rabies Prophylaxis', 1), ('Myelofibrosis', 1), ('98</span> users found this comment helpful.', 1), ('Somatoform Pain Disorde', 1), ('Esophageal Spasm', 1), ('Wound Cleansing', 1), ('Gallbladder Disease', 1), ('84</span> users found this comment helpful.', 1), ('Oppositional Defiant Disorde', 1), ('Legionella Pneumonia', 1), ('Hydrocephalus', 1), ('Hyperlipoproteinemia Type III, Elevated beta-VLDL   IDL', 1), ('40</span> users found this comment helpful.', 1), ('Mumps Prophylaxis', 1), ('Hyperbilirubinemia', 1), ('Corneal Ulce', 1), ('acial Lipoatrophy', 1), ('Hepatitis B Prevention', 1), ('Tuberculosis, Active', 1), ('Cerebrovascular Insufficiency', 1), ('Anti NMDA Receptor Encephalitis', 1), ('72</span> users found this comment helpful.', 1), ('Gonadotropin Inhibition', 1), ('unctional Gastric Disorde', 1), ('Acetaminophen Overdose', 1), ('Paragonimus westermani, Lung Fluke', 1), (\"Cogan's Syndrome\", 1), ('Stomach Cance', 1), ('Sporotrichosis', 1), ('Cluster-Tic Syndrome', 1), ('Gestational Diabetes', 1), ('Reversal of Nondepolarizing Muscle Relaxants', 1), ('mist (', 1), ('26</span> users found this comment helpful.', 1), ('Meningococcal Meningitis Prophylaxis', 1), ('Hemophilia B', 1), ('Microscopic polyangiitis', 1), ('Neurotic Depression', 1), ('Keratitis', 1), (\"Hodgkin's Lymphoma\", 1), ('me', 1), ('123</span> users found this comment helpful.', 1), ('Small Bowel or Pancreatic Fistula', 1), ('Prevention of Perinatal Group B Streptococcal Disease', 1), ('Cerebral Edema', 1), ('Short Stature for Age', 1), ('47</span> users found this comment helpful.', 1), ('Aspergillosis, Aspergilloma', 1), ('Pemphigoid', 1), ('76</span> users found this comment helpful.', 1), ('Ramsay Hunt Syndrome', 1), ('Occipital Neuralgia', 1), ('Patent Ductus Arteriosus', 1), ('Joint Infection', 1), ('77</span> users found this comment helpful.', 1), ('Manscaping Pain', 1), ('Strabismus', 1), ('Organ Transplant, Rejection Reversal', 1), ('Gastric Cance', 1), ('ibrocystic Breast Disease', 1), ('121</span> users found this comment helpful.', 1), ('ungal Infection Prophylaxis', 1), ('Short Stature', 1), ('Hypercalcemia', 1), ('Coccidioidomycosis', 1), ('Cyclitis', 1), ('Upper Limb Spasticity', 1), ('95</span> users found this comment helpful.', 1), ('61</span> users found this comment helpful.', 1), ('Diagnostic Bronchograms', 1), ('Neoplastic Diseases', 1), ('51</span> users found this comment helpful.', 1), ('Mycoplasma Pneumonia', 1), ('Linear IgA Disease', 1), ('Subarachnoid Hemorrhage', 1), ('Myeloproliferative Disorders', 1), ('ungal Pneumonia', 1), ('145</span> users found this comment helpful.', 1), ('Scleroderma', 1), ('Zollinger-Ellison Syndrome', 1), ('Tinea Barbae', 1), ('Acute Nonlymphocytic Leukemia', 1), ('62</span> users found this comment helpful.', 1), ('92</span> users found this comment helpful.', 1), ('Neutropenia', 1)]\n"
     ]
    }
   ],
   "source": [
    "\n",
    "from collections import Counter \n",
    "\n",
    "counter = Counter(df['condition'])\n",
    "\n",
    "conditions = counter.most_common()\n",
    "\n",
    "print(conditions)\n",
    "\n"
   ]
  },
  {
   "cell_type": "code",
   "execution_count": 73,
   "metadata": {},
   "outputs": [
    {
     "name": "stdout",
     "output_type": "stream",
     "text": [
      "['Alcoholism', 'Appendicitis', 'Celiac Disease', 'Cholecystitis', 'Cholelithiasis', 'Colonic Diverticulitis', 'Constipation', 'Endometriosis', 'Gastric Ulcer', 'Gastroenteritis', 'Gastroesophageal Reflux', 'Hernia', 'Inguinal Hernia', 'Irritable Bowel Syndrome', 'Ligament Sprain', 'Kidney Stone', 'Ovarian Cyst', 'Pancreatitis', 'Pancreas Inflammation', 'Pyelonephritis', 'Bladder Infection', 'Umbilical Hernia', 'Lactose Intolerance', 'Diverticulosis', 'Ventral Hernia']\n"
     ]
    }
   ],
   "source": [
    "conlist = []\n",
    "reslist= []\n",
    "for i in range(0,len(conditions)):\n",
    "    conlist.append(conditions[i][0])\n",
    "\n",
    "for i in range(0,len(result)):\n",
    "    reslist.append(result[i][0][0])\n",
    "\n",
    "print(reslist)"
   ]
  },
  {
   "cell_type": "code",
   "execution_count": 74,
   "metadata": {},
   "outputs": [
    {
     "name": "stdout",
     "output_type": "stream",
     "text": [
      "[(('Alcoholism', 25.0), 0.6666666666666666), (('Appendicitis', 56.0), 0.6666666666666666), (('Celiac Disease', 139.0), 0.6666666666666666), (('Cholecystitis', 163.0), 0.6666666666666666), (('Cholelithiasis', 165.0), 0.6666666666666666), (('Colonic Diverticulitis', 179.0), 0.6666666666666666), (('Constipation', 187.0), 0.6666666666666666), (('Endometriosis', 241.0), 0.6666666666666666), (('Gastric Ulcer', 306.0), 0.6666666666666666), (('Gastroenteritis', 308.0), 0.6666666666666666), (('Gastroesophageal Reflux', 309.0), 0.6666666666666666), (('Hernia', 349.0), 0.6666666666666666), (('Inguinal Hernia', 388.0), 0.6666666666666666), (('Irritable Bowel Syndrome', 401.0), 0.6666666666666666), (('Ligament Sprain', 426.0), 0.6666666666666666), (('Kidney Stone', 513.0), 0.6666666666666666), (('Ovarian Cyst', 539.0), 0.6666666666666666), (('Pancreatitis', 546.0), 0.6666666666666666), (('Pancreas Inflammation', 547.0), 0.6666666666666666), (('Pyelonephritis', 637.0), 0.6666666666666666), (('Bladder Infection', 793.0), 0.6666666666666666), (('Umbilical Hernia', 939.0), 0.6666666666666666), (('Lactose Intolerance', 988.0), 0.6666666666666666), (('Diverticulosis', 991.0), 0.6666666666666666), (('Ventral Hernia', 1115.0), 0.6666666666666666)]\n"
     ]
    }
   ],
   "source": [
    "print(result)"
   ]
  },
  {
   "cell_type": "code",
   "execution_count": 76,
   "metadata": {},
   "outputs": [
    {
     "name": "stdout",
     "output_type": "stream",
     "text": [
      "[['Alcohol Withdrawal', 57, 0], ['Sarcoidosis', 57, 0], ['Tendonitis', 64, 1], ['Meningitis', 64, 1], [\"Behcet's Disease\", 67, 2], ['Hepatitis C', 67, 3], ['Ichthyosis', 58, 4], ['Diverticulitis', 78, 5], ['Constipation', 100, 6], ['Endometriosis', 100, 7], ['Peptic Ulce', 67, 8], ['Gastroenteritis', 100, 9], ['Esophageal Spasm', 56, 10], ['Hypersomnia', 71, 11], ['Trigeminal Neuralgia', 63, 12], ['Irritable Bowel Syndrome', 100, 13], ['Light Sedation', 62, 14], ['Indigestion', 61, 15], ['Ovarian Cysts', 96, 16], ['Chronic Pancreatitis', 75, 17], ['Vaginal Yeast Infection', 59, 18], ['Postoperative Ocular Inflammation', 59, 18], ['Blepharitis', 72, 19], ['Bladder Infection', 100, 20], ['Head Lice', 56, 21], ['Local Anesthesia', 56, 21], ['Lactose Intolerance', 100, 22], ['Diverticulitis', 86, 23], ['Ventricular Tachycardia', 59, 24]]\n"
     ]
    }
   ],
   "source": [
    "from fuzzywuzzy import fuzz\n",
    "\n",
    "\n",
    "\n",
    "conlist = [i for i in conlist if type(i) is not float]\n",
    "\n",
    "\n",
    "val = []\n",
    "finallist = []\n",
    "finallistindex  = []\n",
    "for x in range(0,len(reslist)):\n",
    "    val= []\n",
    "    for y in range(0,len(conlist)):\n",
    "        val.append(fuzz.token_sort_ratio(reslist[x],conlist[y]))\n",
    "    values = np.array(val)\n",
    "    searchval = max(val)\n",
    "    ii = np.where(values == searchval)[0]\n",
    "    for n in ii:\n",
    "        finallist.append([conlist[n],val[n],x])\n",
    "        \n",
    "        \n",
    "        \n",
    "        \n",
    "        \n",
    "print(finallist)        "
   ]
  },
  {
   "cell_type": "code",
   "execution_count": 77,
   "metadata": {},
   "outputs": [],
   "source": [
    "from fuzzywuzzy import fuzz\n",
    "\n",
    "\n",
    "def datatrsf(diseases, newconlist):\n",
    "    reslist=[]\n",
    "    for i in range(0,len(diseases)):\n",
    "        reslist.append(diseases[i][0][0])\n",
    "    \n",
    "    \n",
    "    \n",
    "    val = []\n",
    "    finallist = []\n",
    "    finallistindex  = []\n",
    "    for x in range(0,len(reslist)):\n",
    "        val= []\n",
    "        for y in range(0,len(newconlist)):\n",
    "            val.append(fuzz.partial_ratio(reslist[x],newconlist[y]))\n",
    "        values = np.array(val)\n",
    "        searchval = max(val)\n",
    "        ii = np.where(values == searchval)[0]\n",
    "        for n in ii:\n",
    "            finallist.append([newconlist[n],val[n],x])\n",
    "\n",
    "    return finallist        "
   ]
  },
  {
   "cell_type": "code",
   "execution_count": 85,
   "metadata": {
    "scrolled": true
   },
   "outputs": [
    {
     "name": "stdout",
     "output_type": "stream",
     "text": [
      "[['Alcohol Withdrawal', 80, 0], ['Meningitis', 74, 1], ['Inflammatory Bowel Disease', 80, 2], ['Post-Cholecystectomy Diarrhea', 77, 3], ['Cholera', 71, 4], ['Diverticulitis', 100, 5], ['Constipation', 100, 6], ['Constipation, Chronic', 100, 6], ['Constipation, Drug Induced', 100, 6], ['Chronic Idiopathic Constipation', 100, 6], ['Opioid-Induced Constipation', 100, 6], ['Constipation, Acute', 100, 6], ['Endometriosis', 100, 7], ['me', 100, 7], ['Gas', 100, 8], ['Gastric Ulcer Maintenance Treatment', 100, 8], ['Gastroenteritis', 100, 9], ['Gas', 100, 9], ['Campylobacter Gastroenteritis', 100, 9], ['Gas', 100, 10], ['Schizophrenia', 73, 11], ['Otitis Externa', 73, 11], ['Thrombocytopenia', 73, 11], ['Angina', 83, 12], ['Irritable Bowel Syndrome', 100, 13], ['me', 100, 13], ['me', 100, 14], ['Kidney Infections', 75, 15], ['Ovarian Cysts', 100, 16], ['Chronic Pancreatitis', 100, 17], ['Cance', 80, 18], ['Iritis', 83, 19], ['Bladder Infection', 100, 20], ['Hypersomnia', 71, 21], ['Lactose Intolerance', 100, 22], ['Diverticulitis', 86, 23], ['Hypersomnia', 71, 24]]\n"
     ]
    }
   ],
   "source": [
    "from collections import Counter \n",
    "\n",
    "counter = Counter(df['condition'])\n",
    "\n",
    "conditions = counter.most_common()\n",
    "\n",
    "\n",
    "\n",
    "conlist = []\n",
    "for i in range(0,len(conditions)):\n",
    "    conlist.append(conditions[i][0])\n",
    "\n",
    "\n",
    "conlist = [i for i in conlist if type(i) is not float]\n",
    "\n",
    "finaloutput = datatrsf(result, conlist)\n",
    "\n",
    "\n",
    "print(finaloutput)\n"
   ]
  },
  {
   "cell_type": "code",
   "execution_count": 93,
   "metadata": {
    "scrolled": true
   },
   "outputs": [
    {
     "data": {
      "text/plain": [
       "['Alcoholism',\n",
       " 'Appendicitis',\n",
       " 'Celiac Disease',\n",
       " 'Cholecystitis',\n",
       " 'Cholelithiasis',\n",
       " 'Colonic Diverticulitis',\n",
       " 'Constipation',\n",
       " 'Endometriosis',\n",
       " 'Gastric Ulcer',\n",
       " 'Gastroenteritis',\n",
       " 'Gastroesophageal Reflux',\n",
       " 'Hernia',\n",
       " 'Inguinal Hernia',\n",
       " 'Irritable Bowel Syndrome',\n",
       " 'Ligament Sprain',\n",
       " 'Kidney Stone',\n",
       " 'Ovarian Cyst',\n",
       " 'Pancreatitis',\n",
       " 'Pancreas Inflammation',\n",
       " 'Pyelonephritis',\n",
       " 'Bladder Infection',\n",
       " 'Umbilical Hernia',\n",
       " 'Lactose Intolerance',\n",
       " 'Diverticulosis',\n",
       " 'Ventral Hernia']"
      ]
     },
     "execution_count": 93,
     "metadata": {},
     "output_type": "execute_result"
    }
   ],
   "source": [
    "reslist"
   ]
  },
  {
   "cell_type": "code",
   "execution_count": 96,
   "metadata": {
    "scrolled": true
   },
   "outputs": [
    {
     "data": {
      "text/plain": [
       "[['Diverticulitis', 100, 5],\n",
       " ['Constipation', 100, 6],\n",
       " ['Constipation, Chronic', 100, 6],\n",
       " ['Constipation, Acute', 100, 6],\n",
       " ['Endometriosis', 100, 7],\n",
       " ['Gastroenteritis', 100, 9],\n",
       " ['Campylobacter Gastroenteritis', 100, 9],\n",
       " ['Irritable Bowel Syndrome', 100, 13],\n",
       " ['Kidney Infections', 75, 15],\n",
       " ['Ovarian Cysts', 100, 16],\n",
       " ['Chronic Pancreatitis', 100, 17],\n",
       " ['Bladder Infection', 100, 20],\n",
       " ['Lactose Intolerance', 100, 22],\n",
       " ['Diverticulitis', 86, 23]]"
      ]
     },
     "execution_count": 96,
     "metadata": {},
     "output_type": "execute_result"
    }
   ],
   "source": [
    "\n",
    "display = []\n",
    "if(len(reslist)>5):\n",
    "    for p in range(0,len(finaloutput)):\n",
    "        constr = finaloutput[p][0]\n",
    "        if(fuzz.ratio(constr , reslist[finaloutput[p][2]])>65):\n",
    "            display.append(finaloutput[p])\n",
    "            \n",
    "if(len(display)<3):\n",
    "    display = finaloutput\n",
    "        \n",
    "        \n",
    "\n",
    "    \n"
   ]
  },
  {
   "cell_type": "code",
   "execution_count": 97,
   "metadata": {},
   "outputs": [
    {
     "data": {
      "text/plain": [
       "[(('Alcoholism', 25.0), 0.6666666666666666),\n",
       " (('Appendicitis', 56.0), 0.6666666666666666),\n",
       " (('Celiac Disease', 139.0), 0.6666666666666666),\n",
       " (('Cholecystitis', 163.0), 0.6666666666666666),\n",
       " (('Cholelithiasis', 165.0), 0.6666666666666666),\n",
       " (('Colonic Diverticulitis', 179.0), 0.6666666666666666),\n",
       " (('Constipation', 187.0), 0.6666666666666666),\n",
       " (('Endometriosis', 241.0), 0.6666666666666666),\n",
       " (('Gastric Ulcer', 306.0), 0.6666666666666666),\n",
       " (('Gastroenteritis', 308.0), 0.6666666666666666),\n",
       " (('Gastroesophageal Reflux', 309.0), 0.6666666666666666),\n",
       " (('Hernia', 349.0), 0.6666666666666666),\n",
       " (('Inguinal Hernia', 388.0), 0.6666666666666666),\n",
       " (('Irritable Bowel Syndrome', 401.0), 0.6666666666666666),\n",
       " (('Ligament Sprain', 426.0), 0.6666666666666666),\n",
       " (('Kidney Stone', 513.0), 0.6666666666666666),\n",
       " (('Ovarian Cyst', 539.0), 0.6666666666666666),\n",
       " (('Pancreatitis', 546.0), 0.6666666666666666),\n",
       " (('Pancreas Inflammation', 547.0), 0.6666666666666666),\n",
       " (('Pyelonephritis', 637.0), 0.6666666666666666),\n",
       " (('Bladder Infection', 793.0), 0.6666666666666666),\n",
       " (('Umbilical Hernia', 939.0), 0.6666666666666666),\n",
       " (('Lactose Intolerance', 988.0), 0.6666666666666666),\n",
       " (('Diverticulosis', 991.0), 0.6666666666666666),\n",
       " (('Ventral Hernia', 1115.0), 0.6666666666666666)]"
      ]
     },
     "execution_count": 97,
     "metadata": {},
     "output_type": "execute_result"
    }
   ],
   "source": [
    "result"
   ]
  },
  {
   "cell_type": "code",
   "execution_count": 98,
   "metadata": {},
   "outputs": [
    {
     "ename": "TypeError",
     "evalue": "list indices must be integers or slices, not list",
     "output_type": "error",
     "traceback": [
      "\u001b[1;31m---------------------------------------------------------------------------\u001b[0m",
      "\u001b[1;31mTypeError\u001b[0m                                 Traceback (most recent call last)",
      "\u001b[1;32m<ipython-input-98-ada3c574dc78>\u001b[0m in \u001b[0;36m<module>\u001b[1;34m\u001b[0m\n\u001b[0;32m      4\u001b[0m \u001b[1;32mfor\u001b[0m \u001b[0mp\u001b[0m \u001b[1;32min\u001b[0m \u001b[0mrange\u001b[0m\u001b[1;33m(\u001b[0m\u001b[1;36m0\u001b[0m\u001b[1;33m,\u001b[0m\u001b[0mlen\u001b[0m\u001b[1;33m(\u001b[0m\u001b[0mdisplay\u001b[0m\u001b[1;33m)\u001b[0m\u001b[1;33m)\u001b[0m\u001b[1;33m:\u001b[0m\u001b[1;33m\u001b[0m\u001b[1;33m\u001b[0m\u001b[0m\n\u001b[0;32m      5\u001b[0m \u001b[1;33m\u001b[0m\u001b[0m\n\u001b[1;32m----> 6\u001b[1;33m     \u001b[0mdisplay\u001b[0m\u001b[1;33m[\u001b[0m\u001b[0mp\u001b[0m\u001b[1;33m]\u001b[0m\u001b[1;33m.\u001b[0m\u001b[0mappend\u001b[0m\u001b[1;33m(\u001b[0m\u001b[0mresult\u001b[0m\u001b[1;33m[\u001b[0m\u001b[0mdisplay\u001b[0m\u001b[1;33m[\u001b[0m\u001b[1;36m2\u001b[0m\u001b[1;33m]\u001b[0m\u001b[1;33m]\u001b[0m\u001b[1;33m[\u001b[0m\u001b[1;36m1\u001b[0m\u001b[1;33m]\u001b[0m\u001b[1;33m)\u001b[0m\u001b[1;33m\u001b[0m\u001b[1;33m\u001b[0m\u001b[0m\n\u001b[0m\u001b[0;32m      7\u001b[0m \u001b[1;33m\u001b[0m\u001b[0m\n\u001b[0;32m      8\u001b[0m \u001b[1;33m\u001b[0m\u001b[0m\n",
      "\u001b[1;31mTypeError\u001b[0m: list indices must be integers or slices, not list"
     ]
    }
   ],
   "source": [
    "# druglist = conditions\n",
    "# cleanedList = [i for i in druglist[0] if type(i) is str]\n",
    "# print(fuzz.partial_ratio(result[0][0][0],cleanedList[36]))\n",
    "for p in range(0,len(display)):\n",
    "    \n",
    "    display[p].append(result[display[2]][1])\n",
    "    \n",
    "    "
   ]
  },
  {
   "cell_type": "code",
   "execution_count": 101,
   "metadata": {
    "scrolled": true
   },
   "outputs": [
    {
     "ename": "TypeError",
     "evalue": "list indices must be integers or slices, not list",
     "output_type": "error",
     "traceback": [
      "\u001b[1;31m---------------------------------------------------------------------------\u001b[0m",
      "\u001b[1;31mTypeError\u001b[0m                                 Traceback (most recent call last)",
      "\u001b[1;32m<ipython-input-101-4cae11faae7f>\u001b[0m in \u001b[0;36m<module>\u001b[1;34m\u001b[0m\n\u001b[0;32m      1\u001b[0m \u001b[0mresult\u001b[0m \u001b[1;33m=\u001b[0m \u001b[0mlist\u001b[0m\u001b[1;33m(\u001b[0m\u001b[0mresult\u001b[0m\u001b[1;33m)\u001b[0m\u001b[1;33m\u001b[0m\u001b[1;33m\u001b[0m\u001b[0m\n\u001b[0;32m      2\u001b[0m \u001b[0mdisplay\u001b[0m \u001b[1;33m=\u001b[0m \u001b[0mlist\u001b[0m\u001b[1;33m(\u001b[0m\u001b[0mdisplay\u001b[0m\u001b[1;33m)\u001b[0m\u001b[1;33m\u001b[0m\u001b[1;33m\u001b[0m\u001b[0m\n\u001b[1;32m----> 3\u001b[1;33m \u001b[0mresult\u001b[0m\u001b[1;33m[\u001b[0m\u001b[0mdisplay\u001b[0m\u001b[1;33m[\u001b[0m\u001b[1;36m2\u001b[0m\u001b[1;33m]\u001b[0m\u001b[1;33m]\u001b[0m\u001b[1;33m[\u001b[0m\u001b[1;36m1\u001b[0m\u001b[1;33m]\u001b[0m\u001b[1;33m\u001b[0m\u001b[1;33m\u001b[0m\u001b[0m\n\u001b[0m\u001b[0;32m      4\u001b[0m \u001b[1;33m\u001b[0m\u001b[0m\n",
      "\u001b[1;31mTypeError\u001b[0m: list indices must be integers or slices, not list"
     ]
    }
   ],
   "source": [
    "result = list(result)\n",
    "display = list(display)\n",
    "result[display[2]][1]\n",
    "\n"
   ]
  },
  {
   "cell_type": "code",
   "execution_count": null,
   "metadata": {},
   "outputs": [],
   "source": []
  },
  {
   "cell_type": "code",
   "execution_count": null,
   "metadata": {},
   "outputs": [],
   "source": []
  },
  {
   "cell_type": "markdown",
   "metadata": {},
   "source": [
    "  "
   ]
  },
  {
   "cell_type": "code",
   "execution_count": null,
   "metadata": {},
   "outputs": [],
   "source": []
  },
  {
   "cell_type": "code",
   "execution_count": null,
   "metadata": {},
   "outputs": [],
   "source": []
  },
  {
   "cell_type": "code",
   "execution_count": null,
   "metadata": {},
   "outputs": [],
   "source": []
  },
  {
   "cell_type": "code",
   "execution_count": null,
   "metadata": {},
   "outputs": [],
   "source": [
    "\n",
    "\n"
   ]
  },
  {
   "cell_type": "code",
   "execution_count": null,
   "metadata": {},
   "outputs": [],
   "source": []
  },
  {
   "cell_type": "code",
   "execution_count": 127,
   "metadata": {},
   "outputs": [
    {
     "name": "stdout",
     "output_type": "stream",
     "text": [
      "['Abdominal aortic aneurysm (enlarged major blood vessel)', 'Abdominal swelling', 'Abdominal trauma', 'Abrasions  (scrapes)', 'ACE inhibitor induced cough blood pressure medication side effect Drug-induced cough Drug reaction: ACE inhibitor', 'acetaminophen overdose Adverse reaction to acetaminophen', 'Tylenol  acetaminophen poisoning', 'Achilles tendonitis  (heel tendon inflammation)', 'Achilles tendon rupture (heel tendon tear)', 'Acid  LSD abuse', 'Acidosis  (excessive acid in the body)', 'Acoustic neuroma (ear nerve tumor)', 'AC joint separation acromioclavicular joint separation closed separation of acromioclavicular joint', 'Acute angle closure glaucoma increased inner eye pressure', 'Acute fatty liver of pregnancy', 'Adenoiditis (a type of lymph node inflammation)', 'Adenovirus infection  (virus infection)', 'Frozen shoulder  (adhesive capsulitis of shoulder)', 'Adjustment disorder  (poor adjustment to life stressor)', 'Alcohol  ethanol intoxication', 'Alcohol  ethanol abuse', 'Alcohol  ethanol poisoning  (overdose)', 'Alcohol withdrawal syndrome  (mild)', 'Alcoholism', 'Allergic reaction', 'Allergic rhinitis  (allergic reaction in the nose)', 'Allergy', 'Confusion  (altered mental status)', 'Altered mental status confusion', 'Altitude illness Illnesses due to high altitude effects', 'Amebiasis ameba infection', 'Amphetamine abuse', 'Amphetamine overdose', 'Anal fissure  (tear)', 'Anaphylactoid reactions  (pseudo allergic reaction)', 'Anaphylaxis (severe/life threatening allergic reaction)', 'Anemia  (low red blood cell count)', 'Ankle laceration  (cut in skin)', 'Ankle swelling', 'Ankylosing spondylitis  (severe spine arthritis)', 'Anopheles mosquito bite', 'Anorectal abscess (perirectal) abscess', 'Anorexia (eating disorder)', 'Anorexia nervosa  (eating disorder)', 'Ant bite', 'Anticholinergic drug overdose', 'Antidepressant overdose', 'Anxiety', 'Anxiety disorder generalized anxiety disorder GAD', 'Aortic valve stenosis tight heart valve', 'Aphthous ulcers mouth stomatitis', 'Aplastic anemia bone marrow failure', 'Appendicitis', 'Arm laceration skin cut', 'Arm swelling', 'Arrhythmia abnormal heart rhythm', 'Arteriovenous malformation blood vessel abnormality, AVM', 'Arthritis joint inflammation', 'Aseptic joint effusion fluid in a joint Effusion of joint', 'Aseptic necrosis of bone bone death and destruction', 'Aspirin salicylates overdose', 'Asthma', 'Atopic dermatitis eczema', 'Atrial fibrillation irregular heart rate', 'Atrioventricular node conduction block heart block', 'Atypical pneumonia lung infection', 'Autoimmune conditions', 'Autoimmune disease', 'Avulsions forcible tissue detachment', 'Back trauma injury', 'Bacterial dysentery bacterial infection of the intestines', 'Bacterial infection', 'Bacterial overgrowth of small intestine Bacterial Overgrowth Syndrome', 'Bacterial vaginosis vaginal infection', \"Baker's cyst fluid sac behind knee\", 'Balanitis penis swelling', \"Barrett's esophagus esophagus inflammation\", 'Bartholin abscess or cyst sac of pus near the vaginal opening', 'Basilar artery migraine headache', 'Basilar skull fracture broken skull', 'Beta blocker overdose blood pressure medication overdose', 'Behcet\\x92s disease small blood vessel inflammation disorder', 'Bee sting wasp sting', \"Bell's palsy facial muscle weakness\", 'Benign positional vertigo sensation of spinning', 'Benign prostatic hyperplasia prostate enlargement', 'Benzodiazepine Valium abuse', 'Benzodiazepine Valium overdose', 'Bipolar disorder manic depressive disorder', 'Black widow spider bite', 'Bladder cancer', 'Bladder stone, urinary', 'Bleeding tendency bleeding disorder', 'Blepharitis eyelid swelling', 'Blood loss', 'Body dysmorphic disorder body appearance obsession', 'Bone metastases cancer spread to bone', 'Botulism bacterial toxin causing muscle weakness', 'Bradycardia slow heart rate', 'Brain abscess collection of pus in the brain', 'Brain tumor cancer of the brain', 'Breast abscess collection of pus in the breast', 'Breast cancer tumor', 'Breast fat necrosis dead breast fat', 'Breast fibroadenoma benign breast lumps', 'Bronchial asthma', 'Bronchiectasis bronchial tube inflammatory damage', 'Bronchiolitis bronchial tube inflammation', 'Bronchitis bronchial tube infection', 'Brown recluse spider bite', 'Bulimia nervosa binge eating, vomiting', 'Burkitt lymphoma lymph node tumor', 'Burning mouth syndrome', 'Burns', 'Bursitis inflammation of joint cushion', 'Caffeine use', 'Calcium channel blocker overdose blood pressure medication overdose', 'Calluses and corns', 'Campylobacter infection intestinal bacterial infection', 'Cancer tumor', 'Candida albicans yeast infection', 'Carbon monoxide poisoning odorless, poisonous gas', 'Cardiac arrhythmia abnormal heart rate', 'Cardiomyopathy weakened heart', 'Carotid artery dissection neck artery tear', 'Carotid cavernous fistula abnormal blood vessel communication', 'Carpal tunnel syndrome wrist nerve compression', 'Spinal cord compression cauda equina syndrome', 'Cavernous sinus aneurysm head vein dilation', 'Cavernous sinus thrombosis head vein blood clot', 'Cavernous sinus tumor head vein cancer', 'Cavity tooth caries', 'Celiac disease celiac sprue', 'Cellulitis skin infection', 'Cerebellar hemorrhage bleeding in back of brain', 'Cerebellar syndrome loss of coordination', 'Cerebral contusion bruise of brain', 'Cerebral palsy movement disorder', 'Cerebral vascular accident stroke', 'Cerebrospinal fluid rhinorrhea leakage of brain fluid from the nose', 'Cerumen impaction ear wax buildup', 'Cervical cancer tumor', 'Cervical lymphadenopathy enlarged neck lymph nodes', 'Cervical radiculopathy pinched nerve in neck', 'Cervical spine fracture broken neck bone', 'Cervical spondylosis neck arthritis', 'Cervicitis inflammation of the lower uterus', 'Chagas disease trypanosomiasis', 'Chest trauma injury', 'Child abuse', 'Chlamydia trachomatis infection STD', 'Chlorine bleach ingestion', 'Cholangitis inflammation of the bile ducts', 'Cholecystitis inflammation of the gallbladder', 'Choledocholithiasis stone in bile duct', 'Cholelithiasis gallstones', 'Cholera intestinal bacterial infection', 'Cholesteatoma middle ear mass', 'Chronic fatigue syndrome CFS', 'Chronic liver disease', 'Chronic obstructive pulmonary disease COPD, emphysema', 'Chronic pain', 'Cirrhosis liver failure and scarring', 'Cluster headache one-sided headache behind the eye', 'Coarctation of aorta narrowing of the aorta', 'Cocaine abuse', 'Cocaine overdose', 'Colic prolonged infant crying episodes', 'Colitis large intestine inflammation', 'Colonic diverticulitis inflammation of pouches in the large intestine', 'Colon cancer large intestine tumor', 'Common cold upper respiratory infection', 'Common spider bite spider bite', 'Compartment syndrome increased pressure inside muscles', 'Concussion', 'Congestive heart failure CHF', 'Conjunctivitis pink eye', 'Constipation', 'Contact dermatitis contact skin irritation', 'Poison ivy poison oak, poison sumac', 'Contact urticaria hives', 'Contusion bruise, ecchymosis', 'Corneal abrasion scrape on eye', 'Corneal foreign body object in the eye', 'Coronary artery dissection heart artery tear', 'Costochondritis chest wall inflammation', 'Cough medicine abuse', \"Crohn's disease regional enteritis, Crohn's colitis, intestinal inflammation\", 'Cryptosporidium infection diarrheal parasite infection Infection by Cryptosporidium Cryptosporidiosis infection Infection by Cryptosporidium parvum', 'Cushing disease excessive pituitary gland hormones', 'Cutaneous larva migrans parasitic skin disease', 'Cystocele bladder hernia', 'Cytomegalovirus infection CMV viral infection', \"De Quervain's tenosynovitis hand tendon inflammation\", 'Deep venous thrombosis DVT, venous blood clot', 'Dehydration', 'Delirium tremens \\x93DTs\\x94, severe alcohol withdrawal', 'Dementia decline in mental ability', 'Dengue fever tropical mosquito borne illness', 'Dental abscess tooth infection', 'Dental eruption appearance of new tooth', 'Dentures', 'Depression excessive sadness', 'Diabetes high blood sugar', 'Diabetes mellitus type 2 elevated blood sugar', 'Diabetic ketoacidosis DKA, a complication of poorly controlled diabetes', 'Diffuse esophageal spasm painful contractions of the esophagus', 'Benadryl diphenhydramine overdose', 'Diphtheria infection bacterial respiratory infection', 'Discitis spinal disk inflammation', 'Dislocation joint out of place', 'Dissecting aortic aneurysm tearing and dilation of the aorta', 'Disseminated intravascular coagulation DIC, abnormality of blood clotting', 'Unisom overdose doxylamine overdose', 'Dressler syndrome heart sac inflammation following heart attack or heart surgery', 'Drug overuse Prescription Drug Overuse', 'Drug overdose', 'Drug reaction', 'Dry air nasal irritation', 'Dry socket pain after tooth removal', 'Dysfunctional uterine bleeding abnormal vaginal bleeding', 'E. coli infection Escherichia coli, bacterial infection', 'Ear laceration cut on the ear', 'Ear swelling', 'Eclampsia hypertensive disorder of pregnancy', 'Ecstasy MDMA abuse', 'Ectopic pregnancy tubal pregnancy', 'Elapid Elapid venom cobra, coral, mamba venom toxicity', 'Empyema collection of pus in chest', 'Encephalitis brain infection', 'Endometrial cancer cancer of the lining of the uterus', 'Endometriosis uterine tissue outside the uterus', 'Endometritis inflammation of the uterus', 'Enlarged lymph nodes lymphadenopathy', 'Entamoeba histolytica infection ameba infection Infection due to Entamoeba histolytica', 'Hypothermia extreme cold exposure', 'Hyperthermia extreme heat exposure', 'Epidermal cyst', 'Inflammation of testicular tubes epididymitis', 'Epidural abscess brain or spine pus collection', 'Epidural hematoma bleeding around brain or spine', 'Epiglottitis severe throat inflammation', 'Nose bleed epistaxis', 'Erythrasma chronic bacterial skin infection', 'Esophageal achalasia swallowing disease', 'Esophageal cancer tumor', 'Esophageal cyst', 'Esophageal foreign body', 'Esophageal rupture tear in esophagus', 'Esophageal spasm painful muscle contraction', 'Esophageal stricture narrowing of the esophagus', 'Esophageal varices dilation of esophageal veins', \"Esophageal web Schatzki's ring, constriction of esophagus\", 'Esophagitis esophageal inflammation', 'Essential hypertension high blood pressure', 'Estrogen withdrawal female hormone', 'Extremity trauma leg or arm injury', 'Eye trauma injury', 'Eyelid laceration skin cut', 'Eyelid swelling', 'Facial laceration skin cut', 'Facial trauma facial injury', 'Facial swelling', 'Fallen arches flat feet, pes planus', 'False pregnancy', 'Familial cold urticaria cold-related hives', 'Fat embolism blood clot from fat', 'Febrile fever illness', 'Febrile seizure convulsion in child with a fever', 'Fecal impaction rectal blockage from stool', 'Femoral artery aneurysm dilation of leg artery', 'Femoral hernia groin hernia', 'Fetal alcohol syndrome', 'Fever elevated temperature', 'Fibrocystic breasts breast lumpiness', 'Fibroid uterine muscle tumor', 'Fibromyalgia chronic pain disorder', 'Filariasis elephantiasis', 'Finger laceration skin cut', 'Finger pulp infection felon', 'Finger swelling', 'Foot laceration skin cut', 'Foot swelling', 'Foreign body object originating outside the body', 'Foreign body in the eye', 'Fracture broken bone', 'Functional disorders psychogenic illness', 'Fungal infections', 'Bacterial vaginosis BV, garnerella vaginalis', 'Gastric ulcer stomach ulcer', 'Gastritis stomach inflammation', 'Gastroenteritis intestinal infection', 'Gastroesophageal reflux GERD, heartburn', 'Gastrointestinal bleeding stomach, intestine bleeding', 'Genital herpes HSV type 2 infection', 'Genital warts HPV, Human papillomavirus infection', 'Gestational diabetes diabetes during pregnancy', 'Gestational hypertension high blood pressure in pregnancy', 'Giardiasis giardia infection', 'Gingivitis inflammation of the gums', 'Glaucoma elevated eye pressure', 'Goiter enlarged thyroid', 'Gout uric acid crystals in the joint causing inflammation', 'Guillain Barre syndrome ascending muscle weakness', 'Bunion of big toe hallux valgus', 'Hammer toes toe deformity', 'Hand laceration skin cut', 'Hand swelling', 'Hand foot and mouth disease Coxsackie virus', 'Hantavirus infection rare, serious viral infection', 'Head injury', 'Head trauma', 'Headache', 'Hearing loss', 'Heat cramps', 'Heat exhaustion', 'Heat rash', 'Heat stroke', 'Hematocele collection of blood around testicle', 'Hematoma collection of blood', 'Hemophilia inherited bleeding disorder', 'Hemoptysis coughing blood', 'Hemorrhage of pregnancy vaginal bleeding during pregnancy', 'Hemorrhoid enlarged rectal veins', 'Hemotympanum blood behind ear drum', 'Henoch Schönlein purpura blood vessel inflammation', 'Hepatic abscess collection of pus in the liver', 'Hepatitis liver inflammation', 'Hereditary hemorrhagic telangiectasia Osler Weber Rendu syndrome', 'Hernia', 'Herniated disc slipped disc, ruptured disc', 'Herpes simplex infection viral infection', 'Herpes stomatitis viral mouth infection', 'Herpes vulvovaginitis viral infection of the vagina Herpesviral vulvovaginitis', 'Hiatal hernia stomach pushes through diaphragm', 'Hip fracture broken hip', 'Hordeolum stye of eye', 'Humerus fracture broken upper arm', 'Hydrocele fluid collection near the testicle', 'Hyperemesis gravidarum severe vomiting in pregnancy', 'Hyperkalemia elevated potassium level', 'Hypertension high blood pressure', 'Hypertensive emergency severely high blood pressure', 'Hyperthyroidism elevated thyroid hormone', 'Hypertrophic cardiomyopathy thickened heart muscle', 'Hyperventilation rapid breathing', 'Hyphema traumatic blood in eye', 'Hypocalcemia low blood calcium', 'Hypoglycemia low blood sugar', 'Hypokalemia low blood potassium', 'Hypokalemic periodic paralysis inherited muscle weakness and low potassium', 'Hyponatremia low blood sodium', 'Hypotension low blood pressure', 'Hypothyroidism low thyroid hormone', 'Hypoxia lack of oxygen', 'Nonsteroidal anti-inflammatory drug overdose Motrin, Advil', \"Impacted tooth tooth that doesn't erupt\", 'Impingement syndrome of shoulder bone rubs again tendon, bursa', 'Infection', 'Infectious mononucleosis Epstein Barr virus, \"Mono\"', 'Inflammatory conditions', 'Influenza seasonal flu', 'Inguinal hernia groin hernia', 'Inhalants abuse huffing', 'Insulin overdose', 'Interstitial cystitis bladder inflammation', 'Intestinal ischemia decreased intestinal blood flow', 'Intestinal volvulus twisting of intestine', 'Intracranial hemorrhage bleeding in brain', 'Intrahepatic cholestasis of pregnancy liver disorder in pregnancy', 'Intravenous drug abuse IVDA', 'Intussusception telescoping intestine', 'Iron overdose', 'Irritable bowel syndrome IBS, chronic intestinal pain and cramping', 'Jet lag', 'Kaposi Sarcoma type of cancer', 'Kawasaki disease pediatric blood vessel disease', 'Keratitis inflammation of cornea', 'Kidney cancer tumor', 'Knee laceration skin cut', 'Knee swelling', 'Labyrinthitis dizziness and vertigo', 'Laceration skin cut', 'Bowel obstruction intestinal blockage', 'Laryngeal carcinoma throat cancer', 'Laryngitis voice box inflammation', 'Tennis elbow lateral epicondylitis', 'Laxative abuse', 'Lead overdose lead poisoning', 'Lead poisoning toxicity', 'Leg laceration skin cut', 'Leg swelling leg edema', 'Legg Calve Perthes disease childhood hip condition', \"Legionellosis Legionnaires' disease\", 'Leishmaniasis parasitic infection, kala azar', 'Leptospirosis bacterial infection', 'Leukemia blood cell cancer', 'Lichen planus chronic skin inflammation', 'Ligament sprain connection between two bones', 'Ligament tear connection between two bones', 'Limb ischemia decreased blood flow', 'Lip laceration skin cut', 'Lip swelling', 'Lipoma benign fatty tumor', 'Liver abscess collection of pus', 'Liver cancer tumor', 'Low blood pressure hypotension', 'Low platelets thrombocytopenia', 'Ludwig\\x92s angina severe infection in the floor of the mouth and neck', 'Lung abscess collection of pus', 'Lung cancer tumor', 'Lupus systemic lupus erythematosus, SLE', 'Lyme disease bacterial infection from ticks', 'Lymphangitis lymph tissue inflammation', 'Magic mushroom ingestion psilocybin', 'Major depressive disorder severe depression', 'Malabsorption syndrome abnormal intestinal digestion', 'Malaria mosquito transmitted illness', 'Malignant hyperthermia rare temperature abnormality', 'Mallet finger finger tendon rupture', 'Mallory Weiss syndrome esophageal tear', 'Malnutrition', 'Marijuana use', 'Mastitis breast infection inflammation', 'Maxillary sinus carcinoma sinus cancer', 'Measles viral disease with typical rash', \"Meckel's diverticulum bulge in small intestine\", 'Mediastinitis inner chest inflammation', \"Meniere's disease dizziness and vertigo\", 'Meningitis spinal fluid infection', 'Meniscus injury knee cartilage injury', 'Menopause end of menstruation and fertility', 'Metastatic neoplasm cancer spread', 'Methamphetamine abuse', 'Methyl alcohol intoxication methanol', 'Migraine type of headache', 'Miscarriage', 'Mitral valve prolapse abnormal heart valve', 'Mittelschmerz ovulation pain', 'Molar pregnancy gestational trophoblastic disease, pregnancy-related tumor', 'Mononucleosis common viral illness', 'Mosquito bite', 'Motion sickness', 'Motor neuron disease progressive nerve disorder', 'Mouth laceration mouth cut', 'Mouth swelling', 'Mouth trauma injury', 'Multiple pregnancy twins, triplets, etc', 'Multiple sclerosis MS', 'Mumps viral infection involving salivary glands', 'Munchausen syndrome fabricated illness', 'Munchausen syndrome by proxy fabricated illness in a dependent', 'Myasthenia gravis autoimmune disease of the nerves, muscles', 'Mycoplasma genitalium sexually transmitted disease', 'Myelodysplastic syndrome bone marrow failure', 'Myocardial infarction heart attack', 'Myocarditis heart muscle inflammation', 'Myopathy muscle disease', 'Myositis muscle inflammation or infection', 'Nail avulsion traumatic removal of nail', 'Nail bruise subungual hematoma', 'Nail contusion swelling of finger and nail', 'Nail laceration nail bed cut', 'Narcolepsy uncontrollable sleeping', 'Narcotic morphine, heroin abuse', 'Narcotic morphine, heroin overdose', 'Nasal cancer tumor', 'Nasal fracture broken nose', 'Nasal polyps growths', 'Nasal trauma nose injury', 'Nasopharyngeal carcinoma tumor', 'Neck trauma injury', 'Necrotizing fasciitis life-threatening infection', 'Neisseria gonorrhea infection sexually transmitted disease', 'Neisseria meningitidis infection Neisseria meningitidis meningococcus, serious bacterial illness', 'Kidney stone nephrolithiasis', 'Neurogenic bladder bladder paralysis', 'Non venomous snake bite', 'Normal menstruation', 'Norovirus infection viral diarrhea, Norwalk virus', \"Nursemaid's elbow radial head subluxation\", 'Obsessive compulsive disorder OCD, anxiety disorder', 'Onchocerciasis river blindness', 'Ophthalmoplegia eye muscle weakness', 'Optic neuritis optic nerve inflammation', 'Oral candidiasis thrush, oral yeast', 'Oral ulcers mouth ulcers', 'Orbital cellulitis soft tissue eye infection', 'Orbital fracture broken bone near the eye', 'Orbital mass growth near the eye', 'Orchitis inflammation of the testicles', 'Mouth cancer oropharyngeal cancer', 'Osteoarthritis bone inflammation', 'Osteochondritis dissecans joint disorder', 'Osteomyelitis bone infection', 'Ear infection, outer otitis externa', 'Ear infection, middle ear otitis media', 'Ototoxicity ear toxicity', 'Ovarian cancer female organ cancer', 'Ovarian cyst female organ fluid collection', 'Ovarian torsion twisting of the ovary', 'Overdose', 'Overuse syndrome injury from repetitive activity', 'Paget disease of the nipple rare breast cancer', 'Pancoast syndrome apical lung tumor', 'Pancreatic cancer tumor', 'Pancreatitis pancreas inflammation', 'Pancreas inflammation pancreatitis, chronic', 'Panic disorder', 'Paralytic Ileus intestinal paralysis', 'Parasite infection', \"Parkinson's disease movement disorder\", 'Paronychia infection around the nail', 'Parotitis salivary gland inflammation', 'Patellar dislocation knee cap dislocation', 'Patellar knee cap tendon rupture', 'Pelvic inflammatory disease PID, female reproductive organ infection', 'Penis carcinoma tumor', 'Perforated septum hole in skin between nostrils', 'Pericarditis heart sac inflammation', 'Periodontitis gum inflammation', 'Periorbital cellulitis infection around eye', 'Peripheral nerve transection nerve injury', 'Peripheral neuropathy nerve damage', 'Peripheral vascular disease blocked blood vessels', 'Peritonitis abdominal cavity inflammation', 'Peritonsillar abscess collection of pus around tonsils', 'Personality disorder unhealthy patterns of thinking and behavior', 'Pesticide poisoning organophosphate poisoning', \"Pharyngeal pouch Zenker's diverticulum, weakening of the esophageal wall\", 'Pharyngitis throat infection', 'Pheochromocytoma adrenal gland tumor', 'Phobias irrational fear', 'Pickwickian syndrome severe obesity', 'Pituitary tumor', 'Pityriasis rosea inflammatory skin rash', 'Placenta previa placenta covers cervix', 'Placental abruption placenta separation', 'Plague bubonic plague, bacteria yersinia infection', 'Plantar fasciitis inflammation of tissue at the bottom of the foot', 'Plantar wart human papilloma virus infection, foot warts', 'Pleural effusion abnormal chest fluid', \"Pleuritis inflammation of the lung's lining, pleurisy\", 'Pneumonia lung infection', 'Pneumothorax collapse of lung', 'Poisoning', 'Poliomyelitis polio', 'Polycystic kidney disease inherited kidney disorder', 'Polycystic ovarian syndrome PCOS, female hormonal disorder', 'Polycythemia vera increased number of red blood cells', 'Polyphagia overeating', 'Post concussive syndrome symptoms after a concussion', 'Post nasal drip', 'Post-traumatic stress disorder PTSD', 'Posterior inferior cerebellar artery syndrome stroke syndrome', 'Postural hypotension low blood pressure after standing', 'Pregnancy', 'Premenstrual syndrome PMS', 'Prescription drug abuse', 'Preseptal hematoma blood clot in the nose', 'Priapism persistent erection', 'Primary affective disorder depression', 'Insomnia difficulty sleeping', 'Primary sclerosing cholangitis bile duct disease', 'Primary dysmenorrhea painful menstruation', 'Prinzmetal angina heart artery spasm', 'Prostate cancer male anatomy cancer', 'Prostatitis prostate inflammation', 'Pruritus ani anal itching', 'Pseudogout calcium deposit arthritis', 'Puerperal depression depression after giving birth', 'Puerperal psychosis loss of contact with reality after birth', 'Pulmonary edema fluid build-up in the lungs', 'Pulmonary embolism blood clot in the lungs', 'Pulmonary fibrosis lung scarring', 'Pulmonary hypertension high blood pressure in the lungs', 'Pulpitis dental root inflammation', 'Puncture wound', 'Puncture wound of ankle', 'Puncture wound of arm', 'Puncture wound of ear', 'Puncture wound of eyelid', 'Puncture wound of face', 'Puncture wound of finger', 'Puncture wound of foot', 'Puncture wound of hand', 'Puncture wound of knee', 'Puncture wound, leg Puncture wound of leg', 'Puncture wound of lip', 'Puncture wound of mouth', 'Puncture wound of scalp', 'Puncture wound of skin', 'Puncture wound of toe', 'Pyelonephritis kidney infection', 'Quaternary syphilis late stage syphilis', 'Radial head fracture broken elbow bone', 'Radiator fluid ethylene glycol poisoning', 'Increased pressure in the skull raised intracranial pressure', 'Ramsay Hunt syndrome viral infection causing facial weakness', 'Rectal abscess collection of pus in the rectum', 'Rectal cancer tumor', 'Rectal impaction collection of pus in the rectum Fecal impaction of rectum', 'Rectal prolapse rectal protrusion', 'Rectal ulcer', 'Reiter syndrome type of joint inflammation', 'Renal arteriovenous malformation AVM, blood vessel abnormality of the kidney', 'Renal artery stenosis kidney artery narrowing', 'Renal failure, acute sudden kidney failure', 'Renal failure, chronic ongoing kidney failure', 'Renal infarct kidney damage from an area of blocked blood flow', 'Renal trauma kidney trauma', 'Renal vein thrombosis kidney vein clot', 'Respiratory failure breathing failure, ARDS', 'Restless legs syndrome nervous system disorder', 'Retroperitoneal hemorrhage flank bleeding', 'Retropharyngeal abscess throat abscess', 'Rhabdomyolysis severe muscle breakdown', 'Rheumatoid arthritis type of chronic joint inflammation', 'Rhinosporidiosis fungal nasal infection', 'Rhinovirus infection common cold', 'Rib fracture broken bone', 'Rickettsial infections type of bacterial infection', 'Rotator cuff syndrome shoulder injury', 'Rotavirus infection intestinal viral infection', 'Rubbing isopropyl alcohol overdose', 'Salmonella infection common bacterial intestinal infection', 'Severe Acute Respiratory Syndrome SARS, serious viral pneumonia', 'Scalp laceration scalp cut', 'Scalp swelling', 'Scarlet fever post strep inflammation', 'Schistosomiasis parasite infection', 'Schizoaffective disorder features of schizophrenia and mood disorder', 'Schizophrenia chronic impaired reality perception', 'Sciatica lower back nerve irritation', 'Sclerosing cholangitis progressive bile duct disease ', 'Scoliosis crooked spine', 'Scorpion sting', 'Scrotal hematoma collection of blood in skin around testicles', 'Seasonal affective disorder intermittent seasonal depression', 'Sebaceous cyst sac under the skin', 'Secondary dysmenorrhea painful menstruation', 'Self-inflicted injury', 'Sepsis serious blood infection', 'Septal perforation hole in the skin between nostrils', 'Septic arthritis joint infection', 'Septic hip infected hip joint', 'Septic knee joint infected knee joint', 'Septic shock low blood pressure from serious blood infection', 'Serotonin syndrome severe medication reaction', 'Serum sickness abnormal immune system response', 'Sexually transmitted disease STD', 'Shigellosis bacterial intestinal infection', 'Shingles herpes zoster', 'Shock severe low blood pressure', 'Shoulder joint dislocation dislocated shoulder', 'Sialolithiasis salivary gland stone', 'Sickle cell crisis complication of sickle cell disease', 'Sickle cell disease disease of red blood cells', 'Sinusitis sinus infection', \"Sjogren's syndrome dry eyes and mouth\", 'Skin abscess collection of pus', 'Skin laceration cut skin', 'Skin swelling', 'Skull fracture broken bone', 'Slipped capital femoral epiphysis adolescent hip disorder', 'Small bowel lymphoma intestinal lymph node cancer', 'Smallpox Variola virus infection', 'Smoke inhalation', 'Smoking tobacco use disorder', 'Social anxiety disorder social phobia', 'Spermatocele sperm-filled epididymal cyst', 'Insect bite', 'Spinal abscess collection of spinal pus', 'Spinal cord injury, acute', 'Splenic infarction death of spleen', 'Spondylolisthesis slipped back bone', 'Sprain stretched, torn ligament', 'Squamous cell cancer common skin cancer', 'Steroid abuse', 'Steroid use', 'Steven Johnson syndrome rare, serious skin disorder', 'Muscle strain pulled muscle', 'Strangulation of genitalia constriction of genital blood supply', 'Streptococcus infection strep throat bacteria', 'Stress', 'Stress headache tension headache', 'Stress incontinence unintentional urination with cough or sneeze', 'Subarachnoid hemorrhage brain bleeding', 'Subdural hematoma bleeding on brain', 'Substance abuse', 'Subungual hematoma blood under nail', 'Suicide', 'Supracondylar fracture elbow fracture', \"Swimmer's itch cercarial dermatitis\", 'Symptomatic dermatographism exaggerated skin response to pressure', 'Syphilis treponema pallidum', 'Systemic sclerosis scleroderma, progressive soft tissue hardening', 'Tarantula bite Tarantula Venoms', 'Tarsal tunnel syndrome foot nerve damage', 'Temporal arteritis inflamed scalp artery', 'Temporal lobe epilepsy non-convulsive seizure', 'Temporomandibular joint syndrome TMJ, jaw joint pain', 'Tendonitis tendon inflammation', 'Tenosynovitis tendon sheath inflammation', 'Tension pneumothorax dangerous lung collapse', 'Testicular cancer tumor', 'Testicular torsion twisting of testicle', 'Third cranial nerve disorder disorder of eye movement', 'Thoracic outlet syndrome nerve, blood vessel compression', 'Thrombocytopenia low platelet count', 'Thyroglossal duct cyst neck cyst', 'Thyroiditis thyroid inflammation', 'Tick paralysis toxin from ticks', 'Tick borne encephalitis brain infection', 'Tinea fungal skin infection', 'laceration of toe cut skin', 'Toe swelling', 'Tongue cancer tumor', 'Tonsillar cancer tumor tongue', 'Tonsillitis tonsil infection', 'Toothache', 'Torticollis, spasmodic neck muscle spasm', 'Preeclampsia toxemia of pregnancy', 'Toxic shock syndrome life-threatening bacterial infection complication', 'Toxoplasma infection Toxoplasmosis parasite infection', 'Transient ischemic attack TIA, reversible stroke', 'Transverse myelitis spinal cord inflammation', 'Trauma', 'Traumatic nerve injury', 'Trichinella spiralis infection trichinosis, parasitic infection from undercooked pork', 'Trichomonas vaginalis infection vaginal infection', 'Trigeminal neuralgia facial nerve pain', 'Tuberculosis infection TB', 'Tubo ovarian abscess pelvic abscess', 'Ear drum rupture tympanic membrane rupture', 'Typhoid fever salmonella typhi infection from contaminated food or water', 'Ulcerative colitis large intestine inflammation', 'Unstable angina pre heart attack chest pain', 'Upper respiratory tract infection URI, common cold', 'Ureaplasma urealyticum infection genital infection', 'Urethritis infection of urethra', 'Bladder infection cystitis, UTI, urinary tract infection', 'Urinary tract malformation', 'Urine retention inability to urinate', 'Urticaria hives', 'Uterine prolapse uterine vaginal protrusion', 'Uterine rupture uterine tear during childbirth', 'Uveitis iritis, eye inflammation', 'Vaccination', 'Vaginal atrophy atrophic vaginitis', 'Vaginal cancer tumor', 'Vaginal foreign body', 'Vaginitis vaginal infection inflammation', 'Varicocele testicular vein enlargement', 'Blood vessel headache familial basilar artery migraine headache', 'Vascular insufficiency due to peripheral artery disease PAD, claudication, inadequate blood flow', 'Vasculitis inflammation of the arteries', 'Vasovagal syncope fainting', 'Vertebral artery dissection neck artery tear', 'Vertebral fracture broken back or neck bone', 'Vertebral- basilar artery insufficiency inadequate blood flow to the back of the brain vertebro-basilar insufficiency', 'Vertebral-basilar stroke stroke in the back of the brain Vertebro basilar insufficiency', 'Vertigo spinning sensation', 'Vesicovaginal fistula connection between the bladder and vagina', 'Vestibular neuronitis labyrinthitis, vertigo', 'Vibrio parahaemolyticus infection bacterial infection from shellfish', 'Rattlesnake pit viper bite', 'Viral hemorrhagic fevers Ebola, Lassa', 'Viral infections', 'Vitiligo loss of skin pigment', 'Vocal cord nodule growth on the vocal cords', 'Vocal cord paralysis voice box weakness', 'Volvulus twisted intestine', 'Vulvar squamous cell carcinoma skin cancer on female genitalia', 'Waldenström macroglobulinemia blood cell disease', 'Warfarin Coumadin, Jantoven overdose', 'Warfarin Coumadin use', \"Wegener's granulomatosis granulomatosis with polyangiitis,  blood vessel disease\", 'West Nile virus infection mosquito-transmitted illness', 'Whiplash injury neck injury', \"White coat hypertension elevated blood pressure at doctor's office\", 'Whooping cough pertussis', 'Windshield wiper fluid Methanol poisoning', 'Wolff Parkinson White syndrome WPW, additional electrical pathway in the heart', 'Yellow fever viral hemorrhagic fever', \"Zenker's diverticulum pharyngeal pouch, weakening of the esophageal wall\", 'Seizure abnormal brain electrical activity', 'Pilonidal cyst fluid filled sac on tailbone', 'Essential tremor abnormal rhythmic shaking', 'Lymphoma lymph node cancer', 'Osgood Schlatter disease painful shinbone inflammation', 'Nasal foreign body unnatural object in the nose', 'Respiratory syncytial virus RSV, pediatric respiratory infection', \"Hodgkin's disease cancer of the lymph system\", 'Autism spectrum disorder ASD', 'Polymyalgia rheumatica PMR, muscle and joint disorder', 'Swine Flu H1N1 Influenza', 'Fifth disease erythema infectiosum, viral illness', 'Sagittal sinus thrombosis venous blood clot in the brain', 'Cervical spine stenosis narrowing of spinal canal', 'Cervical myelopathy spinal cord compression', 'Spinal cord tumor', 'Brachial plexus injury shoulder nerve injury', 'Brain arteriovenous malformation blood vessel abnormality in the brain, AVM Arteriovenous malformation of brain', 'Carotid artery stenosis neck artery narrowing', 'Meningioma brain tumor', 'Astrocytoma brain tumor', 'Hydrocephalus brain fluid build-up', 'Central cord syndrome traumatic spine injury', 'Cerebral aneurysm brain artery dilation', 'Pseudotumor cerebri increased pressure in the skull', 'HIV AIDS Human Immunodeficiency Virus, Acquired Immune Deficiency Syndrome Human immunodeficiency virus [HIV] disease', 'Endocarditis heart valve infection', 'Acne pimples', 'Attention deficit hyperactivity disorder ADHD', 'Allergic conjunctivitis allergic reaction in the eye', 'Teeth grinding bruxism', 'Chemical burn', 'Chicken pox varicella virus', 'Cradle cap infant scalp rash', 'Croup upper airway inflammation', 'Dyslexia reading disorder', 'Psoriasis scaly skin disease', \"Asperger's syndrome autism spectrum disorder\", 'Methicillin-resistant Staphylococcus aureus MRSA, type of bacteria', 'Staphylococcus aureus type of bacteria', 'Failure to thrive - child Failure to thrive-child Failure to thrive (child)', 'Hemochromatosis excess iron disorder', 'Impetigo bacterial skin infection', 'Inhaled foreign body in respiratory tract', 'Jaundice yellow skin color', 'Keratosis pilaris common skin condition', 'Head lice', 'Body lice', 'Pubic lice', 'Wilsons disease copper accumulation in tissues', 'Rocky mountain spotted fever bacterial infection spread by ticks', 'Erysipelas bacterial skin infection', 'Cat scratch fever bacterial infection after cat scratch', 'Coccidiomycosis valley fever, fungal infection', 'Meconium aspiration newborn respiratory problem', 'Neurofibromatosis inherited nerve tumors', 'Night terrors nightmares', 'Pinworms common intestinal worm', 'Reyes syndrome rare liver and brain swelling', 'Mongolian spots blue birthmark', 'Rheumatic fever complication of strep infection', 'Rhinitis nasal inflammation', 'Ringworm of the scalp tinea capitis', 'Ringworm of the body tinea corporis', 'Rubella German measles', 'Scabies skin disease caused by mites', 'Atrial flutter irregular heart rate', 'Pepto Bismol or Kaopectate ingestion bismuth', 'Long QT Syndrome inherited heart condition', 'Coronary artery anomaly heart artery malformation', 'Stroke CVA, cerebrovascular accident', 'Subconjunctival hemorrhage blood covering white part of the eye', 'Sleep apnea chronic sleep disruption', 'Myotonia impaired muscle relaxation', 'Carbuncle', 'Melanoma skin cancer', 'Cat bite', 'Dog bite', 'Muscle spasm charley horse', 'Hyperosmolar hyperglycemic state severely elevated glucose level', 'Tetanus lockjaw', 'Tourette syndrome repetitive involuntary movements, vocalizations', 'Umbilical hernia belly button hernia', 'Common warts', 'Transient global amnesia sudden period of short-term memory loss', 'Osteoporosis extremely thin bone', 'Bird flu avian influenza', 'Cubital tunnel syndrome nerve compression in the elbow', 'Foot fracture broken foot', 'Ankle fracture broken ankle', 'Histoplasmosis fungal infection', 'Tick bite', 'Q fever flu-like bacterial illness', 'Broken heart syndrome Takotsubo cardiomyopathy', \"Whipple's disease rare bacterial infection of the small intestine\", 'Near drowning', 'Clostridium difficile C. Diff', 'Sea lice bite', 'Ascites fluid in the abdomen', 'Sunburn', 'Sun poisoning', 'Cystic fibrosis inherited disease of lungs, digestive system', \"Sever's disease calcaneal apophysitis, common cause of heel pain\", 'Panhypopituitarism pituitary gland malfunction', 'Down syndrome common genetic disorder', 'Hair loss alopecia', 'Vaginal yeast fungal infection', 'Rickets childhood bone disease', \"Alzheimer's disease dementia\", 'Human papillomavirus infection HPV', 'Erectile dysfunction ED', 'Congenital heart disease heart defect at birth', 'Lumbar spinal stenosis spinal cord compression', 'Stomach cancer gastric cancer', 'Moles nevi', 'Idiopathic thrombocytopenia purpura ITP, low platelets', 'Thrombotic thrombocytopenia purpura TTP, rare blood disorder Thrombotic thrombocytopenic purpura', 'Ventricular tachycardia VT, dangerous irregular heart beat', 'Cardiac arrest heart stops', 'Frostbite tissue damage from cold', 'Trench foot immersion foot', 'Skin blood vessel damage Chilblains, pernio', 'Gangrene death of body tissue', 'Food poisoning', 'Lactose intolerance', \"Raynaud's disease blood vessel constriction\", 'Muscular dystrophy inherited muscle disease', 'Diverticulosis weakening of the large intestine wall', \"Graves' disease overproduction of thyroid hormone\", 'Emphysema COPD, lung disease', \"Amyotrophic lateral sclerosis ALS, Lou Gehrig's disease\", 'Sarcoidosis inflammatory disease', 'Folliculitis hair follicle infection', 'Boil pus-filled lump', 'Angioedema swelling of skin, lips, eyes', 'Hot tub follicullitis hair follicle infection Pustular folliculitis', 'Detached retina retinal detachment', 'Posterior vitreous detachment common eye abnormality', 'Thyroid cancer neck gland cancer', 'Coronary artery disease CAD, heart disease', 'Double diabetes hybrid diabetes', 'Birth control pill use', 'Toe fracture', 'Finger fracture broken finger', 'Hand fracture broken hand', 'Scaphoid fracture broken hand bone', 'Clavicle fracture broken collar bone', 'Valvular heart disease abnormal heart valves', 'Aortic regurgitation leaking heart valve', 'Mitral stenosis tight heart valve', 'Mitral regurgitation leaking heart valve', 'Cataracts clouding of the eye lens', 'Thalassemia Mediterranean anemia, inherited blood disorder', 'Iron deficiency anemia low red blood cell count', 'Hemolytic anemia red blood cell destruction disorder', 'Pterygium growth on the eye', 'Pernicious anemia vitamin deficiency blood disorder', \"Addison's disease adrenal insufficiency\", 'Heart attack acute myocardial infarction, AMI', 'Scleroderma progressive hardening of soft tissue', 'Medication reaction', 'Myxedema coma severely low thyroid hormone', 'Bed bugs', \"Athlete's foot tinea pedis\", 'Early menopause premature ovarian failure', 'Carcinoid syndrome flushing, diarrhea', 'Mayer Rokitansky Küster Hauser syndrome MRKH, inherited vaginal abnormality', 'Obesity', 'Hyperparathyroidism elevated parathyroid hormone levels', 'Cauliflower ear wrestlers ear', 'Muscle tear', 'Gastroparesis stomach muscle malfunction', 'Scalded skin syndrome blistering skin infection', 'Colon polyps large intestine tumors', \"Loffler's syndrome pulmonary eosinophilia, lung inflammation\", 'Methemoglobinemia blood disorder', 'Amaurosis fugax momentary vision loss in one eye', 'Tendon laceration tendon cut', 'Foreign body in a wound', 'Wound infection cut infection', 'Blood vessel injury', 'Hidradenitis suppurativa chronic collections of pus', 'Spleen injury splenic rupture', 'Liver injury liver trauma', 'Radiation exposure radiation sickness', 'Marfan syndrome rare inherited disease', 'Tape worm infection', 'Teething', 'Rabies deadly viral illness transmitted by animals', 'Toxic megacolon rapid dilation of the colon', 'Basal cell carcinoma skin cancer', 'Skin tags acrochordons', 'Pneumocystis pneumonia PCP, fungal lung infection', 'Compression fracture broken spinal bone', 'Hypersensitivity pneumonitis allergic lung disease', 'Mucormycosis fungal infection', 'Interstitial lung disease chronic scarring of the lung', 'Flea bite', 'Ingrown nail onychocryptosis', 'Porphyria rare disorder of skin, nervous system', \"Gilbert's disease liver abnormality\", 'Goodpasture syndrome disease of kidneys and lungs', 'Newborn jaundice newborn skin discoloration', 'Ankle sprain', 'Chikungunya viral illness from mosquitoes', 'Japanese encephalitis viral brain infection', 'Brucellosis bacterial infection spread from animals', 'Post herpetic neuralgia nerve pain after shingles', 'Psoriatic arthritis joint pain and stiffness', 'Flat feet pes planus', 'Heel spur', 'Lewy body dementia common type of dementia', 'Facial nerve paralysis', 'Macular degeneration chronic eye disease', 'Pyomyositis muscle infection', 'Synovitis inflammation of joint lining', 'Diabetic retinopathy diabetic eye disease', 'Aspiration pneumonia lung inflammation or infection', 'Hepatic encephalopathy confusion from liver failure', 'Pemphigus rare skin disorder', 'Diabetes insipidus excessive water loss from the kidneys', 'Ventral hernia bulging of the abdominal wall', 'Listeria serious bacterial illness', 'Shin splints tibial stress syndrome', 'Sarcoma soft tissue cancer', 'Bone cancer bone tumor', 'Mastocytosis urticaria pigmentosa, skin disease', 'Jellyfish stings', 'Hemolytic uremic syndrome HUS, red blood cell destruction, kidney disease', 'Triangular fibrocartilage complex injury wrist injury', 'Multiple myeloma blood cancer', 'Miller Fisher Syndrome rare nerve disease', 'Aponeurotic ptosis age-related drooping eyelid', 'Complex migraine migraine with neurologic changes', 'Reflex sympathetic dystrophy complex pain syndrome', \"Golfer's elbow medial epicondylitis of elbow\", 'Small cell lung cancer', 'Bullous myringitis middle ear infection', 'Chronic venous insufficiency weakened leg veins', 'Diabetic neuropathy nerve damage', 'Diabetic nephropathy diabetes and kidney disease', 'Dysthymia depression, dysthymic disorder', 'Lymphedema lymphatic obstruction', 'Tension headache stress headache', 'Pneumoconiosis lung disease', 'Varicose veins', 'Diabetes mellitus type 1 elevated blood sugar', 'Viral exanthem rash from viral infection', 'Foreign body in ear', 'Actinic keratosis AK, skin growth', 'Molluscum contagiosum', 'Eustachian tube dysfunction inner ear tube', 'Phimosis', 'Lumbar spondylosis spine arthritis', 'Muscle and ligament inflammation enthesopathy', 'Male pattern hair loss hereditary-patterned baldness Androgenic alopecia', 'Male infertility', 'Scleritis inflammation of the eye', 'Abdominal adhesions scar tissue', 'Chondromalacia cartilage damage', 'Focal seizure partial seizure', 'Generalized seizure disorder generalized epilepsy', \"Peyronie's disease abnormal curvature of the penis\", 'Mycoplasma infection bacteria', 'Duodenal cancer small intestine', 'Small bowel cancer small intestine', 'Gallbladder cancer', 'Essential thrombocythemia excessive blood platelets', 'Thyroid cyst', 'Herpangina mouth blisters', \"Ewing's sarcoma cancer\", 'Extragonadal germ cell tumors', 'Fallopian tube cancer', 'Familial dysautonomia genetic disorder', 'Farsightedness hyperopia/hypermetropia', 'Food allergy', 'Foot sprain', 'Foot ulcer', 'Fragile X syndrome genetic disorder', \"Friedreich's Ataxia genetic disorder\", 'Gallbladder and bile duct cancer Gallbladder cancer bile duct cancer', 'Glomerulonephritis kidney disease', 'Graves eye disease Graves ophthalmopathy', 'Head injury in children Non-accidental traumatic head injury to child', 'Hemorrhagic stroke CVA, cerebrovascular accident', 'Hepatitis A', 'Excessive hair growth Hirsutism', 'Huntington disease chorea', 'Hyperkeratosis skin thickening', 'Lacunar stroke', 'Langerhans cell histiocytosis Histiocytosis X', 'Large cell lung cancer', 'Malignant Mesothelioma', 'Melasma choloasma', \"Morton's neuroma\", 'Neuroblastoma', \"Paget disease of the bone paget's disease of the bone\", 'Parathyroid cancer', 'Phenylketonuria PKU', 'Paraphimosis', 'Polyarteritis Nodosa PAN', 'Post-polio syndrome', 'Posterior cruciate ligament injuries PCL injury Rupture of posterior cruciate ligament Sprain of posterior cruciate ligament of knee', 'Presbyopia aging vision', 'Rectocele', 'Retinitis pigmentosa', 'Retinoblastoma pediatric eye cancer', 'Retrobulbar Neuritis', 'Shoulder sprain', 'Squamous cell lung cancer', \"Takayasu's arteritis Giant cell arteritis of the young\", 'Tay-Sachs disease', 'Tear duct infection Dacryocystitis', 'Thrombophlebitis superficial', 'Traumatic hip dislocation traumatic dislocation of hip', \"Traveler's diarrhea Montezuma's revenge\", 'Tropical sprue', \"Wilms' Tumor\", 'Wrist sprain', 'Yaws', 'Amyloidosis', 'Arnold Chiari malformation', 'Broken jaw mandible fracture', 'Conversion disorder', 'Strabismus crossed eyes', \"Decompression sickness bends, caisson's disease\", 'Delusional disorder', 'Dermatofibroma', 'Fibromuscular dysplasia FMD', 'Hypoparathyroidism', 'Ichthyosis', 'Keloid overgrown scar', 'Broken leg leg fracture', 'Prediabetes high blood sugar', 'Subluxation', 'Vitamin D deficiency', 'Supraventricular tachycardia SVT', 'Traumatic brain injury', 'Testicular hypofunction', \"Von Willebrand's disease\", 'Lymphadenitis', 'Drug withdrawal syndrome', 'Stuttering', 'Tic Disorder', 'Conduct disorder', 'Charcot-Marie-Tooth disease', 'Neutropenia', 'Greater trochanteric bursitis hip bursitis', 'Turner syndrome gonadal dysgenesis', 'Pancytopenia', 'Cerebellar Ataxia', 'Complex partial seizures psychomotor epilepsy', 'Meralgia Paresthetica', 'Retinopathy', 'Corneal ulcer', 'Blocked tear duct dacryostenosis', 'Aphakia', 'Bacterial tracheitis', 'Trigger finger', 'Glossitis', 'Anal fistula', 'Urethral stricture', 'Pemphigoid', 'Scar', 'Finger amputation', 'Hydronephrosis', 'Night blindness nyctalopia', 'Scurvy vitamin C deficiency', 'Beriberi thiamine vitamin B1 deficiency', 'Cutaneous T cell lymphoma', 'Cardiomegaly enlarged heart', 'Developmental delay', 'Breast cyst', 'Ductal carcinoma in situ DCIS, breast cancer', 'Missed abortion', 'Triple negative breast cancer', 'Invasive ductal carcinoma', 'Invasive lobular carcinoma', 'Dystonia', 'Failure to thrive - adult failure to thrive']\n"
     ]
    }
   ],
   "source": [
    "df_disease['diagnose']\n",
    "from collections import Counter \n",
    "\n",
    "Counter = Counter(df_disease['diagnose'])\n",
    "\n",
    "commonDis = Counter.most_common()\n",
    "commonDis1 =[]\n",
    "\n",
    "commonDis[0][0]\n",
    "\n",
    "for x in range(0,len(commonDis)):\n",
    "    #print(commonDis[x][0])\n",
    "    commonDis1.append(commonDis[x][0])\n",
    "\n",
    "commonDis2=[]   \n",
    "    \n",
    "for x in commonDis1:\n",
    "    y =  x.replace(\"\\x0b\",\" \")\n",
    "    z= y.replace(\"\\x92 \",\" \")\n",
    "    commonDis2.append(z)\n",
    "    \n",
    "print(commonDis2)"
   ]
  },
  {
   "cell_type": "code",
   "execution_count": 118,
   "metadata": {},
   "outputs": [
    {
     "data": {
      "text/plain": [
       "'Abdominal aortic aneurysm (enlarged major blood vessel)'"
      ]
     },
     "execution_count": 118,
     "metadata": {},
     "output_type": "execute_result"
    }
   ],
   "source": [
    "commonDis1[0].replace(\"\\x0b\",\" \")"
   ]
  },
  {
   "cell_type": "code",
   "execution_count": null,
   "metadata": {},
   "outputs": [],
   "source": []
  }
 ],
 "metadata": {
  "kernelspec": {
   "display_name": "Python 3",
   "language": "python",
   "name": "python3"
  },
  "language_info": {
   "codemirror_mode": {
    "name": "ipython",
    "version": 3
   },
   "file_extension": ".py",
   "mimetype": "text/x-python",
   "name": "python",
   "nbconvert_exporter": "python",
   "pygments_lexer": "ipython3",
   "version": "3.7.3"
  }
 },
 "nbformat": 4,
 "nbformat_minor": 2
}
