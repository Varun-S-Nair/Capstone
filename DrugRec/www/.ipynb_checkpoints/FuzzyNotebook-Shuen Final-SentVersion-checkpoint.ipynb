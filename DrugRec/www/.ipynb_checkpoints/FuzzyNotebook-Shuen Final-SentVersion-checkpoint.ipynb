{
 "cells": [
  {
   "cell_type": "code",
   "execution_count": 1,
   "metadata": {},
   "outputs": [
    {
     "data": {
      "text/html": [
       "        <script type=\"text/javascript\">\n",
       "        window.PlotlyConfig = {MathJaxConfig: 'local'};\n",
       "        if (window.MathJax) {MathJax.Hub.Config({SVG: {font: \"STIX-Web\"}});}\n",
       "        if (typeof require !== 'undefined') {\n",
       "        require.undef(\"plotly\");\n",
       "        requirejs.config({\n",
       "            paths: {\n",
       "                'plotly': ['https://cdn.plot.ly/plotly-latest.min']\n",
       "            }\n",
       "        });\n",
       "        require(['plotly'], function(Plotly) {\n",
       "            window._Plotly = Plotly;\n",
       "        });\n",
       "        }\n",
       "        </script>\n",
       "        "
      ]
     },
     "metadata": {},
     "output_type": "display_data"
    }
   ],
   "source": [
    "import pandas as pd #Analysis \n",
    "import matplotlib.pyplot as plt #Visulization\n",
    "import seaborn as sns #Visulization\n",
    "import numpy as np #Analysis \n",
    "from scipy.stats import norm #Analysis \n",
    "from sklearn.preprocessing import StandardScaler #Analysis \n",
    "from scipy import stats #Analysis \n",
    "import warnings \n",
    "warnings.filterwarnings('ignore')\n",
    "%matplotlib inline\n",
    "import gc\n",
    "\n",
    "import os\n",
    "import string\n",
    "color = sns.color_palette()\n",
    "\n",
    "%matplotlib inline\n",
    "\n",
    "from plotly import tools\n",
    "import plotly.offline as py\n",
    "py.init_notebook_mode(connected=True)\n",
    "import plotly.graph_objs as go\n",
    "\n",
    "from sklearn import model_selection, preprocessing, metrics, ensemble, naive_bayes, linear_model\n",
    "from sklearn.feature_extraction.text import TfidfVectorizer, CountVectorizer\n",
    "from sklearn.decomposition import TruncatedSVD\n",
    "import lightgbm as lgb\n",
    "\n",
    "pd.options.mode.chained_assignment = None"
   ]
  },
  {
   "cell_type": "markdown",
   "metadata": {},
   "source": [
    "## Importing Data"
   ]
  },
  {
   "cell_type": "code",
   "execution_count": 3,
   "metadata": {},
   "outputs": [],
   "source": [
    "df_train = pd.read_csv(\"D:/Shuen's Documents/School Work/MIT/BeaverWorks/Medlytics/Capstone project/Data/kuc-hackathon-winter-2018/drugsComTrain_raw.csv\", parse_dates=[\"date\"])\n",
    "df_test = pd.read_csv(\"D:/Shuen's Documents/School Work/MIT/BeaverWorks/Medlytics/Capstone project/Data/kuc-hackathon-winter-2018/drugsComTest_raw.csv\", parse_dates=[\"date\"])"
   ]
  },
  {
   "cell_type": "code",
   "execution_count": 4,
   "metadata": {},
   "outputs": [],
   "source": [
    "df_all = pd.concat([df_train,df_test])"
   ]
  },
  {
   "cell_type": "code",
   "execution_count": 6,
   "metadata": {},
   "outputs": [],
   "source": [
    "df_disease = pd.read_csv(r\"D:\\Shuen's Documents\\School Work\\MIT\\BeaverWorks\\Medlytics\\Capstone project\\Data\\sdsort_matched\\dia_t_clean.csv\", encoding='latin-1')\n",
    "df_symptoms = pd.read_csv(r\"D:\\Shuen's Documents\\School Work\\MIT\\BeaverWorks\\Medlytics\\Capstone project\\Data\\sdsort\\sym_t.csv\")\n",
    "df_dis_sym = pd.read_csv(r\"D:\\Shuen's Documents\\School Work\\MIT\\BeaverWorks\\Medlytics\\Capstone project\\Data\\sdsort\\diffsydiw.csv\")"
   ]
  },
  {
   "cell_type": "code",
   "execution_count": 7,
   "metadata": {},
   "outputs": [
    {
     "data": {
      "text/html": [
       "<div>\n",
       "<style scoped>\n",
       "    .dataframe tbody tr th:only-of-type {\n",
       "        vertical-align: middle;\n",
       "    }\n",
       "\n",
       "    .dataframe tbody tr th {\n",
       "        vertical-align: top;\n",
       "    }\n",
       "\n",
       "    .dataframe thead th {\n",
       "        text-align: right;\n",
       "    }\n",
       "</style>\n",
       "<table border=\"1\" class=\"dataframe\">\n",
       "  <thead>\n",
       "    <tr style=\"text-align: right;\">\n",
       "      <th></th>\n",
       "      <th>disease</th>\n",
       "      <th>symptom</th>\n",
       "      <th>weight</th>\n",
       "    </tr>\n",
       "  </thead>\n",
       "  <tbody>\n",
       "    <tr>\n",
       "      <th>0</th>\n",
       "      <td>1.0</td>\n",
       "      <td>7.0</td>\n",
       "      <td>1.0</td>\n",
       "    </tr>\n",
       "    <tr>\n",
       "      <th>1</th>\n",
       "      <td>1.0</td>\n",
       "      <td>275.0</td>\n",
       "      <td>1.0</td>\n",
       "    </tr>\n",
       "    <tr>\n",
       "      <th>2</th>\n",
       "      <td>1.0</td>\n",
       "      <td>173.0</td>\n",
       "      <td>1.0</td>\n",
       "    </tr>\n",
       "    <tr>\n",
       "      <th>3</th>\n",
       "      <td>1.0</td>\n",
       "      <td>54.0</td>\n",
       "      <td>1.0</td>\n",
       "    </tr>\n",
       "    <tr>\n",
       "      <th>4</th>\n",
       "      <td>1.0</td>\n",
       "      <td>32.0</td>\n",
       "      <td>1.0</td>\n",
       "    </tr>\n",
       "  </tbody>\n",
       "</table>\n",
       "</div>"
      ],
      "text/plain": [
       "   disease  symptom  weight\n",
       "0      1.0      7.0     1.0\n",
       "1      1.0    275.0     1.0\n",
       "2      1.0    173.0     1.0\n",
       "3      1.0     54.0     1.0\n",
       "4      1.0     32.0     1.0"
      ]
     },
     "execution_count": 7,
     "metadata": {},
     "output_type": "execute_result"
    }
   ],
   "source": [
    "df_dis_sym = df_dis_sym[['did', 'syd', 'wei']]\n",
    "df_dis_sym = df_dis_sym.sort_values(axis=0, by=['did'])\n",
    "df_dis_sym = df_dis_sym.reset_index(drop=True)\n",
    "df_dis_sym = df_dis_sym.rename(columns={\"did\": \"disease\", \"syd\": \"symptom\", \"wei\": \"weight\"})\n",
    "df_dis_sym = df_dis_sym.drop(axis=0, index=5568)\n",
    "df_dis_sym.head()"
   ]
  },
  {
   "cell_type": "code",
   "execution_count": 8,
   "metadata": {},
   "outputs": [
    {
     "data": {
      "text/html": [
       "<div>\n",
       "<style scoped>\n",
       "    .dataframe tbody tr th:only-of-type {\n",
       "        vertical-align: middle;\n",
       "    }\n",
       "\n",
       "    .dataframe tbody tr th {\n",
       "        vertical-align: top;\n",
       "    }\n",
       "\n",
       "    .dataframe thead th {\n",
       "        text-align: right;\n",
       "    }\n",
       "</style>\n",
       "<table border=\"1\" class=\"dataframe\">\n",
       "  <thead>\n",
       "    <tr style=\"text-align: right;\">\n",
       "      <th></th>\n",
       "      <th>did</th>\n",
       "      <th>diagnose</th>\n",
       "      <th>description</th>\n",
       "    </tr>\n",
       "  </thead>\n",
       "  <tbody>\n",
       "    <tr>\n",
       "      <th>0</th>\n",
       "      <td>1</td>\n",
       "      <td>Abdominal Aortic Aneurysm</td>\n",
       "      <td>enlarged major blood vessel</td>\n",
       "    </tr>\n",
       "    <tr>\n",
       "      <th>1</th>\n",
       "      <td>2</td>\n",
       "      <td>Abdominal Swelling</td>\n",
       "      <td>NaN</td>\n",
       "    </tr>\n",
       "    <tr>\n",
       "      <th>2</th>\n",
       "      <td>3</td>\n",
       "      <td>Abdominal Trauma</td>\n",
       "      <td>NaN</td>\n",
       "    </tr>\n",
       "    <tr>\n",
       "      <th>3</th>\n",
       "      <td>4</td>\n",
       "      <td>Abrasions</td>\n",
       "      <td>scrapes</td>\n",
       "    </tr>\n",
       "    <tr>\n",
       "      <th>4</th>\n",
       "      <td>5</td>\n",
       "      <td>ACE Inhibitor Induced Cough</td>\n",
       "      <td>blood pressure medication side effect/Drug-ind...</td>\n",
       "    </tr>\n",
       "  </tbody>\n",
       "</table>\n",
       "</div>"
      ],
      "text/plain": [
       "   did                     diagnose  \\\n",
       "0    1    Abdominal Aortic Aneurysm   \n",
       "1    2           Abdominal Swelling   \n",
       "2    3             Abdominal Trauma   \n",
       "3    4                    Abrasions   \n",
       "4    5  ACE Inhibitor Induced Cough   \n",
       "\n",
       "                                         description  \n",
       "0                        enlarged major blood vessel  \n",
       "1                                                NaN  \n",
       "2                                                NaN  \n",
       "3                                            scrapes  \n",
       "4  blood pressure medication side effect/Drug-ind...  "
      ]
     },
     "execution_count": 8,
     "metadata": {},
     "output_type": "execute_result"
    }
   ],
   "source": [
    "df_disease.head()"
   ]
  },
  {
   "cell_type": "code",
   "execution_count": 9,
   "metadata": {},
   "outputs": [
    {
     "data": {
      "text/plain": [
       "1166"
      ]
     },
     "execution_count": 9,
     "metadata": {},
     "output_type": "execute_result"
    }
   ],
   "source": [
    "yea = list(df_disease.iloc[:,0])\n",
    "len(yea)"
   ]
  },
  {
   "cell_type": "markdown",
   "metadata": {},
   "source": [
    "## Defining function that returns match percent of disease given symptoms"
   ]
  },
  {
   "cell_type": "code",
   "execution_count": 10,
   "metadata": {},
   "outputs": [
    {
     "data": {
      "text/plain": [
       "1166"
      ]
     },
     "execution_count": 10,
     "metadata": {},
     "output_type": "execute_result"
    }
   ],
   "source": [
    "disease_list = []\n",
    "for item in df_dis_sym.iloc[:, 0]:\n",
    "    if item not in disease_list:\n",
    "        disease_list.append(item)\n",
    "len(disease_list)"
   ]
  },
  {
   "cell_type": "code",
   "execution_count": 11,
   "metadata": {},
   "outputs": [
    {
     "data": {
      "text/html": [
       "<div>\n",
       "<style scoped>\n",
       "    .dataframe tbody tr th:only-of-type {\n",
       "        vertical-align: middle;\n",
       "    }\n",
       "\n",
       "    .dataframe tbody tr th {\n",
       "        vertical-align: top;\n",
       "    }\n",
       "\n",
       "    .dataframe thead th {\n",
       "        text-align: right;\n",
       "    }\n",
       "</style>\n",
       "<table border=\"1\" class=\"dataframe\">\n",
       "  <thead>\n",
       "    <tr style=\"text-align: right;\">\n",
       "      <th></th>\n",
       "      <th>disease</th>\n",
       "      <th>symptoms</th>\n",
       "    </tr>\n",
       "  </thead>\n",
       "  <tbody>\n",
       "    <tr>\n",
       "      <th>0</th>\n",
       "      <td>1.0</td>\n",
       "      <td>[7.0, 32.0, 54.0, 173.0, 205.0, 275.0]</td>\n",
       "    </tr>\n",
       "    <tr>\n",
       "      <th>1</th>\n",
       "      <td>2.0</td>\n",
       "      <td>[99.0, 284.0]</td>\n",
       "    </tr>\n",
       "    <tr>\n",
       "      <th>2</th>\n",
       "      <td>3.0</td>\n",
       "      <td>[2.0, 102.0]</td>\n",
       "    </tr>\n",
       "    <tr>\n",
       "      <th>3</th>\n",
       "      <td>4.0</td>\n",
       "      <td>[6.0, 11.0, 13.0, 23.0, 39.0, 41.0, 57.0, 67.0...</td>\n",
       "    </tr>\n",
       "    <tr>\n",
       "      <th>4</th>\n",
       "      <td>5.0</td>\n",
       "      <td>[17.0, 126.0, 159.0, 194.0, 195.0]</td>\n",
       "    </tr>\n",
       "  </tbody>\n",
       "</table>\n",
       "</div>"
      ],
      "text/plain": [
       "   disease                                           symptoms\n",
       "0      1.0             [7.0, 32.0, 54.0, 173.0, 205.0, 275.0]\n",
       "1      2.0                                      [99.0, 284.0]\n",
       "2      3.0                                       [2.0, 102.0]\n",
       "3      4.0  [6.0, 11.0, 13.0, 23.0, 39.0, 41.0, 57.0, 67.0...\n",
       "4      5.0                 [17.0, 126.0, 159.0, 194.0, 195.0]"
      ]
     },
     "execution_count": 11,
     "metadata": {},
     "output_type": "execute_result"
    }
   ],
   "source": [
    "#creating new dataframe, condensed version of df_dis_sym\n",
    "df_dis_sym_c = pd.DataFrame(columns={'disease', 'symptoms'})\n",
    "sym_lst = []\n",
    "for row in range(len(df_dis_sym)):\n",
    "    if row == 0:\n",
    "        sym_lst.append(df_dis_sym.iloc[row, 1])\n",
    "    elif row == len(df_dis_sym)-1:\n",
    "        sym_lst = sorted(sym_lst)\n",
    "        df_dis_sym_c = df_dis_sym_c.append({'disease': df_dis_sym.iloc[row, 0], 'symptoms': sym_lst}, ignore_index=True)\n",
    "    elif (df_dis_sym.iloc[row, 0] == df_dis_sym.iloc[row-1, 0]):\n",
    "        sym_lst.append(df_dis_sym.iloc[row, 1])\n",
    "    elif (df_dis_sym.iloc[row, 0] != df_dis_sym.iloc[row-1, 0]):\n",
    "        sym_lst = sorted(sym_lst)\n",
    "        df_dis_sym_c = df_dis_sym_c.append({'disease': df_dis_sym.iloc[row-1, 0], 'symptoms': sym_lst}, ignore_index=True)\n",
    "        sym_lst = [df_dis_sym.iloc[row, 1]]\n",
    "columnsTitles=[\"disease\",\"symptoms\"]\n",
    "df_dis_sym_c=df_dis_sym_c.reindex(columns=columnsTitles)\n",
    "df_dis_sym_c.head()\n",
    "    "
   ]
  },
  {
   "cell_type": "code",
   "execution_count": 12,
   "metadata": {},
   "outputs": [
    {
     "data": {
      "text/html": [
       "<div>\n",
       "<style scoped>\n",
       "    .dataframe tbody tr th:only-of-type {\n",
       "        vertical-align: middle;\n",
       "    }\n",
       "\n",
       "    .dataframe tbody tr th {\n",
       "        vertical-align: top;\n",
       "    }\n",
       "\n",
       "    .dataframe thead th {\n",
       "        text-align: right;\n",
       "    }\n",
       "</style>\n",
       "<table border=\"1\" class=\"dataframe\">\n",
       "  <thead>\n",
       "    <tr style=\"text-align: right;\">\n",
       "      <th></th>\n",
       "      <th>did</th>\n",
       "      <th>diagnose</th>\n",
       "      <th>description</th>\n",
       "    </tr>\n",
       "  </thead>\n",
       "  <tbody>\n",
       "    <tr>\n",
       "      <th>0</th>\n",
       "      <td>1</td>\n",
       "      <td>Abdominal Aortic Aneurysm</td>\n",
       "      <td>enlarged major blood vessel</td>\n",
       "    </tr>\n",
       "    <tr>\n",
       "      <th>1</th>\n",
       "      <td>2</td>\n",
       "      <td>Abdominal Swelling</td>\n",
       "      <td>NaN</td>\n",
       "    </tr>\n",
       "    <tr>\n",
       "      <th>2</th>\n",
       "      <td>3</td>\n",
       "      <td>Abdominal Trauma</td>\n",
       "      <td>NaN</td>\n",
       "    </tr>\n",
       "    <tr>\n",
       "      <th>3</th>\n",
       "      <td>4</td>\n",
       "      <td>Abrasions</td>\n",
       "      <td>scrapes</td>\n",
       "    </tr>\n",
       "    <tr>\n",
       "      <th>4</th>\n",
       "      <td>5</td>\n",
       "      <td>ACE Inhibitor Induced Cough</td>\n",
       "      <td>blood pressure medication side effect/Drug-ind...</td>\n",
       "    </tr>\n",
       "  </tbody>\n",
       "</table>\n",
       "</div>"
      ],
      "text/plain": [
       "   did                     diagnose  \\\n",
       "0    1    Abdominal Aortic Aneurysm   \n",
       "1    2           Abdominal Swelling   \n",
       "2    3             Abdominal Trauma   \n",
       "3    4                    Abrasions   \n",
       "4    5  ACE Inhibitor Induced Cough   \n",
       "\n",
       "                                         description  \n",
       "0                        enlarged major blood vessel  \n",
       "1                                                NaN  \n",
       "2                                                NaN  \n",
       "3                                            scrapes  \n",
       "4  blood pressure medication side effect/Drug-ind...  "
      ]
     },
     "execution_count": 12,
     "metadata": {},
     "output_type": "execute_result"
    }
   ],
   "source": [
    "# df_symptoms.head()\n",
    "df_disease.head()"
   ]
  },
  {
   "cell_type": "code",
   "execution_count": 13,
   "metadata": {},
   "outputs": [],
   "source": [
    "#creating a dictionary of values with the keys being the syd indexes and the values being the symptom (index to symptom)\n",
    "symp_dict = {}\n",
    "for i in range(len(df_symptoms)):\n",
    "    symp_dict[df_symptoms.iloc[i, 0]] = df_symptoms.iloc[i, 1]"
   ]
  },
  {
   "cell_type": "code",
   "execution_count": 14,
   "metadata": {},
   "outputs": [],
   "source": [
    "#creating opposite dictionary (symptom to index)\n",
    "symp_dict2 = {}\n",
    "for i in range(len(df_symptoms)):\n",
    "    symp_dict2[df_symptoms.iloc[i, 1]] = df_symptoms.iloc[i, 0]"
   ]
  },
  {
   "cell_type": "code",
   "execution_count": 15,
   "metadata": {},
   "outputs": [],
   "source": [
    "#creating a dictionary of values with the keys being the did indexes and the values being the disease (index to disease)\n",
    "dis_dict = {}\n",
    "for i in range(len(df_disease)):\n",
    "    dis_dict[df_disease.iloc[i, 0]] = df_disease.iloc[i, 1]"
   ]
  },
  {
   "cell_type": "code",
   "execution_count": 16,
   "metadata": {},
   "outputs": [],
   "source": [
    "#creating opposite dictionary (disease to index)\n",
    "dis_dict2 = {}\n",
    "for i in range(len(df_disease)):\n",
    "    dis_dict2[df_disease.iloc[i, 1]] = df_disease.iloc[i, 0]"
   ]
  },
  {
   "cell_type": "code",
   "execution_count": 17,
   "metadata": {},
   "outputs": [],
   "source": [
    "#returns the top five diseases with matching symptoms, if ties then returns all\n",
    "def return_disease(*symptoms):\n",
    "    top_five = []\n",
    "    value_lst = []\n",
    "    per_match_dic = {}\n",
    "    for row in range(len(df_dis_sym_c)):\n",
    "        match = 0\n",
    "        total = 0\n",
    "        for symptom in symptoms:\n",
    "            lst = df_dis_sym_c.iloc[row, 1]\n",
    "            if symp_dict2[symptom] in lst:\n",
    "                match += 1\n",
    "                total += 1\n",
    "            else:\n",
    "                total += 1\n",
    "        per_match = match/total\n",
    "        disease_index = df_dis_sym_c.iloc[row, 0]\n",
    "        disease = dis_dict[disease_index]\n",
    "        per_match_dic[disease] = per_match\n",
    "    for value in per_match_dic.values():\n",
    "        value_lst.append(value)\n",
    "    value_lst = sorted(value_lst)\n",
    "    value_lst_top = value_lst[-1:-6:-1]\n",
    "    for disease, value in per_match_dic.items():\n",
    "        if value in value_lst_top:\n",
    "            top_five.append((disease, value))\n",
    "    return top_five"
   ]
  },
  {
   "cell_type": "code",
   "execution_count": 18,
   "metadata": {},
   "outputs": [
    {
     "data": {
      "text/plain": [
       "[('Alcoholism', 0.6666666666666666),\n",
       " ('Appendicitis', 0.6666666666666666),\n",
       " ('Celiac Disease', 0.6666666666666666),\n",
       " ('Cholecystitis', 0.6666666666666666),\n",
       " ('Cholelithiasis', 0.6666666666666666),\n",
       " ('Colonic Diverticulitis', 0.6666666666666666),\n",
       " ('Constipation', 0.6666666666666666),\n",
       " ('Endometriosis', 0.6666666666666666),\n",
       " ('Gastric Ulcer', 0.6666666666666666),\n",
       " ('Gastroenteritis', 0.6666666666666666),\n",
       " ('Gastroesophageal Reflux', 0.6666666666666666),\n",
       " ('Hernia', 0.6666666666666666),\n",
       " ('Inguinal Hernia', 0.6666666666666666),\n",
       " ('Irritable Bowel Syndrome', 0.6666666666666666),\n",
       " ('Ligament Sprain', 0.6666666666666666),\n",
       " ('Kidney Stone', 0.6666666666666666),\n",
       " ('Ovarian Cyst', 0.6666666666666666),\n",
       " ('Pancreatitis', 0.6666666666666666),\n",
       " ('Pancreas Inflammation', 0.6666666666666666),\n",
       " ('Pyelonephritis', 0.6666666666666666),\n",
       " ('Bladder Infection', 0.6666666666666666),\n",
       " ('Umbilical Hernia', 0.6666666666666666),\n",
       " ('Lactose Intolerance', 0.6666666666666666),\n",
       " ('Diverticulosis', 0.6666666666666666),\n",
       " ('Ventral Hernia', 0.6666666666666666)]"
      ]
     },
     "execution_count": 18,
     "metadata": {},
     "output_type": "execute_result"
    }
   ],
   "source": [
    "return_disease('Upper abdominal pain', 'Lower abdominal pain', 'Alcohol abuse')"
   ]
  },
  {
   "cell_type": "code",
   "execution_count": 19,
   "metadata": {},
   "outputs": [],
   "source": [
    "#returns the top five diseases with matching symptoms, if ties then returns all, also return id\n",
    "def return_disease2(*symptoms):\n",
    "    top_five = []\n",
    "    value_lst = []\n",
    "    per_match_dic = {}\n",
    "    for row in range(len(df_dis_sym_c)):\n",
    "        match = 0\n",
    "        total = 0\n",
    "        for symptom in symptoms:\n",
    "            lst = df_dis_sym_c.iloc[row, 1]\n",
    "            if symp_dict2[symptom] in lst:\n",
    "                match += 1\n",
    "                total += 1\n",
    "            else:\n",
    "                total += 1\n",
    "        per_match = match/total\n",
    "        disease_index = df_dis_sym_c.iloc[row, 0]\n",
    "        disease = dis_dict[disease_index]\n",
    "        per_match_dic[(disease, disease_index)] = per_match\n",
    "    for value in per_match_dic.values():\n",
    "        value_lst.append(value)\n",
    "    value_lst = sorted(value_lst)\n",
    "    value_lst_top = value_lst[-1:-6:-1]\n",
    "    for (disease, index), value in per_match_dic.items():\n",
    "        if value in value_lst_top:\n",
    "            top_five.append(((disease, index), value))\n",
    "    return top_five"
   ]
  },
  {
   "cell_type": "code",
   "execution_count": 20,
   "metadata": {},
   "outputs": [],
   "source": [
    "result = return_disease2('Upper abdominal pain', 'Lower abdominal pain', 'Alcohol abuse')"
   ]
  },
  {
   "cell_type": "code",
   "execution_count": 21,
   "metadata": {},
   "outputs": [
    {
     "name": "stdout",
     "output_type": "stream",
     "text": [
      "[(('Alcoholism', 25.0), 0.6666666666666666), (('Appendicitis', 56.0), 0.6666666666666666), (('Celiac Disease', 139.0), 0.6666666666666666), (('Cholecystitis', 163.0), 0.6666666666666666), (('Cholelithiasis', 165.0), 0.6666666666666666), (('Colonic Diverticulitis', 179.0), 0.6666666666666666), (('Constipation', 187.0), 0.6666666666666666), (('Endometriosis', 241.0), 0.6666666666666666), (('Gastric Ulcer', 306.0), 0.6666666666666666), (('Gastroenteritis', 308.0), 0.6666666666666666), (('Gastroesophageal Reflux', 309.0), 0.6666666666666666), (('Hernia', 349.0), 0.6666666666666666), (('Inguinal Hernia', 388.0), 0.6666666666666666), (('Irritable Bowel Syndrome', 401.0), 0.6666666666666666), (('Ligament Sprain', 426.0), 0.6666666666666666), (('Kidney Stone', 513.0), 0.6666666666666666), (('Ovarian Cyst', 539.0), 0.6666666666666666), (('Pancreatitis', 546.0), 0.6666666666666666), (('Pancreas Inflammation', 547.0), 0.6666666666666666), (('Pyelonephritis', 637.0), 0.6666666666666666), (('Bladder Infection', 793.0), 0.6666666666666666), (('Umbilical Hernia', 939.0), 0.6666666666666666), (('Lactose Intolerance', 988.0), 0.6666666666666666), (('Diverticulosis', 991.0), 0.6666666666666666), (('Ventral Hernia', 1115.0), 0.6666666666666666)]\n"
     ]
    }
   ],
   "source": [
    "print(result)"
   ]
  },
  {
   "cell_type": "code",
   "execution_count": 22,
   "metadata": {},
   "outputs": [],
   "source": [
    "## Defining function that returns similiar condition in the new dataset"
   ]
  },
  {
   "cell_type": "code",
   "execution_count": 27,
   "metadata": {},
   "outputs": [
    {
     "data": {
      "text/html": [
       "<div>\n",
       "<style scoped>\n",
       "    .dataframe tbody tr th:only-of-type {\n",
       "        vertical-align: middle;\n",
       "    }\n",
       "\n",
       "    .dataframe tbody tr th {\n",
       "        vertical-align: top;\n",
       "    }\n",
       "\n",
       "    .dataframe thead th {\n",
       "        text-align: right;\n",
       "    }\n",
       "</style>\n",
       "<table border=\"1\" class=\"dataframe\">\n",
       "  <thead>\n",
       "    <tr style=\"text-align: right;\">\n",
       "      <th></th>\n",
       "      <th>uniqueID</th>\n",
       "      <th>drugName</th>\n",
       "      <th>condition</th>\n",
       "      <th>review</th>\n",
       "      <th>rating</th>\n",
       "      <th>date</th>\n",
       "      <th>usefulCount</th>\n",
       "    </tr>\n",
       "  </thead>\n",
       "  <tbody>\n",
       "    <tr>\n",
       "      <th>0</th>\n",
       "      <td>206461</td>\n",
       "      <td>Valsartan</td>\n",
       "      <td>Left Ventricular Dysfunction</td>\n",
       "      <td>\"It has no side effect, I take it in combinati...</td>\n",
       "      <td>9</td>\n",
       "      <td>2012-05-20</td>\n",
       "      <td>27</td>\n",
       "    </tr>\n",
       "    <tr>\n",
       "      <th>1</th>\n",
       "      <td>95260</td>\n",
       "      <td>Guanfacine</td>\n",
       "      <td>ADHD</td>\n",
       "      <td>\"My son is halfway through his fourth week of ...</td>\n",
       "      <td>8</td>\n",
       "      <td>2010-04-27</td>\n",
       "      <td>192</td>\n",
       "    </tr>\n",
       "    <tr>\n",
       "      <th>2</th>\n",
       "      <td>92703</td>\n",
       "      <td>Lybrel</td>\n",
       "      <td>Birth Control</td>\n",
       "      <td>\"I used to take another oral contraceptive, wh...</td>\n",
       "      <td>5</td>\n",
       "      <td>2009-12-14</td>\n",
       "      <td>17</td>\n",
       "    </tr>\n",
       "    <tr>\n",
       "      <th>3</th>\n",
       "      <td>138000</td>\n",
       "      <td>Ortho Evra</td>\n",
       "      <td>Birth Control</td>\n",
       "      <td>\"This is my first time using any form of birth...</td>\n",
       "      <td>8</td>\n",
       "      <td>2015-11-03</td>\n",
       "      <td>10</td>\n",
       "    </tr>\n",
       "    <tr>\n",
       "      <th>4</th>\n",
       "      <td>35696</td>\n",
       "      <td>Buprenorphine / naloxone</td>\n",
       "      <td>Opiate Dependence</td>\n",
       "      <td>\"Suboxone has completely turned my life around...</td>\n",
       "      <td>9</td>\n",
       "      <td>2016-11-27</td>\n",
       "      <td>37</td>\n",
       "    </tr>\n",
       "  </tbody>\n",
       "</table>\n",
       "</div>"
      ],
      "text/plain": [
       "   uniqueID                  drugName                     condition  \\\n",
       "0    206461                 Valsartan  Left Ventricular Dysfunction   \n",
       "1     95260                Guanfacine                          ADHD   \n",
       "2     92703                    Lybrel                 Birth Control   \n",
       "3    138000                Ortho Evra                 Birth Control   \n",
       "4     35696  Buprenorphine / naloxone             Opiate Dependence   \n",
       "\n",
       "                                              review  rating       date  \\\n",
       "0  \"It has no side effect, I take it in combinati...       9 2012-05-20   \n",
       "1  \"My son is halfway through his fourth week of ...       8 2010-04-27   \n",
       "2  \"I used to take another oral contraceptive, wh...       5 2009-12-14   \n",
       "3  \"This is my first time using any form of birth...       8 2015-11-03   \n",
       "4  \"Suboxone has completely turned my life around...       9 2016-11-27   \n",
       "\n",
       "   usefulCount  \n",
       "0           27  \n",
       "1          192  \n",
       "2           17  \n",
       "3           10  \n",
       "4           37  "
      ]
     },
     "execution_count": 27,
     "metadata": {},
     "output_type": "execute_result"
    }
   ],
   "source": [
    "df_all.head()"
   ]
  },
  {
   "cell_type": "code",
   "execution_count": 28,
   "metadata": {},
   "outputs": [
    {
     "name": "stdout",
     "output_type": "stream",
     "text": [
      "[('Birth Control', 38436), ('Depression', 12164), ('Pain', 8245), ('Anxiety', 7812), ('Acne', 7435), ('Bipolar Disorde', 5604), ('Insomnia', 4904), ('Weight Loss', 4857), ('Obesity', 4757), ('ADHD', 4509), ('Diabetes, Type 2', 3362), ('Emergency Contraception', 3290), ('High Blood Pressure', 3104), ('Vaginal Yeast Infection', 3085), ('Abnormal Uterine Bleeding', 2744), ('Bowel Preparation', 2498), ('Smoking Cessation', 2440), ('ibromyalgia', 2370), ('Migraine', 2277), ('Anxiety and Stress', 2236), ('Major Depressive Disorde', 2131), ('Constipation', 2120), ('Chronic Pain', 1940), ('Panic Disorde', 1932), ('Migraine Prevention', 1867), ('Urinary Tract Infection', 1747), ('Muscle Spasm', 1631), ('Osteoarthritis', 1626), ('Generalized Anxiety Disorde', 1542), ('Opiate Dependence', 1477), ('Erectile Dysfunction', 1467), ('Irritable Bowel Syndrome', 1339), ('Allergic Rhinitis', 1323), ('Rheumatoid Arthritis', 1315), ('Bacterial Infection', 1252), ('Cough', 1224), (nan, 1194), ('Sinusitis', 1124), ('Nausea/Vomiting', 1013), ('GERD', 968), ('Overactive Bladde', 917), ('Hyperhidrosis', 917), ('Multiple Sclerosis', 913), ('Hepatitis C', 901), ('HIV Infection', 817), ('High Cholesterol', 817), ('Back Pain', 808), ('Restless Legs Syndrome', 805), ('Psoriasis', 796), ('Schizophrenia', 789), ('Constipation, Chronic', 770), ('Obsessive Compulsive Disorde', 752), ('Endometriosis', 750), ('Benign Prostatic Hyperplasia', 726), ('Bronchitis', 707), ('Hypogonadism, Male', 697), ('Rosacea', 694), ('Seizures', 684), ('Bacterial Vaginitis', 677), ('Asthma, Maintenance', 659), ('Narcolepsy', 658), ('Headache', 626), ('Not Listed / Othe', 592), ('Underactive Thyroid', 567), ('Onychomycosis, Toenail', 533), ('Bladder Infection', 525), ('Schizoaffective Disorde', 523), ('Social Anxiety Disorde', 522), ('Alcohol Dependence', 518), ('Herpes Simplex', 515), ('Epilepsy', 478), ('Menstrual Disorders', 477), ('Cold Sores', 472), ('Cough and Nasal Congestion', 469), ('Influenza', 467), ('Osteoporosis', 458), ('Postmenopausal Symptoms', 449), ('Psoriatic Arthritis', 436), ('Opiate Withdrawal', 434), ('Post Traumatic Stress Disorde', 432), ('Plaque Psoriasis', 430), ('Inflammatory Conditions', 406), ('Premenstrual Dysphoric Disorde', 396), ('Nasal Congestion', 390), ('Polycystic Ovary Syndrome', 387), ('Chlamydia Infection', 371), ('Breast Cance', 371), ('Pneumonia', 364), ('Neuropathic Pain', 349), ('Atrial Fibrillation', 347), ('Urticaria', 344), ('Anesthesia', 338), ('Helicobacter Pylori Infection', 337), ('COPD, Maintenance', 328), ('Hot Flashes', 322), ('Ulcerative Colitis', 313), ('Constipation, Drug Induced', 305), ('Asthma', 302), ('Alcohol Withdrawal', 285), ('Skin or Soft Tissue Infection', 281), ('Motion Sickness', 275), ('Ankylosing Spondylitis', 270), (\"Crohn's Disease, Maintenance\", 266), ('mance Anxiety', 259), ('Seizure Prevention', 254), ('Gout, Acute', 252), (\"Hashimoto's disease\", 244), ('Peripheral Neuropathy', 236), ('Atrophic Vaginitis', 235), ('Upper Respiratory Tract Infection', 235), ('Urinary Incontinence', 232), ('Diabetic Peripheral Neuropathy', 229), ('Sedation', 228), ('Allergies', 228), ('Interstitial Cystitis', 223), (\"Crohn's Disease\", 221), ('Eczema', 218), ('Atopic Dermatitis', 216), ('Trigeminal Neuralgia', 213), ('Cluster Headaches', 212), ('Herpes Simplex, Suppression', 210), ('Otitis Media', 207), ('Ovarian Cysts', 207), ('Prevention of Thromboembolism in Atrial Fibrillation', 204), ('COPD', 204), ('Borderline Personality Disorde', 201), ('Dry Eye Disease', 201), ('Bacterial Skin Infection', 191), ('Hypothyroidism, After Thyroid Removal', 188), ('Period Pain', 187), ('Diabetes, Type 1', 185), ('Diverticulitis', 185), ('Diarrhea', 179), ('Ulcerative Colitis, Active', 175), ('Prostate Cance', 170), (\"Parkinson's Disease\", 170), ('Asthma, acute', 169), ('Sciatica', 164), ('Nausea/Vomiting of Pregnancy', 161), ('Strep Throat', 158), ('Cold Symptoms', 151), ('Keratosis', 151), ('Kidney Infections', 149), ('Urinary Tract Stones', 144), ('Human Papilloma Virus', 141), ('Arrhythmia', 139), ('Non-Small Cell Lung Cance', 134), ('Edema', 134), ('Systemic Lupus Erythematosus', 132), ('Gout', 131), ('Tonsillitis/Pharyngitis', 129), ('Breast Cancer, Metastatic', 128), ('0</span> users found this comment helpful.', 128), ('Dermatitis', 128), ('Alopecia', 125), ('Renal Cell Carcinoma', 125), ('Neuralgia', 125), ('Dietary Supplementation', 124), ('Vertig', 124), ('Angina', 123), ('Hirsutism', 122), ('Autism', 121), ('Supraventricular Tachycardia', 121), ('Muscle Pain', 119), ('Hemorrhoids', 118), ('Amenorrhea', 118), ('Benign Essential Trem', 117), ('Obstructive Sleep Apnea/Hypopnea Syndrome', 117), (\"Alzheimer's Disease\", 117), ('Chronic Fatigue Syndrome', 116), ('Chronic Myelogenous Leukemia', 115), ('Prostatitis', 115), ('Rhinitis', 115), ('Heart Failure', 115), ('Allergic Reactions', 115), ('1</span> users found this comment helpful.', 114), ('Postpartum Depression', 114), ('Postherpetic Neuralgia', 114), ('Dental Abscess', 113), ('moterol)', 113), ('Premature Lab', 112), ('Anorexia', 111), ('Deep Vein Thrombosis', 110), ('Sinus Symptoms', 107), ('2</span> users found this comment helpful.', 105), ('Dysuria', 101), ('3</span> users found this comment helpful.', 101), ('Binge Eating Disorde', 101), ('Dry Skin', 100), ('Melasma', 100), ('Head Lice', 99), ('Hypertriglyceridemia', 99), ('Vitamin/Mineral Supplementation during Pregnancy/Lactation', 99), ('Psychosis', 98), ('Sexual Dysfunction, SSRI Induced', 98), ('Menorrhagia', 96), ('Hypersomnia', 95), ('Nausea/Vomiting, Chemotherapy Induced', 94), ('Conjunctivitis, Allergic', 94), ('Stomach Ulce', 93), (\"Barrett's Esophagus\", 92), ('Erosive Esophagitis', 90), ('Pseudotumor Cerebri', 90), ('Pulmonary Hypertension', 90), ('Seasonal Allergic Conjunctivitis', 89), (\"Tourette's Syndrome\", 89), ('Trichomoniasis', 89), ('Pulmonary Embolism', 88), ('emale Infertility', 87), ('4</span> users found this comment helpful.', 87), ('Prevention of Bladder infection', 86), ('Shift Work Sleep Disorde', 84), ('Light Sedation', 83), ('Chronic Idiopathic Constipation', 82), ('Keratoconjunctivitis Sicca', 80), ('High Cholesterol, Familial Heterozygous', 80), ('Conjunctivitis, Bacterial', 80), ('Cervical Dystonia', 77), ('Glaucoma, Open Angle', 75), ('atigue', 74), ('Eye Redness', 74), ('Heart Attack', 74), ('Bulimia', 74), ('Basal Cell Carcinoma', 73), ('Mania', 73), ('Skin and Structure Infection', 72), ('Diarrhea, Chronic', 71), (\"Sjogren's Syndrome\", 68), ('Reflex Sympathetic Dystrophy Syndrome', 68), ('Hyperprolactinemia', 68), ('Indigestion', 68), ('Uterine Fibroids', 66), ('Perimenopausal Symptoms', 65), ('Androgenetic Alopecia', 65), ('Acute Coronary Syndrome', 65), ('Organ Transplant, Rejection Prophylaxis', 65), ('6</span> users found this comment helpful.', 64), ('Tendonitis', 64), (\"Raynaud's Syndrome\", 63), ('Opioid-Induced Constipation', 62), ('Pruritus', 61), ('Burns, External', 60), ('Periodic Limb Movement Disorde', 60), ('min)', 60), ('Malaria Prevention', 59), ('5</span> users found this comment helpful.', 59), (\"Crohn's Disease, Acute\", 58), ('Ulcerative Colitis, Maintenance', 57), ('Constipation, Acute', 54), ('Neutropenia Associated with Chemotherapy', 54), ('Myasthenia Gravis', 53), ('Gastroparesis', 51), ('Postoperative Pain', 51), ('Dermatological Disorders', 51), ('7</span> users found this comment helpful.', 50), ('Iron Deficiency Anemia', 49), ('Paranoid Disorde', 48), ('Gastroenteritis', 48), ('Breakthrough Pain', 47), ('Primary Immunodeficiency Syndrome', 47), ('Agitated State', 46), ('Clostridial Infection', 45), ('Vulvodynia', 45), ('Lyme Disease', 45), ('Eye Redness/Itching', 44), ('Glaucoma', 43), ('acial Wrinkles', 43), ('Gouty Arthritis', 43), ('Tinnitus', 42), ('Light Anesthesia', 41), ('Human Papillomavirus Prophylaxis', 41), ('Seborrheic Dermatitis', 40), ('Temporomandibular Joint Disorde', 40), ('Colorectal Cance', 39), ('ge (amlodipine / valsartan)', 39), ('9</span> users found this comment helpful.', 39), ('8</span> users found this comment helpful.', 38), ('Mitral Valve Prolapse', 38), ('10</span> users found this comment helpful.', 38), ('Actinic Keratosis', 37), ('Oophorectomy', 37), ('Chronic Lymphocytic Leukemia', 37), ('Otitis Externa', 37), ('moterol / mometasone)', 36), ('Condylomata Acuminata', 36), ('Duodenal Ulce', 36), ('Postural Orthostatic Tachycardia Syndrome', 36), ('Extrapyramidal Reaction', 35), ('Influenza Prophylaxis', 35), ('Pneumococcal Disease Prophylaxis', 35), ('COPD, Acute', 35), ('Herpes Zoste', 35), ('Photoaging of the Skin', 35), ('Oral Thrush', 34), ('min / sitagliptin)', 34), ('Ventricular Tachycardia', 34), ('Juvenile Rheumatoid Arthritis', 34), ('Herbal Supplementation', 33), ('Tinea Versicol', 33), ('Dysautonomia', 33), ('Nocturnal Leg Cramps', 33), ('Hiccups', 33), ('Cyclic Vomiting Syndrome', 33), ('Tinea Pedis', 33), ('Inflammatory Bowel Disease', 33), ('Night Terrors', 32), ('Postoperative Ocular Inflammation', 32), ('Tinea Corporis', 31), ('Precocious Puberty', 31), ('Prevention of Osteoporosis', 31), ('Hypoestrogenism', 30), ('Insomnia, Stimulant-Associated', 30), ('Vitamin/Mineral Supplementation and Deficiency', 30), ('Ischemic Stroke, Prophylaxis', 30), ('Angina Pectoris Prophylaxis', 29), ('Labor Pain', 29), ('Atrial Flutte', 29), ('Insulin Resistance Syndrome', 29), ('Soft Tissue Sarcoma', 29), ('Swine Flu', 28), ('Allergic Urticaria', 28), ('Anemia', 28), (\"Meniere's Disease\", 28), ('Xerostomia', 27), ('Methicillin-Resistant Staphylococcus Aureus Infection', 27), ('12</span> users found this comment helpful.', 27), ('Atrophic Urethritis', 27), ('Macular Degeneration', 27), ('Left Ventricular Dysfunction', 26), ('13</span> users found this comment helpful.', 26), ('Pharyngitis', 26), ('Malaria', 26), ('Uveitis', 26), ('Gas', 26), ('Bone infection', 26), ('Skin Cance', 26), ('Hyperphosphatemia of Renal Failure', 26), ('Breast Cancer, Adjuvant', 25), ('Pseudobulbar Affect', 25), (\"Non-Hodgkin's Lymphoma\", 25), ('Lennox-Gastaut Syndrome', 25), ('Vitamin D Deficiency', 25), ('Nightmares', 25), ('Diaper Rash', 24), ('Nausea/Vomiting, Postoperative', 24), ('Hereditary Angioedema', 24), ('Melanoma, Metastatic', 24), ('Burning Mouth Syndrome', 24), ('Juvenile Idiopathic Arthritis', 24), ('Chronic Spasticity', 24), ('Onychomycosis, Fingernail', 24), ('Diabetic Kidney Disease', 24), ('Ovulation Induction', 24), ('Benzodiazepine Withdrawal', 24), ('Undifferentiated Connective Tissue Disease', 23), ('Myelodysplastic Syndrome', 23), ('Tinea Cruris', 23), ('Giardiasis', 22), ('15</span> users found this comment helpful.', 22), ('Diagnosis and Investigation', 22), ('Cutaneous Candidiasis', 22), ('Progesterone Insufficiency', 21), ('Diabetes Insipidus', 21), ('Intraocular Hypertension', 21), ('Chronic Pancreatitis', 21), ('zen Shoulde', 21), ('Surgical Prophylaxis', 20), ('Hepatitis B', 20), ('Multiple Myeloma', 20), ('Deep Vein Thrombosis, Prophylaxis', 20), ('Lactose Intolerance', 20), ('Primary Ovarian Failure', 19), ('Asperger Syndrome', 19), ('Cystic Fibrosis', 19), ('Conjunctivitis', 19), ('Lyme Disease, Neurologic', 19), ('Seasonal Affective Disorde', 19), ('17</span> users found this comment helpful.', 19), ('Premenstrual Syndrome', 19), ('14</span> users found this comment helpful.', 18), ('Dyspareunia', 18), ('Ovarian Cance', 18), ('Autoimmune Hepatitis', 18), ('Nasal Polyps', 17), ('High Cholesterol, Familial Homozygous', 17), ('Computed Tomography', 17), ('Anal Fissure and Fistula', 17), ('Hyperlipoproteinemia Type IIa, Elevated LDL', 17), ('Trichotillomania', 16), ('Hyperlipoproteinemia', 16), (\"Behcet's Disease\", 16), ('Streptococcal Infection', 16), ('16</span> users found this comment helpful.', 16), ('Pancreatic Cance', 16), ('Vitamin B12 Deficiency', 16), ('Herpes Simplex, Mucocutaneous/Immunocompetent Host', 16), ('eve', 16), ('18</span> users found this comment helpful.', 16), ('Expectoration', 16), ('Hepatic Encephalopathy', 16), ('Osteolytic Bone Metastases of Solid Tumors', 15), ('Hyperthyroidism', 15), ('TSH Suppression', 15), ('Opioid Overdose', 15), ('Dystonia', 15), ('Skin Rash', 15), ('New Daily Persistent Headache', 15), ('mulation) (phenylephrine)', 15), ('Bronchospasm Prophylaxis', 15), ('Secondary Hyperparathyroidism', 15), ('Intermittent Claudication', 15), ('Persistent Depressive Disorde', 15), ('Ischemic Stroke', 15), ('Diarrhea, Acute', 15), ('Pancreatic Exocrine Dysfunction', 15), ('20</span> users found this comment helpful.', 15), ('Lichen Sclerosus', 15), ('Bursitis', 14), ('Pain/Feve', 14), ('11</span> users found this comment helpful.', 14), ('Hypertensive Emergency', 14), ('min / saxagliptin)', 14), ('Post-Cholecystectomy Diarrhea', 14), ('Idiopathic Thrombocytopenic Purpura', 14), ('Anemia Associated with Chronic Renal Failure', 14), ('Agitation', 14), ('Thyroid Cance', 14), ('Lichen Planus', 14), ('Prevention of Cardiovascular Disease', 14), ('Dermatologic Lesion', 14), ('Bronchiectasis', 13), ('Impetig', 13), (\"Addison's Disease\", 13), ('Opiate Adjunct', 13), ('Labor Induction', 13), ('Scabies', 13), (\"Traveler's Diarrhea\", 13), ('Tuberculosis, Latent', 13), ('Menopausal Disorders', 13), ('Ulcerative Proctitis', 13), ('Pinworm Infection (Enterobius vermicularis)', 13), ('Lactation Augmentation', 13), ('Pelvic Inflammatory Disease', 13), ('Polycythemia Vera', 12), ('Local Anesthesia', 12), ('Perioral Dermatitis', 12), ('Chronic Myofascial Pain', 12), ('23</span> users found this comment helpful.', 12), ('21</span> users found this comment helpful.', 12), ('Pediatric Growth Hormone Deficiency', 12), ('Gastrointestinal Stromal Tum', 12), ('Adult Human Growth Hormone Deficiency', 11), ('Prevention of Dental Caries', 11), ('Mucositis', 11), ('Bacterial Endocarditis Prevention', 11), ('lic Acid Deficiency', 11), ('Prevention of Hypokalemia', 11), ('Deep Vein Thrombosis, First Event', 11), ('Biliary Cirrhosis', 11), ('Hypoparathyroidism', 11), ('19</span> users found this comment helpful.', 11), ('Costochondritis', 11), ('Deep Vein Thrombosis, Recurrent Event', 11), ('Gingivitis', 11), ('Intraabdominal Infection', 11), ('Mountain Sickness / Altitude Sickness', 11), ('Adrenocortical Insufficiency', 11), ('Lymphoma', 11), ('Sore Throat', 10), ('Dermatomyositis', 10), ('Spondylolisthesis', 10), ('Ophthalmic Surgery', 10), ('Lipodystrophy', 10), ('Macular Edema', 10), ('Body Dysmorphic Disorde', 10), ('Dandruff', 10), ('Endometrial Cance', 10), ('Peptic Ulce', 10), ('Diabetic Macular Edema', 10), ('NSAID-Induced Gastric Ulce', 10), (\"von Willebrand's Disease\", 10), ('Spondyloarthritis', 9), ('Pulmonary Embolism, Recurrent Event', 9), ('Status Epilepticus', 9), ('Sarcoidosis', 9), ('Noninfectious Colitis', 9), ('Iritis', 9), ('Performance Anxiety', 9), ('Abortion', 9), ('Endometrial Hyperplasia', 9), ('Nasal Carriage of Staphylococcus aureus', 9), ('B12 Nutritional Deficiency', 9), ('Dietary Fiber Supplementation', 9), ('Auditory Processing Disorde', 9), ('Breast Cancer, Prevention', 9), ('25</span> users found this comment helpful.', 9), ('Bleeding Disorde', 9), ('Pe', 9), ('Infection Prophylaxis', 9), ('Systemic Mastocytosis', 8), ('Premature Ventricular Depolarizations', 8), ('Cataplexy', 8), ('Immunosuppression', 8), ('Anemia, Sickle Cell', 8), ('Reversal of Opioid Sedation', 8), ('Lyme Disease, Arthritis', 8), ('Candidemia', 8), ('Hypoactive Sexual Desire Disorde', 8), ('Dumping Syndrome', 8), ('Ear Wax Impaction', 8), ('Hepatocellular Carcinoma', 8), ('Head and Neck Cance', 8), ('Thrombocythemia', 8), ('Osteolytic Bone Lesions of Multiple Myeloma', 8), ('Atherosclerosis', 8), ('Primary Nocturnal Enuresis', 8), ('Mild Cognitive Impairment', 8), ('Brain Tum', 8), (\"Wegener's Granulomatosis\", 8), (\"Still's Disease\", 8), ('Bullous Pemphigoid', 8), ('39</span> users found this comment helpful.', 8), ('Mycobacterium avium-intracellulare, Treatment', 8), ('Glioblastoma Multiforme', 7), ('Cance', 7), ('Pupillary Dilation', 7), ('27</span> users found this comment helpful.', 7), ('Herpes Simplex, Mucocutaneous/Immunocompromised Host', 7), ('Dermatophytosis', 7), ('AIDS Related Wasting', 7), ('Anal Itching', 7), ('Gastritis/Duodenitis', 7), ('Nephrotic Syndrome', 7), ('Gonococcal Infection, Uncomplicated', 7), ('Tinea Capitis', 7), ('Herpes Zoster, Prophylaxis', 7), ('Varicella-Zoste', 7), ('Pulmonary Embolism, First Event', 7), ('33</span> users found this comment helpful.', 7), ('Glioblastoma Multi', 7), ('Ventricular Fibrillation', 7), ('Periodontitis', 7), ('Hypercalcemia of Malignancy', 7), ('Deep Neck Infection', 7), ('Gastric Ulcer Maintenance Treatment', 7), ('Hypocalcemia', 7), ('NSAID-Induced Ulcer Prophylaxis', 6), ('Acute Lymphoblastic Leukemia', 6), ('Carcinoid Tum', 6), ('Women (oxybutynin)', 6), ('Candida Urinary Tract Infection', 6), ('Lymphocytic Colitis', 6), ('Herpes Simplex Dendritic Keratitis', 6), ('Aphthous Ulce', 6), ('amilial Mediterranean Feve', 6), ('Transient Ischemic Attack', 6), ('Leukemia', 6), ('41</span> users found this comment helpful.', 6), ('Rhinorrhea', 6), ('Primary Hyperaldosteronism', 6), ('Peripheral Arterial Disease', 6), ('CMV Prophylaxis', 6), ('ICU Agitation', 6), ('32</span> users found this comment helpful.', 6), ('Cyclothymic Disorde', 6), ('Hidradenitis Suppurativa', 6), ('29</span> users found this comment helpful.', 6), ('Melanoma', 6), ('Peritonitis', 6), ('Pre-Exposure Prophylaxis', 6), ('Amebiasis', 6), ('Hypotension', 6), ('Gastrointestinal Decontamination', 6), ('Skin Disinfection, Preoperative', 6), ('Head Injury', 6), ('Alpha-1 Proteinase Inhibitor Deficiency', 6), ('Anaplastic Oligodendroglioma', 5), ('Endometrial Hyperplasia, Prophylaxis', 5), ('Warts', 5), ('Hypokalemia', 5), ('28</span> users found this comment helpful.', 5), ('Cerebral Spasticity', 5), ('Pudendal Neuralgia', 5), (\"Reiter's Syndrome\", 5), ('Cardiovascular Risk Reduction', 5), ('Topical Disinfection', 5), ('mis', 5), ('Eosinophilic Esophagitis', 5), ('Enterocolitis', 5), (\"Turner's Syndrome\", 5), ('Deep Vein Thrombosis Prophylaxis after Hip Replacement Surgery', 5), ('Glaucoma/Intraocular Hypertension', 5), ('Hyperekplexia', 5), ('Eyelash Hypotrichosis', 5), ('min / pioglitazone)', 5), ('Gout, Prophylaxis', 5), ('Prevention of Atherothrombotic Events', 5), ('Hypomagnesemia', 5), ('Oral and Dental Conditions', 5), ('Antiphospholipid Syndrome', 5), ('Thromboembolic Stroke Prophylaxis', 5), ('Dementia', 5), ('SIADH', 5), ('cal Segmental Glomerulosclerosis', 5), ('24</span> users found this comment helpful.', 5), ('Oligospermia', 5), ('36</span> users found this comment helpful.', 5), ('Percutaneous Coronary Intervention', 5), ('Nonoccupational Exposure', 5), ('Uterine Bleeding', 5), ('Occipital Neuralgia', 5), ('Paroxysmal Supraventricular Tachycardia', 4), ('Nephrocalcinosis', 4), ('Prosthetic Heart Valves, Mechanical Valves - Thrombosis Prophylaxis', 4), ('Liver Magnetic Resonance Imaging', 4), ('Granuloma Annulare', 4), ('Porphyria', 4), ('Wolff-Parkinson-White Syndrome', 4), ('Anesthetic Adjunct', 4), ('Systemic Sclerosis', 4), ('Hemophilia A', 4), ('Autoimmune Hemolytic Anemia', 4), ('amilial Cold Autoinflammatory Syndrome', 4), ('CNS Magnetic Resonance Imaging', 4), (\"Dercum's Disease\", 4), ('44</span> users found this comment helpful.', 4), ('Nausea/Vomiting, Radiation Induced', 4), ('Submental Fullness', 4), ('ge HCT (amlodipine / hydrochlorothiazide / valsartan)', 4), ('Histoplasmosis', 4), ('Hypoglycemia', 4), ('31</span> users found this comment helpful.', 4), ('Peripheral T-cell Lymphoma', 4), ('Chronic Inflammatory Demyelinating Polyradiculoneuropathy', 4), ('Platelet Aggregation Inhibition', 4), ('Ascariasis', 4), ('Acute Promyelocytic Leukemia', 4), ('Hyperkalemia', 4), ('Cutaneous T-cell Lymphoma', 4), ('Sunburn', 4), ('Squamous Cell Carcinoma', 4), ('22</span> users found this comment helpful.', 4), ('Neck Pain', 4), ('actor IX Deficiency', 4), ('Esophageal Variceal Hemorrhage Prophylaxis', 4), ('Gender Dysphoria', 4), ('Pemphigus', 4), ('55</span> users found this comment helpful.', 4), (\"Paget's Disease\", 4), ('Breast Cancer, Palliative', 4), ('Anaplastic Astrocytoma', 4), (\"Dupuytren's contracture\", 4), ('43</span> users found this comment helpful.', 4), ('Stress Ulcer Prophylaxis', 4), ('Schnitzler Syndrome', 4), ('STD Prophylaxis', 4), ('Anemia, Chemotherapy Induced', 4), ('llicle Stimulation', 4), ('Urinary Retention', 3), ('Endoscopy or Radiology Premedication', 3), ('Pseudomembranous Colitis', 3), ('Lewy Body Dementia', 3), ('Neurosurgery', 3), ('35</span> users found this comment helpful.', 3), ('Aspiration Pneumonia', 3), ('Dientamoeba fragilis', 3), ('Ectopic Pregnancy', 3), ('tic (mycophenolic acid)', 3), ('ailure to Thrive', 3), ('Tuberculosis, Prophylaxis', 3), ('m Pain Disorde', 3), ('Esophageal Candidiasis', 3), ('Ichthyosis', 3), ('Small Fiber Neuropathy', 3), ('Rejection Prophylaxis', 3), ('Varicose Veins', 3), ('Mononucleosis', 3), ('Ocular Rosacea', 3), ('Severe Mood Dysregulation', 3), ('Small Bowel Bacterial Overgrowth', 3), ('Anorexia/Feeding Problems', 3), ('34</span> users found this comment helpful.', 3), ('Anthrax', 3), ('Pertussis', 3), ('Pityriasis rubra pilaris', 3), ('Mixed Connective Tissue Disease', 3), ('Hyperphosphatemia', 3), ('Gallbladder Disease', 3), ('Meningitis', 3), ('Blepharitis', 3), ('Coronary Artery Disease', 3), ('51</span> users found this comment helpful.', 3), ('Mycoplasma Pneumonia', 3), ('Aplastic Anemia', 3), ('142</span> users found this comment helpful.', 2), ('Schistosoma japonicum', 2), ('Avian Influenza', 2), ('Muscle Twitching', 2), ('Gaucher Disease', 2), ('75</span> users found this comment helpful.', 2), ('Prosthetic Heart Valves, Tissue Valves - Thrombosis Prophylaxis', 2), ('Giant Cell Tumor of Bone', 2), ('Babesiosis', 2), ('Dissociative Identity Disorde', 2), ('t Pac with Cyclobenzaprine (cyclobenzaprine)', 2), ('Hypodermoclysis', 2), ('Syringomyelia', 2), ('Intermittent Explosive Disorde', 2), ('Tic Disorde', 2), ('Malignant Glioma', 2), ('Strongyloidiasis', 2), ('Vitamin K Deficiency', 2), ('Neurosis', 2), ('Toothache', 2), ('Deep Vein Thrombosis Prophylaxis after Knee Replacement Surgery', 2), ('Typhoid Feve', 2), ('Tardive Dyskinesia', 2), ('Niacin Deficiency', 2), ('Schilling Test', 2), ('Renal Transplant', 2), ('min / rosiglitazone)', 2), (\"Peyronie's Disease\", 2), ('Radionuclide Myocardial Perfusion Study', 2), ('Croup', 2), ('85</span> users found this comment helpful.', 2), ('Hyperlipoproteinemia Type IV, Elevated VLDL', 2), ('Abdominal Distension', 2), ('Salivary Gland Cance', 2), ('46</span> users found this comment helpful.', 2), ('Hairy Cell Leukemia', 2), ('Tetanus', 2), ('Pathological Hypersecretory Conditions', 2), ('Ventricular Arrhythmia', 2), ('Sleep Paralysis', 2), ('Delayed Puberty, Male', 2), ('Hypokalemic Periodic Paralysis', 2), ('Cachexia', 2), ('Angioedema', 2), ('Myxedema Coma', 2), ('Parkinsonism', 2), ('Thyrotoxicosis', 2), ('Epididymitis, Sexually Transmitted', 2), ('Thrombocytopenia', 2), ('Cholera', 2), ('45</span> users found this comment helpful.', 2), ('Nonalcoholic Fatty Liver Disease', 2), ('Body Imaging', 2), ('Aggressive Behavi', 2), ('Hepatic Tum', 2), ('Ehrlichiosis', 2), ('Anaphylaxis', 2), ('Postoperative Increased Intraocular Pressure', 2), ('t Care', 2), ('Myelofibrosis', 2), ('Campylobacter Gastroenteritis', 2), ('Euvolemic Hyponatremia', 2), ('Oppositional Defiant Disorde', 2), ('acial Lipoatrophy', 2), ('Gonadotropin Inhibition', 2), ('Chronic Eosinophilic Leukemia', 2), ('Acetaminophen Overdose', 2), ('Duodenal Ulcer Prophylaxis', 2), ('Stomach Cance', 2), ('Reversal of Nondepolarizing Muscle Relaxants', 2), ('Solid Tumors', 2), ('mist (', 2), ('Meningococcal Meningitis Prophylaxis', 2), ('Nocardiosis', 2), ('Hemophilia B', 2), ('42</span> users found this comment helpful.', 2), ('Gonococcal Infection, Disseminated', 2), ('Keratitis', 2), ('99</span> users found this comment helpful.', 2), ('me', 2), ('Small Bowel or Pancreatic Fistula', 2), ('74</span> users found this comment helpful.', 2), ('Cerebral Edema', 2), ('Testicular Cance', 2), ('Aspergillosis, Aspergilloma', 2), ('Pemphigoid', 2), ('Hyperparathyroidism Secondary to Renal Impairment', 2), ('Cutaneous Larva Migrans', 2), ('Joint Infection', 2), ('Strabismus', 2), ('Organ Transplant, Rejection Reversal', 2), ('Leukocytoclastic Vasculitis', 2), ('ibrocystic Breast Disease', 2), ('Coccidioidomycosis', 2), ('Cyclitis', 2), ('Upper Limb Spasticity', 2), ('Subarachnoid Hemorrhage', 2), ('Myeloproliferative Disorders', 2), ('Zollinger-Ellison Syndrome', 2), ('Acute Nonlymphocytic Leukemia', 2), ('Neutropenia', 2), ('Polymyositis/Dermatomyositis', 2), ('Corneal Refractive Surgery', 2), ('Gastrointestinal Hemorrhage', 2), ('Bacteremia', 2), ('Salmonella Gastroenteritis', 2), ('Occupational Exposure', 2), ('Mantle Cell Lymphoma', 2), ('Renal Tubular Acidosis', 2), ('Acute Otitis Externa', 2), ('Dermatitis Herpetiformis', 1), ('94</span> users found this comment helpful.', 1), ('Hemangioma', 1), ('Thyroid Suppression Test', 1), ('54</span> users found this comment helpful.', 1), ('Amyotrophic Lateral Sclerosis', 1), ('79</span> users found this comment helpful.', 1), ('Epicondylitis, Tennis Elbow', 1), ('Dermatitis Herpeti', 1), ('Secondary Cutaneous Bacterial Infections', 1), ('Hyperuricemia Secondary to Chemotherapy', 1), ('Systemic Candidiasis', 1), ('Klinefelter Syndrome', 1), ('Portal Hypertension', 1), ('Pseudogout, Prophylaxis', 1), ('64</span> users found this comment helpful.', 1), ('Neuritis', 1), ('146</span> users found this comment helpful.', 1), ('Q Feve', 1), ('110</span> users found this comment helpful.', 1), ('llicular Lymphoma', 1), ('Primary Hyperaldosteronism Diagnosis', 1), ('Postpartum Breast Pain', 1), ('Women (minoxidil)', 1), ('Asystole', 1), ('Bartonellosis', 1), ('48</span> users found this comment helpful.', 1), ('Transverse Myelitis', 1), ('30</span> users found this comment helpful.', 1), ('63</span> users found this comment helpful.', 1), ('AV Heart Block', 1), (\"Wilson's Disease\", 1), ('Sepsis', 1), ('Hypopituitarism', 1), ('Infectious Diarrhea', 1), ('Multiple Endocrine Adenomas', 1), ('Pruritus of Partial Biliary Obstruction', 1), ('Meningitis, Meningococcal', 1), ('Parkinsonian Trem', 1), ('Rabies Prophylaxis', 1), ('98</span> users found this comment helpful.', 1), ('Somatoform Pain Disorde', 1), ('Esophageal Spasm', 1), ('Wound Cleansing', 1), ('84</span> users found this comment helpful.', 1), ('Legionella Pneumonia', 1), ('Hydrocephalus', 1), ('Hyperlipoproteinemia Type III, Elevated beta-VLDL   IDL', 1), ('40</span> users found this comment helpful.', 1), ('Mumps Prophylaxis', 1), ('Hyperbilirubinemia', 1), ('Corneal Ulce', 1), ('Hepatitis B Prevention', 1), ('Tuberculosis, Active', 1), ('Cerebrovascular Insufficiency', 1), ('Anti NMDA Receptor Encephalitis', 1), ('72</span> users found this comment helpful.', 1), ('unctional Gastric Disorde', 1), ('Paragonimus westermani, Lung Fluke', 1), (\"Cogan's Syndrome\", 1), ('Sporotrichosis', 1), ('Cluster-Tic Syndrome', 1), ('Gestational Diabetes', 1), ('26</span> users found this comment helpful.', 1), ('Microscopic polyangiitis', 1), ('Neurotic Depression', 1), (\"Hodgkin's Lymphoma\", 1), ('123</span> users found this comment helpful.', 1), ('Prevention of Perinatal Group B Streptococcal Disease', 1), ('Short Stature for Age', 1), ('47</span> users found this comment helpful.', 1), ('76</span> users found this comment helpful.', 1), ('Ramsay Hunt Syndrome', 1), ('Patent Ductus Arteriosus', 1), ('77</span> users found this comment helpful.', 1), ('Manscaping Pain', 1), ('Gastric Cance', 1), ('121</span> users found this comment helpful.', 1), ('ungal Infection Prophylaxis', 1), ('Short Stature', 1), ('Hypercalcemia', 1), ('95</span> users found this comment helpful.', 1), ('61</span> users found this comment helpful.', 1), ('Diagnostic Bronchograms', 1), ('Neoplastic Diseases', 1), ('Linear IgA Disease', 1), ('ungal Pneumonia', 1), ('145</span> users found this comment helpful.', 1), ('Scleroderma', 1), ('Tinea Barbae', 1), ('62</span> users found this comment helpful.', 1), ('92</span> users found this comment helpful.', 1), ('Rat-bite Feve', 1), ('Uveitis, Posteri', 1), ('Premature Ejaculation', 1), ('Jet Lag', 1), ('Myotonia Congenita', 1), ('Hemorrhoids (pramoxine / zinc oxide)', 1), ('Somat', 1), ('37</span> users found this comment helpful.', 1), ('Nausea (phosphorated carbohydrate solution)', 1), ('83</span> users found this comment helpful.', 1), ('Tympanostomy Tube Placement Surgery', 1), ('Pulmonary Edema', 1), ('70</span> users found this comment helpful.', 1), ('Lyme Disease, Erythema Chronicum Migrans', 1), ('100</span> users found this comment helpful.', 1), ('Yellow Fever Prophylaxis', 1), ('Steroid Responsive Inflammatory Conditions', 1), ('135</span> users found this comment helpful.', 1), ('38</span> users found this comment helpful.', 1), ('Pertussis Prophylaxis', 1), ('105</span> users found this comment helpful.', 1)]\n"
     ]
    }
   ],
   "source": [
    "\n",
    "from collections import Counter \n",
    "\n",
    "counter = Counter(df_all['condition'])\n",
    "\n",
    "conditions = counter.most_common()\n",
    "\n",
    "print(conditions)\n",
    "\n"
   ]
  },
  {
   "cell_type": "code",
   "execution_count": 75,
   "metadata": {},
   "outputs": [
    {
     "name": "stdout",
     "output_type": "stream",
     "text": [
      "['Alcoholism', 'Appendicitis', 'Celiac Disease', 'Cholecystitis', 'Cholelithiasis', 'Colonic Diverticulitis', 'Constipation', 'Endometriosis', 'Gastric Ulcer', 'Gastroenteritis', 'Gastroesophageal Reflux', 'Hernia', 'Inguinal Hernia', 'Irritable Bowel Syndrome', 'Ligament Sprain', 'Kidney Stone', 'Ovarian Cyst', 'Pancreatitis', 'Pancreas Inflammation', 'Pyelonephritis', 'Bladder Infection', 'Umbilical Hernia', 'Lactose Intolerance', 'Diverticulosis', 'Ventral Hernia']\n"
     ]
    }
   ],
   "source": [
    "conlist = []\n",
    "reslist= []\n",
    "for i in range(0,len(conditions)):\n",
    "    conlist.append(conditions[i][0])\n",
    "\n",
    "for i in range(0,len(result)):\n",
    "    reslist.append(result[i][0][0])\n",
    "\n",
    "print(reslist)"
   ]
  },
  {
   "cell_type": "code",
   "execution_count": 30,
   "metadata": {},
   "outputs": [
    {
     "name": "stdout",
     "output_type": "stream",
     "text": [
      "[(('Alcoholism', 25.0), 0.6666666666666666), (('Appendicitis', 56.0), 0.6666666666666666), (('Celiac Disease', 139.0), 0.6666666666666666), (('Cholecystitis', 163.0), 0.6666666666666666), (('Cholelithiasis', 165.0), 0.6666666666666666), (('Colonic Diverticulitis', 179.0), 0.6666666666666666), (('Constipation', 187.0), 0.6666666666666666), (('Endometriosis', 241.0), 0.6666666666666666), (('Gastric Ulcer', 306.0), 0.6666666666666666), (('Gastroenteritis', 308.0), 0.6666666666666666), (('Gastroesophageal Reflux', 309.0), 0.6666666666666666), (('Hernia', 349.0), 0.6666666666666666), (('Inguinal Hernia', 388.0), 0.6666666666666666), (('Irritable Bowel Syndrome', 401.0), 0.6666666666666666), (('Ligament Sprain', 426.0), 0.6666666666666666), (('Kidney Stone', 513.0), 0.6666666666666666), (('Ovarian Cyst', 539.0), 0.6666666666666666), (('Pancreatitis', 546.0), 0.6666666666666666), (('Pancreas Inflammation', 547.0), 0.6666666666666666), (('Pyelonephritis', 637.0), 0.6666666666666666), (('Bladder Infection', 793.0), 0.6666666666666666), (('Umbilical Hernia', 939.0), 0.6666666666666666), (('Lactose Intolerance', 988.0), 0.6666666666666666), (('Diverticulosis', 991.0), 0.6666666666666666), (('Ventral Hernia', 1115.0), 0.6666666666666666)]\n"
     ]
    }
   ],
   "source": [
    "print(result)"
   ]
  },
  {
   "cell_type": "code",
   "execution_count": 78,
   "metadata": {},
   "outputs": [
    {
     "name": "stdout",
     "output_type": "stream",
     "text": [
      "[['Alcohol Withdrawal', 57, 0], ['Sarcoidosis', 57, 0], ['Tendonitis', 64, 1], ['Meningitis', 64, 1], [\"Behcet's Disease\", 67, 2], ['Hepatitis C', 67, 3], ['Ichthyosis', 58, 4], ['Diverticulitis', 78, 5], ['Constipation', 100, 6], ['Endometriosis', 100, 7], ['Peptic Ulce', 67, 8], ['Gastroenteritis', 100, 9], ['Esophageal Spasm', 56, 10], ['Hypersomnia', 71, 11], ['Trigeminal Neuralgia', 63, 12], ['Irritable Bowel Syndrome', 100, 13], ['Light Sedation', 62, 14], ['Indigestion', 61, 15], ['Ovarian Cysts', 96, 16], ['Chronic Pancreatitis', 75, 17], ['Vaginal Yeast Infection', 59, 18], ['Postoperative Ocular Inflammation', 59, 18], ['Blepharitis', 72, 19], ['Bladder Infection', 100, 20], ['Head Lice', 56, 21], ['Local Anesthesia', 56, 21], ['Lactose Intolerance', 100, 22], ['Diverticulitis', 86, 23], ['Ventricular Tachycardia', 59, 24]]\n"
     ]
    }
   ],
   "source": [
    "from fuzzywuzzy import fuzz\n",
    "\n",
    "\n",
    "\n",
    "conlist = [i for i in conlist if type(i) is not float]\n",
    "\n",
    "\n",
    "val = []\n",
    "finallist = []\n",
    "finallistindex  = []\n",
    "for x in range(0,len(reslist)):\n",
    "    val= []\n",
    "    for y in range(0,len(conlist)):\n",
    "        val.append(fuzz.token_sort_ratio(reslist[x],conlist[y]))\n",
    "    values = np.array(val)\n",
    "    searchval = max(val)\n",
    "    ii = np.where(values == searchval)[0]\n",
    "    for n in ii:\n",
    "        finallist.append([conlist[n],val[n],x])\n",
    "        \n",
    "        \n",
    "        \n",
    "        \n",
    "        \n",
    "print(finallist)        "
   ]
  },
  {
   "cell_type": "code",
   "execution_count": null,
   "metadata": {},
   "outputs": [],
   "source": []
  },
  {
   "cell_type": "code",
   "execution_count": 86,
   "metadata": {},
   "outputs": [],
   "source": [
    "from fuzzywuzzy import fuzz\n",
    "\n",
    "#input shuens list and the list of all the conditions in the df\n",
    "def datatrsf(diseases, newconlist):\n",
    "    reslist=[]\n",
    "    for i in range(0,len(diseases)):\n",
    "        reslist.append(diseases[i][0][0])\n",
    "    \n",
    "    \n",
    "    \n",
    "    val = []\n",
    "    finallist = []\n",
    "    finallistindex  = []\n",
    "    for x in range(0,len(reslist)):\n",
    "        val= []\n",
    "        for y in range(0,len(newconlist)):\n",
    "            val.append(fuzz.partial_ratio(reslist[x],newconlist[y]))\n",
    "        values = np.array(val)\n",
    "        searchval = max(val)\n",
    "        ii = np.where(values == searchval)[0]\n",
    "        for n in ii:\n",
    "            finallist.append([newconlist[n],val[n],x])\n",
    "            \n",
    "        \n",
    "\n",
    "        \n",
    "        \n",
    "        \n",
    "    return finallist\n",
    "\n",
    "           "
   ]
  },
  {
   "cell_type": "code",
   "execution_count": 99,
   "metadata": {},
   "outputs": [],
   "source": [
    "\n",
    "\n",
    "#input shuen's list and the output from datatrsf\n",
    "def datatrsf1(diseases , firstout):\n",
    "    display = []\n",
    "    reslist=[]\n",
    "    for i in range(0,len(diseases)):\n",
    "        reslist.append(diseases[i][0][0])\n",
    "        \n",
    "    if(len(reslist)>5):\n",
    "        for p in range(0,len(firstout)):\n",
    "                constr = firstout[p][0]\n",
    "                if(fuzz.ratio(constr, reslist[firstout[p][2]])>65):\n",
    "                    display.append(firstout[p])\n",
    "        if(len(display)<3):\n",
    "            return firstout\n",
    "    else:\n",
    "        return firstout\n",
    "    \n",
    "    return display"
   ]
  },
  {
   "cell_type": "code",
   "execution_count": 119,
   "metadata": {},
   "outputs": [],
   "source": [
    "def outputclean(out):\n",
    "    new_list = []\n",
    "    for i in range(len(out)):\n",
    "        if (out[i][0] != 'me'):\n",
    "            new_list.append(out[i])\n",
    "    return new_list"
   ]
  },
  {
   "cell_type": "code",
   "execution_count": 124,
   "metadata": {},
   "outputs": [],
   "source": [
    "# outputclean([('me', 'gay'),('y,this,', 'noob'),('me', 'ur mom')])"
   ]
  },
  {
   "cell_type": "code",
   "execution_count": 129,
   "metadata": {},
   "outputs": [
    {
     "data": {
      "text/plain": [
       "[['Diverticulitis', 100, 5],\n",
       " ['Constipation', 100, 6],\n",
       " ['Constipation, Chronic', 100, 6],\n",
       " ['Constipation, Acute', 100, 6],\n",
       " ['Endometriosis', 100, 7],\n",
       " ['Gastroenteritis', 100, 9],\n",
       " ['Campylobacter Gastroenteritis', 100, 9],\n",
       " ['Salmonella Gastroenteritis', 100, 9],\n",
       " ['Irritable Bowel Syndrome', 100, 13],\n",
       " ['Kidney Infections', 75, 15],\n",
       " ['Ovarian Cysts', 100, 16],\n",
       " ['Chronic Pancreatitis', 100, 17],\n",
       " ['Bladder Infection', 100, 20],\n",
       " ['Lactose Intolerance', 100, 22],\n",
       " ['Diverticulitis', 86, 23]]"
      ]
     },
     "execution_count": 129,
     "metadata": {},
     "output_type": "execute_result"
    }
   ],
   "source": [
    "out = datatrsf1(result, outputclean(datatrsf(result, conlist)))\n",
    "out"
   ]
  },
  {
   "cell_type": "code",
   "execution_count": 135,
   "metadata": {},
   "outputs": [],
   "source": [
    "def get_prob(result, new_list):\n",
    "    for i in range(len(new_list)):\n",
    "        num = new_list[i][2]\n",
    "        new_list[i].append(result[num][1])\n",
    "    for i in range(len(new_list)):\n",
    "        del new_list[i][2]\n",
    "        del new_list[i][1]\n",
    "    return new_list"
   ]
  },
  {
   "cell_type": "code",
   "execution_count": null,
   "metadata": {},
   "outputs": [],
   "source": []
  },
  {
   "cell_type": "code",
   "execution_count": 95,
   "metadata": {
    "scrolled": true
   },
   "outputs": [],
   "source": [
    "# from collections import Counter \n",
    "\n",
    "# counter = Counter(df_all['condition'])\n",
    "\n",
    "# conditions = counter.most_common()\n",
    "\n",
    "\n",
    "\n",
    "# conlist = []\n",
    "# for i in range(0,len(conditions)):\n",
    "#     conlist.append(conditions[i][0])\n",
    "\n",
    "\n",
    "# conlist = [i for i in conlist if type(i) is not float]\n",
    "\n",
    "# finaloutput = datatrsf(result, conlist)\n",
    "\n",
    "\n",
    "# print(finaloutput)\n"
   ]
  },
  {
   "cell_type": "code",
   "execution_count": 63,
   "metadata": {
    "scrolled": true
   },
   "outputs": [],
   "source": [
    "# reslist"
   ]
  },
  {
   "cell_type": "code",
   "execution_count": 41,
   "metadata": {},
   "outputs": [],
   "source": [
    "def return_disease2(*symptoms):\n",
    "    top_five = []\n",
    "    value_lst = []\n",
    "    per_match_dic = {}\n",
    "    for row in range(len(df_dis_sym_c)):\n",
    "        match = 0\n",
    "        total = 0\n",
    "        for symptom in symptoms:\n",
    "            lst = df_dis_sym_c.iloc[row, 1]\n",
    "            if symp_dict2[symptom] in lst:\n",
    "                match += 1\n",
    "                total += 1\n",
    "            else:\n",
    "                total += 1\n",
    "        per_match = match/total\n",
    "        disease_index = df_dis_sym_c.iloc[row, 0]\n",
    "        disease = dis_dict[disease_index]\n",
    "        per_match_dic[(disease, disease_index)] = per_match\n",
    "    for value in per_match_dic.values():\n",
    "        value_lst.append(value)\n",
    "    value_lst = sorted(value_lst)\n",
    "    value_lst_top = value_lst[-1:-6:-1]\n",
    "    for (disease, index), value in per_match_dic.items():\n",
    "        if value in value_lst_top:\n",
    "            top_five.append(((disease, index), value))\n",
    "    return top_five"
   ]
  },
  {
   "cell_type": "code",
   "execution_count": 131,
   "metadata": {
    "scrolled": true
   },
   "outputs": [],
   "source": [
    "def return_dis_match(*symptoms, newconlist):\n",
    "    lst = return_disease2(*symptoms)\n",
    "    data = datatrsf(lst, newconlist)\n",
    "    data1 = outputclean(data)\n",
    "    data2 = datatrsf1(lst, data1)\n",
    "    data3 = get_prob(lst, data2)\n",
    "    return data3"
   ]
  },
  {
   "cell_type": "code",
   "execution_count": 136,
   "metadata": {},
   "outputs": [
    {
     "data": {
      "text/plain": [
       "[['Aplastic Anemia', 1.0],\n",
       " ['Hemophilia A', 1.0],\n",
       " ['Hemophilia B', 1.0],\n",
       " ['Leukemia', 1.0],\n",
       " ['Myelodysplastic Syndrome', 1.0],\n",
       " [\"von Willebrand's Disease\", 1.0]]"
      ]
     },
     "execution_count": 136,
     "metadata": {},
     "output_type": "execute_result"
    }
   ],
   "source": [
    "return_dis_match('Bleeding tendency', newconlist=conlist)"
   ]
  },
  {
   "cell_type": "code",
   "execution_count": null,
   "metadata": {},
   "outputs": [],
   "source": []
  },
  {
   "cell_type": "markdown",
   "metadata": {},
   "source": [
    "  "
   ]
  },
  {
   "cell_type": "code",
   "execution_count": null,
   "metadata": {},
   "outputs": [],
   "source": []
  },
  {
   "cell_type": "code",
   "execution_count": null,
   "metadata": {},
   "outputs": [],
   "source": []
  },
  {
   "cell_type": "code",
   "execution_count": null,
   "metadata": {},
   "outputs": [],
   "source": []
  },
  {
   "cell_type": "code",
   "execution_count": null,
   "metadata": {},
   "outputs": [],
   "source": [
    "\n",
    "\n"
   ]
  },
  {
   "cell_type": "code",
   "execution_count": null,
   "metadata": {},
   "outputs": [],
   "source": []
  },
  {
   "cell_type": "code",
   "execution_count": 39,
   "metadata": {},
   "outputs": [],
   "source": [
    "# df_disease['diagnose']\n",
    "# from collections import Counter \n",
    "\n",
    "# Counter = Counter(df_disease['diagnose'])\n",
    "\n",
    "# commonDis = Counter.most_common()\n",
    "# commonDis1 =[]\n",
    "\n",
    "# commonDis[0][0]\n",
    "\n",
    "# for x in range(0,len(commonDis)):\n",
    "#     #print(commonDis[x][0])\n",
    "#     commonDis1.append(commonDis[x][0])\n",
    "\n",
    "# commonDis2=[]   \n",
    "    \n",
    "# for x in commonDis1:\n",
    "#     y =  x.replace(\"\\x0b\",\" \")\n",
    "#     z= y.replace(\"\\x92 \",\" \")\n",
    "#     commonDis2.append(z)\n",
    "    \n",
    "# print(commonDis2)"
   ]
  },
  {
   "cell_type": "code",
   "execution_count": 40,
   "metadata": {},
   "outputs": [],
   "source": [
    "# commonDis1[0].replace(\"\\x0b\",\" \")"
   ]
  },
  {
   "cell_type": "code",
   "execution_count": null,
   "metadata": {},
   "outputs": [],
   "source": []
  }
 ],
 "metadata": {
  "kernelspec": {
   "display_name": "Python 3",
   "language": "python",
   "name": "python3"
  },
  "language_info": {
   "codemirror_mode": {
    "name": "ipython",
    "version": 3
   },
   "file_extension": ".py",
   "mimetype": "text/x-python",
   "name": "python",
   "nbconvert_exporter": "python",
   "pygments_lexer": "ipython3",
   "version": "3.7.3"
  }
 },
 "nbformat": 4,
 "nbformat_minor": 2
}
