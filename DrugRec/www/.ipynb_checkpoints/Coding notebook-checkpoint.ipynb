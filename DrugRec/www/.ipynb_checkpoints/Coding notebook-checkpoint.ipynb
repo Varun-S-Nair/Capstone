{
 "cells": [
  {
   "cell_type": "code",
   "execution_count": 1,
   "metadata": {},
   "outputs": [
    {
     "data": {
      "text/html": [
       "        <script type=\"text/javascript\">\n",
       "        window.PlotlyConfig = {MathJaxConfig: 'local'};\n",
       "        if (window.MathJax) {MathJax.Hub.Config({SVG: {font: \"STIX-Web\"}});}\n",
       "        if (typeof require !== 'undefined') {\n",
       "        require.undef(\"plotly\");\n",
       "        requirejs.config({\n",
       "            paths: {\n",
       "                'plotly': ['https://cdn.plot.ly/plotly-latest.min']\n",
       "            }\n",
       "        });\n",
       "        require(['plotly'], function(Plotly) {\n",
       "            window._Plotly = Plotly;\n",
       "        });\n",
       "        }\n",
       "        </script>\n",
       "        "
      ]
     },
     "metadata": {},
     "output_type": "display_data"
    }
   ],
   "source": [
    "import pandas as pd #Analysis \n",
    "import matplotlib.pyplot as plt #Visulization\n",
    "import seaborn as sns #Visulization\n",
    "import numpy as np #Analysis \n",
    "from scipy.stats import norm #Analysis \n",
    "from sklearn.preprocessing import StandardScaler #Analysis \n",
    "from scipy import stats #Analysis \n",
    "import warnings \n",
    "warnings.filterwarnings('ignore')\n",
    "%matplotlib inline\n",
    "import gc\n",
    "\n",
    "import os\n",
    "import string\n",
    "color = sns.color_palette()\n",
    "\n",
    "%matplotlib inline\n",
    "\n",
    "from plotly import tools\n",
    "import plotly.offline as py\n",
    "py.init_notebook_mode(connected=True)\n",
    "import plotly.graph_objs as go\n",
    "\n",
    "from sklearn import model_selection, preprocessing, metrics, ensemble, naive_bayes, linear_model\n",
    "from sklearn.feature_extraction.text import TfidfVectorizer, CountVectorizer\n",
    "from sklearn.decomposition import TruncatedSVD\n",
    "import lightgbm as lgb\n",
    "\n",
    "pd.options.mode.chained_assignment = None"
   ]
  },
  {
   "cell_type": "markdown",
   "metadata": {},
   "source": [
    "## Importing Data"
   ]
  },
  {
   "cell_type": "code",
   "execution_count": 2,
   "metadata": {},
   "outputs": [],
   "source": [
    "df_train = pd.read_csv(\"D:/Shuen's Documents/School Work/MIT/BeaverWorks/Medlytics/Capstone project/Data/kuc-hackathon-winter-2018/drugsComTrain_raw.csv\", parse_dates=[\"date\"])\n",
    "df_test = pd.read_csv(\"D:/Shuen's Documents/School Work/MIT/BeaverWorks/Medlytics/Capstone project/Data/kuc-hackathon-winter-2018/drugsComTest_raw.csv\", parse_dates=[\"date\"])"
   ]
  },
  {
   "cell_type": "code",
   "execution_count": 3,
   "metadata": {},
   "outputs": [],
   "source": [
    "df_all = pd.concat([df_train,df_test])"
   ]
  },
  {
   "cell_type": "code",
   "execution_count": 80,
   "metadata": {},
   "outputs": [],
   "source": [
    "df_disease = pd.read_csv(\"Data/sdsort/dia_t.csv\")\n",
    "df_symptoms = pd.read_csv(\"Data/sdsort/sym_t.csv\")\n",
    "df_dis_sym = pd.read_csv(\"Data/sdsort/diffsydiw.csv\")"
   ]
  },
  {
   "cell_type": "code",
   "execution_count": 81,
   "metadata": {},
   "outputs": [
    {
     "data": {
      "text/html": [
       "<div>\n",
       "<style scoped>\n",
       "    .dataframe tbody tr th:only-of-type {\n",
       "        vertical-align: middle;\n",
       "    }\n",
       "\n",
       "    .dataframe tbody tr th {\n",
       "        vertical-align: top;\n",
       "    }\n",
       "\n",
       "    .dataframe thead th {\n",
       "        text-align: right;\n",
       "    }\n",
       "</style>\n",
       "<table border=\"1\" class=\"dataframe\">\n",
       "  <thead>\n",
       "    <tr style=\"text-align: right;\">\n",
       "      <th></th>\n",
       "      <th>disease</th>\n",
       "      <th>symptom</th>\n",
       "      <th>weight</th>\n",
       "    </tr>\n",
       "  </thead>\n",
       "  <tbody>\n",
       "    <tr>\n",
       "      <th>0</th>\n",
       "      <td>1.0</td>\n",
       "      <td>7.0</td>\n",
       "      <td>1.0</td>\n",
       "    </tr>\n",
       "    <tr>\n",
       "      <th>1</th>\n",
       "      <td>1.0</td>\n",
       "      <td>275.0</td>\n",
       "      <td>1.0</td>\n",
       "    </tr>\n",
       "    <tr>\n",
       "      <th>2</th>\n",
       "      <td>1.0</td>\n",
       "      <td>173.0</td>\n",
       "      <td>1.0</td>\n",
       "    </tr>\n",
       "    <tr>\n",
       "      <th>3</th>\n",
       "      <td>1.0</td>\n",
       "      <td>54.0</td>\n",
       "      <td>1.0</td>\n",
       "    </tr>\n",
       "    <tr>\n",
       "      <th>4</th>\n",
       "      <td>1.0</td>\n",
       "      <td>32.0</td>\n",
       "      <td>1.0</td>\n",
       "    </tr>\n",
       "  </tbody>\n",
       "</table>\n",
       "</div>"
      ],
      "text/plain": [
       "   disease  symptom  weight\n",
       "0      1.0      7.0     1.0\n",
       "1      1.0    275.0     1.0\n",
       "2      1.0    173.0     1.0\n",
       "3      1.0     54.0     1.0\n",
       "4      1.0     32.0     1.0"
      ]
     },
     "execution_count": 81,
     "metadata": {},
     "output_type": "execute_result"
    }
   ],
   "source": [
    "df_dis_sym = df_dis_sym[['did', 'syd', 'wei']]\n",
    "df_dis_sym = df_dis_sym.sort_values(axis=0, by=['did'])\n",
    "df_dis_sym = df_dis_sym.reset_index(drop=True)\n",
    "df_dis_sym = df_dis_sym.rename(columns={\"did\": \"disease\", \"syd\": \"symptom\", \"wei\": \"weight\"})\n",
    "df_dis_sym = df_dis_sym.drop(axis=0, index=5568)\n",
    "df_dis_sym.head()"
   ]
  },
  {
   "cell_type": "code",
   "execution_count": 82,
   "metadata": {},
   "outputs": [
    {
     "data": {
      "text/html": [
       "<div>\n",
       "<style scoped>\n",
       "    .dataframe tbody tr th:only-of-type {\n",
       "        vertical-align: middle;\n",
       "    }\n",
       "\n",
       "    .dataframe tbody tr th {\n",
       "        vertical-align: top;\n",
       "    }\n",
       "\n",
       "    .dataframe thead th {\n",
       "        text-align: right;\n",
       "    }\n",
       "</style>\n",
       "<table border=\"1\" class=\"dataframe\">\n",
       "  <thead>\n",
       "    <tr style=\"text-align: right;\">\n",
       "      <th></th>\n",
       "      <th>did</th>\n",
       "      <th>diagnose</th>\n",
       "    </tr>\n",
       "  </thead>\n",
       "  <tbody>\n",
       "    <tr>\n",
       "      <th>0</th>\n",
       "      <td>1</td>\n",
       "      <td>Abdominal aortic aneurysm\u000b",
       "(enlarged major bloo...</td>\n",
       "    </tr>\n",
       "    <tr>\n",
       "      <th>1</th>\n",
       "      <td>2</td>\n",
       "      <td>Abdominal swelling</td>\n",
       "    </tr>\n",
       "    <tr>\n",
       "      <th>2</th>\n",
       "      <td>3</td>\n",
       "      <td>Abdominal trauma</td>\n",
       "    </tr>\n",
       "    <tr>\n",
       "      <th>3</th>\n",
       "      <td>4</td>\n",
       "      <td>Abrasions\u000b",
       " (scrapes)</td>\n",
       "    </tr>\n",
       "    <tr>\n",
       "      <th>4</th>\n",
       "      <td>5</td>\n",
       "      <td>ACE inhibitor induced cough\u000b",
       "blood pressure med...</td>\n",
       "    </tr>\n",
       "  </tbody>\n",
       "</table>\n",
       "</div>"
      ],
      "text/plain": [
       "   did                                           diagnose\n",
       "0    1  Abdominal aortic aneurysm\n",
       "(enlarged major bloo...\n",
       "1    2                                 Abdominal swelling\n",
       "2    3                                   Abdominal trauma\n",
       "3    4                               Abrasions\n",
       " (scrapes)\n",
       "4    5  ACE inhibitor induced cough\n",
       "blood pressure med..."
      ]
     },
     "execution_count": 82,
     "metadata": {},
     "output_type": "execute_result"
    }
   ],
   "source": [
    "df_disease.head()"
   ]
  },
  {
   "cell_type": "code",
   "execution_count": 83,
   "metadata": {},
   "outputs": [
    {
     "data": {
      "text/plain": [
       "1166"
      ]
     },
     "execution_count": 83,
     "metadata": {},
     "output_type": "execute_result"
    }
   ],
   "source": [
    "yea = list(df_disease.iloc[:,0])\n",
    "len(yea)"
   ]
  },
  {
   "cell_type": "markdown",
   "metadata": {},
   "source": [
    "## Defining function that returns match percent of disease given symptoms"
   ]
  },
  {
   "cell_type": "code",
   "execution_count": 84,
   "metadata": {},
   "outputs": [
    {
     "data": {
      "text/plain": [
       "1166"
      ]
     },
     "execution_count": 84,
     "metadata": {},
     "output_type": "execute_result"
    }
   ],
   "source": [
    "disease_list = []\n",
    "for item in df_dis_sym.iloc[:, 0]:\n",
    "    if item not in disease_list:\n",
    "        disease_list.append(item)\n",
    "len(disease_list)"
   ]
  },
  {
   "cell_type": "code",
   "execution_count": 144,
   "metadata": {},
   "outputs": [
    {
     "data": {
      "text/html": [
       "<div>\n",
       "<style scoped>\n",
       "    .dataframe tbody tr th:only-of-type {\n",
       "        vertical-align: middle;\n",
       "    }\n",
       "\n",
       "    .dataframe tbody tr th {\n",
       "        vertical-align: top;\n",
       "    }\n",
       "\n",
       "    .dataframe thead th {\n",
       "        text-align: right;\n",
       "    }\n",
       "</style>\n",
       "<table border=\"1\" class=\"dataframe\">\n",
       "  <thead>\n",
       "    <tr style=\"text-align: right;\">\n",
       "      <th></th>\n",
       "      <th>disease</th>\n",
       "      <th>symptoms</th>\n",
       "    </tr>\n",
       "  </thead>\n",
       "  <tbody>\n",
       "    <tr>\n",
       "      <th>0</th>\n",
       "      <td>1.0</td>\n",
       "      <td>[7.0, 32.0, 54.0, 173.0, 205.0, 275.0]</td>\n",
       "    </tr>\n",
       "    <tr>\n",
       "      <th>1</th>\n",
       "      <td>2.0</td>\n",
       "      <td>[99.0, 284.0]</td>\n",
       "    </tr>\n",
       "    <tr>\n",
       "      <th>2</th>\n",
       "      <td>3.0</td>\n",
       "      <td>[2.0, 102.0]</td>\n",
       "    </tr>\n",
       "    <tr>\n",
       "      <th>3</th>\n",
       "      <td>4.0</td>\n",
       "      <td>[6.0, 11.0, 13.0, 23.0, 39.0, 41.0, 57.0, 67.0...</td>\n",
       "    </tr>\n",
       "    <tr>\n",
       "      <th>4</th>\n",
       "      <td>5.0</td>\n",
       "      <td>[17.0, 126.0, 159.0, 194.0, 195.0]</td>\n",
       "    </tr>\n",
       "  </tbody>\n",
       "</table>\n",
       "</div>"
      ],
      "text/plain": [
       "   disease                                           symptoms\n",
       "0      1.0             [7.0, 32.0, 54.0, 173.0, 205.0, 275.0]\n",
       "1      2.0                                      [99.0, 284.0]\n",
       "2      3.0                                       [2.0, 102.0]\n",
       "3      4.0  [6.0, 11.0, 13.0, 23.0, 39.0, 41.0, 57.0, 67.0...\n",
       "4      5.0                 [17.0, 126.0, 159.0, 194.0, 195.0]"
      ]
     },
     "execution_count": 144,
     "metadata": {},
     "output_type": "execute_result"
    }
   ],
   "source": [
    "#creating new dataframe, condensed version of df_dis_sym\n",
    "df_dis_sym_c = pd.DataFrame(columns={'disease', 'symptoms'})\n",
    "sym_lst = []\n",
    "for row in range(len(df_dis_sym)):\n",
    "    if row == 0:\n",
    "        sym_lst.append(df_dis_sym.iloc[row, 1])\n",
    "    elif row == len(df_dis_sym)-1:\n",
    "        sym_lst = sorted(sym_lst)\n",
    "        df_dis_sym_c = df_dis_sym_c.append({'disease': df_dis_sym.iloc[row, 0], 'symptoms': sym_lst}, ignore_index=True)\n",
    "    elif (df_dis_sym.iloc[row, 0] == df_dis_sym.iloc[row-1, 0]):\n",
    "        sym_lst.append(df_dis_sym.iloc[row, 1])\n",
    "    elif (df_dis_sym.iloc[row, 0] != df_dis_sym.iloc[row-1, 0]):\n",
    "        sym_lst = sorted(sym_lst)\n",
    "        df_dis_sym_c = df_dis_sym_c.append({'disease': df_dis_sym.iloc[row-1, 0], 'symptoms': sym_lst}, ignore_index=True)\n",
    "        sym_lst = [df_dis_sym.iloc[row, 1]]\n",
    "columnsTitles=[\"disease\",\"symptoms\"]\n",
    "df_dis_sym_c=df_dis_sym_c.reindex(columns=columnsTitles)\n",
    "df_dis_sym_c.head()\n",
    "    "
   ]
  },
  {
   "cell_type": "code",
   "execution_count": 120,
   "metadata": {},
   "outputs": [
    {
     "data": {
      "text/html": [
       "<div>\n",
       "<style scoped>\n",
       "    .dataframe tbody tr th:only-of-type {\n",
       "        vertical-align: middle;\n",
       "    }\n",
       "\n",
       "    .dataframe tbody tr th {\n",
       "        vertical-align: top;\n",
       "    }\n",
       "\n",
       "    .dataframe thead th {\n",
       "        text-align: right;\n",
       "    }\n",
       "</style>\n",
       "<table border=\"1\" class=\"dataframe\">\n",
       "  <thead>\n",
       "    <tr style=\"text-align: right;\">\n",
       "      <th></th>\n",
       "      <th>did</th>\n",
       "      <th>diagnose</th>\n",
       "    </tr>\n",
       "  </thead>\n",
       "  <tbody>\n",
       "    <tr>\n",
       "      <th>0</th>\n",
       "      <td>1</td>\n",
       "      <td>Abdominal aortic aneurysm\u000b",
       "(enlarged major bloo...</td>\n",
       "    </tr>\n",
       "    <tr>\n",
       "      <th>1</th>\n",
       "      <td>2</td>\n",
       "      <td>Abdominal swelling</td>\n",
       "    </tr>\n",
       "    <tr>\n",
       "      <th>2</th>\n",
       "      <td>3</td>\n",
       "      <td>Abdominal trauma</td>\n",
       "    </tr>\n",
       "    <tr>\n",
       "      <th>3</th>\n",
       "      <td>4</td>\n",
       "      <td>Abrasions\u000b",
       " (scrapes)</td>\n",
       "    </tr>\n",
       "    <tr>\n",
       "      <th>4</th>\n",
       "      <td>5</td>\n",
       "      <td>ACE inhibitor induced cough\u000b",
       "blood pressure med...</td>\n",
       "    </tr>\n",
       "  </tbody>\n",
       "</table>\n",
       "</div>"
      ],
      "text/plain": [
       "   did                                           diagnose\n",
       "0    1  Abdominal aortic aneurysm\n",
       "(enlarged major bloo...\n",
       "1    2                                 Abdominal swelling\n",
       "2    3                                   Abdominal trauma\n",
       "3    4                               Abrasions\n",
       " (scrapes)\n",
       "4    5  ACE inhibitor induced cough\n",
       "blood pressure med..."
      ]
     },
     "execution_count": 120,
     "metadata": {},
     "output_type": "execute_result"
    }
   ],
   "source": [
    "# df_symptoms.head()\n",
    "df_disease.head()"
   ]
  },
  {
   "cell_type": "code",
   "execution_count": 116,
   "metadata": {},
   "outputs": [],
   "source": [
    "#creating a dictionary of values with the keys being the syd indexes and the values being the symptom (index to symptom)\n",
    "symp_dict = {}\n",
    "for i in range(len(df_symptoms)):\n",
    "    symp_dict[df_symptoms.iloc[i, 0]] = df_symptoms.iloc[i, 1]"
   ]
  },
  {
   "cell_type": "code",
   "execution_count": 118,
   "metadata": {},
   "outputs": [],
   "source": [
    "#creating opposite dictionary (symptom to index)\n",
    "symp_dict2 = {}\n",
    "for i in range(len(df_symptoms)):\n",
    "    symp_dict2[df_symptoms.iloc[i, 1]] = df_symptoms.iloc[i, 0]"
   ]
  },
  {
   "cell_type": "code",
   "execution_count": 121,
   "metadata": {},
   "outputs": [],
   "source": [
    "#creating a dictionary of values with the keys being the did indexes and the values being the disease (index to disease)\n",
    "dis_dict = {}\n",
    "for i in range(len(df_disease)):\n",
    "    dis_dict[df_disease.iloc[i, 0]] = df_disease.iloc[i, 1]"
   ]
  },
  {
   "cell_type": "code",
   "execution_count": 125,
   "metadata": {},
   "outputs": [],
   "source": [
    "#creating opposite dictionary (disease to index)\n",
    "dis_dict2 = {}\n",
    "for i in range(len(df_disease)):\n",
    "    dis_dict2[df_disease.iloc[i, 1]] = df_disease.iloc[i, 0]"
   ]
  },
  {
   "cell_type": "code",
   "execution_count": 186,
   "metadata": {},
   "outputs": [],
   "source": [
    "#returns the top five diseases with matching symptoms, if ties then returns all\n",
    "def return_disease(*symptoms):\n",
    "    top_five = []\n",
    "    value_lst = []\n",
    "    per_match_dic = {}\n",
    "    for row in range(len(df_dis_sym_c)):\n",
    "        match = 0\n",
    "        total = 0\n",
    "        for symptom in symptoms:\n",
    "            lst = df_dis_sym_c.iloc[row, 1]\n",
    "            if symp_dict2[symptom] in lst:\n",
    "                match += 1\n",
    "                total += 1\n",
    "            else:\n",
    "                total += 1\n",
    "        per_match = match/total\n",
    "        disease_index = df_dis_sym_c.iloc[row, 0]\n",
    "        disease = dis_dict[disease_index]\n",
    "        per_match_dic[disease] = per_match\n",
    "    for value in per_match_dic.values():\n",
    "        value_lst.append(value)\n",
    "    value_lst = sorted(value_lst)\n",
    "    value_lst_top = value_lst[-1:-6:-1]\n",
    "    for disease, value in per_match_dic.items():\n",
    "        if value in value_lst_top:\n",
    "            top_five.append((disease, value))\n",
    "    return top_five"
   ]
  },
  {
   "cell_type": "code",
   "execution_count": 187,
   "metadata": {},
   "outputs": [
    {
     "data": {
      "text/plain": [
       "[('Alcoholism', 0.6666666666666666),\n",
       " ('Appendicitis', 0.6666666666666666),\n",
       " ('Celiac disease\\x0bceliac sprue', 0.6666666666666666),\n",
       " ('Cholecystitis\\x0binflammation of the gallbladder', 0.6666666666666666),\n",
       " ('Cholelithiasis\\x0bgallstones', 0.6666666666666666),\n",
       " ('Colonic diverticulitis\\x0binflammation of pouches in the large intestine',\n",
       "  0.6666666666666666),\n",
       " ('Constipation', 0.6666666666666666),\n",
       " ('Endometriosis\\x0buterine tissue outside the uterus', 0.6666666666666666),\n",
       " ('Gastric ulcer\\x0bstomach ulcer', 0.6666666666666666),\n",
       " ('Gastroenteritis\\x0bintestinal infection', 0.6666666666666666),\n",
       " ('Gastroesophageal reflux\\x0bGERD, heartburn', 0.6666666666666666),\n",
       " ('Hernia', 0.6666666666666666),\n",
       " ('Inguinal hernia\\x0bgroin hernia', 0.6666666666666666),\n",
       " ('Irritable bowel syndrome\\x0bIBS, chronic intestinal pain and cramping',\n",
       "  0.6666666666666666),\n",
       " ('Ligament sprain\\x0bconnection between two bones', 0.6666666666666666),\n",
       " ('Kidney stone\\x0bnephrolithiasis', 0.6666666666666666),\n",
       " ('Ovarian cyst\\x0bfemale organ fluid collection', 0.6666666666666666),\n",
       " ('Pancreatitis\\x0bpancreas inflammation', 0.6666666666666666),\n",
       " ('Pancreas inflammation\\x0bpancreatitis, chronic', 0.6666666666666666),\n",
       " ('Pyelonephritis\\x0bkidney infection', 0.6666666666666666),\n",
       " ('Bladder infection\\x0bcystitis, UTI, urinary tract infection',\n",
       "  0.6666666666666666),\n",
       " ('Umbilical hernia\\x0bbelly button hernia', 0.6666666666666666),\n",
       " ('Lactose intolerance', 0.6666666666666666),\n",
       " ('Diverticulosis\\x0bweakening of the large intestine wall',\n",
       "  0.6666666666666666),\n",
       " ('Ventral hernia\\x0bbulging of the abdominal wall', 0.6666666666666666)]"
      ]
     },
     "execution_count": 187,
     "metadata": {},
     "output_type": "execute_result"
    }
   ],
   "source": [
    "return_disease('Upper abdominal pain', 'Lower abdominal pain', 'Alcohol abuse')"
   ]
  },
  {
   "cell_type": "code",
   "execution_count": 184,
   "metadata": {},
   "outputs": [],
   "source": [
    "#returns the top five diseases with matching symptoms, if ties then returns all, also return id\n",
    "def return_disease2(*symptoms):\n",
    "    top_five = []\n",
    "    value_lst = []\n",
    "    per_match_dic = {}\n",
    "    for row in range(len(df_dis_sym_c)):\n",
    "        match = 0\n",
    "        total = 0\n",
    "        for symptom in symptoms:\n",
    "            lst = df_dis_sym_c.iloc[row, 1]\n",
    "            if symp_dict2[symptom] in lst:\n",
    "                match += 1\n",
    "                total += 1\n",
    "            else:\n",
    "                total += 1\n",
    "        per_match = match/total\n",
    "        disease_index = df_dis_sym_c.iloc[row, 0]\n",
    "        disease = dis_dict[disease_index]\n",
    "        per_match_dic[(disease, disease_index)] = per_match\n",
    "    for value in per_match_dic.values():\n",
    "        value_lst.append(value)\n",
    "    value_lst = sorted(value_lst)\n",
    "    value_lst_top = value_lst[-1:-6:-1]\n",
    "    for (disease, index), value in per_match_dic.items():\n",
    "        if value in value_lst_top:\n",
    "            top_five.append(((disease, index), value))\n",
    "    return top_five"
   ]
  },
  {
   "cell_type": "code",
   "execution_count": 188,
   "metadata": {},
   "outputs": [
    {
     "data": {
      "text/plain": [
       "[(('Alcoholism', 25.0), 0.6666666666666666),\n",
       " (('Appendicitis', 56.0), 0.6666666666666666),\n",
       " (('Celiac disease\\x0bceliac sprue', 139.0), 0.6666666666666666),\n",
       " (('Cholecystitis\\x0binflammation of the gallbladder', 163.0),\n",
       "  0.6666666666666666),\n",
       " (('Cholelithiasis\\x0bgallstones', 165.0), 0.6666666666666666),\n",
       " (('Colonic diverticulitis\\x0binflammation of pouches in the large intestine',\n",
       "   179.0),\n",
       "  0.6666666666666666),\n",
       " (('Constipation', 187.0), 0.6666666666666666),\n",
       " (('Endometriosis\\x0buterine tissue outside the uterus', 241.0),\n",
       "  0.6666666666666666),\n",
       " (('Gastric ulcer\\x0bstomach ulcer', 306.0), 0.6666666666666666),\n",
       " (('Gastroenteritis\\x0bintestinal infection', 308.0), 0.6666666666666666),\n",
       " (('Gastroesophageal reflux\\x0bGERD, heartburn', 309.0), 0.6666666666666666),\n",
       " (('Hernia', 349.0), 0.6666666666666666),\n",
       " (('Inguinal hernia\\x0bgroin hernia', 388.0), 0.6666666666666666),\n",
       " (('Irritable bowel syndrome\\x0bIBS, chronic intestinal pain and cramping',\n",
       "   401.0),\n",
       "  0.6666666666666666),\n",
       " (('Ligament sprain\\x0bconnection between two bones', 426.0),\n",
       "  0.6666666666666666),\n",
       " (('Kidney stone\\x0bnephrolithiasis', 513.0), 0.6666666666666666),\n",
       " (('Ovarian cyst\\x0bfemale organ fluid collection', 539.0),\n",
       "  0.6666666666666666),\n",
       " (('Pancreatitis\\x0bpancreas inflammation', 546.0), 0.6666666666666666),\n",
       " (('Pancreas inflammation\\x0bpancreatitis, chronic', 547.0),\n",
       "  0.6666666666666666),\n",
       " (('Pyelonephritis\\x0bkidney infection', 637.0), 0.6666666666666666),\n",
       " (('Bladder infection\\x0bcystitis, UTI, urinary tract infection', 793.0),\n",
       "  0.6666666666666666),\n",
       " (('Umbilical hernia\\x0bbelly button hernia', 939.0), 0.6666666666666666),\n",
       " (('Lactose intolerance', 988.0), 0.6666666666666666),\n",
       " (('Diverticulosis\\x0bweakening of the large intestine wall', 991.0),\n",
       "  0.6666666666666666),\n",
       " (('Ventral hernia\\x0bbulging of the abdominal wall', 1115.0),\n",
       "  0.6666666666666666)]"
      ]
     },
     "execution_count": 188,
     "metadata": {},
     "output_type": "execute_result"
    }
   ],
   "source": [
    "return_disease2('Upper abdominal pain', 'Lower abdominal pain', 'Alcohol abuse')"
   ]
  },
  {
   "cell_type": "code",
   "execution_count": null,
   "metadata": {},
   "outputs": [],
   "source": []
  }
 ],
 "metadata": {
  "kernelspec": {
   "display_name": "Python 3",
   "language": "python",
   "name": "python3"
  },
  "language_info": {
   "codemirror_mode": {
    "name": "ipython",
    "version": 3
   },
   "file_extension": ".py",
   "mimetype": "text/x-python",
   "name": "python",
   "nbconvert_exporter": "python",
   "pygments_lexer": "ipython3",
   "version": "3.7.3"
  }
 },
 "nbformat": 4,
 "nbformat_minor": 2
}
